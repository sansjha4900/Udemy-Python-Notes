{
 "cells": [
  {
   "cell_type": "code",
   "execution_count": 1,
   "id": "b3640582",
   "metadata": {},
   "outputs": [],
   "source": [
    "def func():\n",
    "    return 1"
   ]
  },
  {
   "cell_type": "code",
   "execution_count": 2,
   "id": "6f082b28",
   "metadata": {},
   "outputs": [
    {
     "data": {
      "text/plain": [
       "1"
      ]
     },
     "execution_count": 2,
     "metadata": {},
     "output_type": "execute_result"
    }
   ],
   "source": [
    "func()"
   ]
  },
  {
   "cell_type": "code",
   "execution_count": 3,
   "id": "7a19e137",
   "metadata": {},
   "outputs": [
    {
     "data": {
      "text/plain": [
       "<function __main__.func()>"
      ]
     },
     "execution_count": 3,
     "metadata": {},
     "output_type": "execute_result"
    }
   ],
   "source": [
    "func"
   ]
  },
  {
   "cell_type": "markdown",
   "id": "f7bfe907",
   "metadata": {},
   "source": [
    "<h2><u><center>Return function & execute it within another when assigned to a varibale:</center><u></h2>"
   ]
  },
  {
   "cell_type": "code",
   "execution_count": 4,
   "id": "6585a7ba",
   "metadata": {},
   "outputs": [],
   "source": [
    "def hello():\n",
    "    return \"Hello\""
   ]
  },
  {
   "cell_type": "code",
   "execution_count": 5,
   "id": "3b93a56c",
   "metadata": {},
   "outputs": [
    {
     "data": {
      "text/plain": [
       "'Hello'"
      ]
     },
     "execution_count": 5,
     "metadata": {},
     "output_type": "execute_result"
    }
   ],
   "source": [
    "hello()"
   ]
  },
  {
   "cell_type": "code",
   "execution_count": 6,
   "id": "af0fe7a3",
   "metadata": {},
   "outputs": [
    {
     "data": {
      "text/plain": [
       "<function __main__.hello()>"
      ]
     },
     "execution_count": 6,
     "metadata": {},
     "output_type": "execute_result"
    }
   ],
   "source": [
    "hello"
   ]
  },
  {
   "cell_type": "code",
   "execution_count": 7,
   "id": "2cebf445",
   "metadata": {},
   "outputs": [],
   "source": [
    "say_hi = hello   # Function assigned to a var"
   ]
  },
  {
   "cell_type": "code",
   "execution_count": 8,
   "id": "124962b9",
   "metadata": {},
   "outputs": [
    {
     "data": {
      "text/plain": [
       "'Hello'"
      ]
     },
     "execution_count": 8,
     "metadata": {},
     "output_type": "execute_result"
    }
   ],
   "source": [
    "say_hi()"
   ]
  },
  {
   "cell_type": "code",
   "execution_count": 9,
   "id": "4edccd6e",
   "metadata": {},
   "outputs": [],
   "source": [
    "# To check whether greet is pointing to hello \n",
    "# or has it made its own copy of hello function"
   ]
  },
  {
   "cell_type": "code",
   "execution_count": 10,
   "id": "66db70ee",
   "metadata": {},
   "outputs": [],
   "source": [
    "del hello"
   ]
  },
  {
   "cell_type": "code",
   "execution_count": 11,
   "id": "eaf9a10d",
   "metadata": {},
   "outputs": [
    {
     "data": {
      "text/plain": [
       "<function __main__.hello()>"
      ]
     },
     "execution_count": 11,
     "metadata": {},
     "output_type": "execute_result"
    }
   ],
   "source": [
    "say_hi"
   ]
  },
  {
   "cell_type": "code",
   "execution_count": 12,
   "id": "4fefcc1c",
   "metadata": {},
   "outputs": [
    {
     "data": {
      "text/plain": [
       "'Hello'"
      ]
     },
     "execution_count": 12,
     "metadata": {},
     "output_type": "execute_result"
    }
   ],
   "source": [
    "say_hi()"
   ]
  },
  {
   "cell_type": "code",
   "execution_count": 13,
   "id": "3932cd32",
   "metadata": {},
   "outputs": [
    {
     "ename": "NameError",
     "evalue": "name 'hello' is not defined",
     "output_type": "error",
     "traceback": [
      "\u001b[1;31m---------------------------------------------------------------------------\u001b[0m",
      "\u001b[1;31mNameError\u001b[0m                                 Traceback (most recent call last)",
      "\u001b[1;32m<ipython-input-13-a75d7781aaeb>\u001b[0m in \u001b[0;36m<module>\u001b[1;34m\u001b[0m\n\u001b[1;32m----> 1\u001b[1;33m \u001b[0mhello\u001b[0m\u001b[1;33m(\u001b[0m\u001b[1;33m)\u001b[0m\u001b[1;33m\u001b[0m\u001b[1;33m\u001b[0m\u001b[0m\n\u001b[0m",
      "\u001b[1;31mNameError\u001b[0m: name 'hello' is not defined"
     ]
    }
   ],
   "source": [
    "hello()"
   ]
  },
  {
   "cell_type": "code",
   "execution_count": 14,
   "id": "288ce1c6",
   "metadata": {},
   "outputs": [],
   "source": [
    "# Proved, greet has made its own copy of hello"
   ]
  },
  {
   "cell_type": "markdown",
   "id": "ea48d8cf",
   "metadata": {},
   "source": [
    "### a) Accessing a function inside another function, scope limited:"
   ]
  },
  {
   "cell_type": "code",
   "execution_count": 15,
   "id": "47e9734e",
   "metadata": {},
   "outputs": [],
   "source": [
    "def hello(name=\"Jose\"):\n",
    "    print (\"hello() function executed\")\n",
    "    \n",
    "    def greet():\n",
    "        return (\"\\t greet() inside hello()\")\n",
    "    \n",
    "    def welcome():\n",
    "        return (\"\\t welcome() inside hello()\")\n",
    "    \n",
    "    print (greet())\n",
    "    print (welcome())\n",
    "    print (\"End of hello() function\")"
   ]
  },
  {
   "cell_type": "code",
   "execution_count": 16,
   "id": "802d205f",
   "metadata": {},
   "outputs": [
    {
     "name": "stdout",
     "output_type": "stream",
     "text": [
      "hello() function executed\n",
      "\t greet() inside hello()\n",
      "\t welcome() inside hello()\n",
      "End of hello() function\n"
     ]
    }
   ],
   "source": [
    "hello()"
   ]
  },
  {
   "cell_type": "code",
   "execution_count": 17,
   "id": "00d7c5f4",
   "metadata": {},
   "outputs": [
    {
     "ename": "NameError",
     "evalue": "name 'welcome' is not defined",
     "output_type": "error",
     "traceback": [
      "\u001b[1;31m---------------------------------------------------------------------------\u001b[0m",
      "\u001b[1;31mNameError\u001b[0m                                 Traceback (most recent call last)",
      "\u001b[1;32m<ipython-input-17-a401d7101853>\u001b[0m in \u001b[0;36m<module>\u001b[1;34m\u001b[0m\n\u001b[1;32m----> 1\u001b[1;33m \u001b[0mwelcome\u001b[0m\u001b[1;33m(\u001b[0m\u001b[1;33m)\u001b[0m\u001b[1;33m\u001b[0m\u001b[1;33m\u001b[0m\u001b[0m\n\u001b[0m",
      "\u001b[1;31mNameError\u001b[0m: name 'welcome' is not defined"
     ]
    }
   ],
   "source": [
    "welcome()"
   ]
  },
  {
   "cell_type": "code",
   "execution_count": 18,
   "id": "8d4d64d0",
   "metadata": {},
   "outputs": [
    {
     "ename": "NameError",
     "evalue": "name 'greet' is not defined",
     "output_type": "error",
     "traceback": [
      "\u001b[1;31m---------------------------------------------------------------------------\u001b[0m",
      "\u001b[1;31mNameError\u001b[0m                                 Traceback (most recent call last)",
      "\u001b[1;32m<ipython-input-18-db845682bfe7>\u001b[0m in \u001b[0;36m<module>\u001b[1;34m\u001b[0m\n\u001b[1;32m----> 1\u001b[1;33m \u001b[0mgreet\u001b[0m\u001b[1;33m(\u001b[0m\u001b[1;33m)\u001b[0m\u001b[1;33m\u001b[0m\u001b[1;33m\u001b[0m\u001b[0m\n\u001b[0m",
      "\u001b[1;31mNameError\u001b[0m: name 'greet' is not defined"
     ]
    }
   ],
   "source": [
    "greet()"
   ]
  },
  {
   "cell_type": "markdown",
   "id": "445baaa3",
   "metadata": {},
   "source": [
    "### b) Accessing a func inside another func, return func, scope global:"
   ]
  },
  {
   "cell_type": "code",
   "execution_count": 19,
   "id": "fe5b1dd4",
   "metadata": {},
   "outputs": [],
   "source": [
    "def hello(name=\"Jose\"):\n",
    "    print (\"hello() function executed\")\n",
    "    \n",
    "    def greet():\n",
    "        return (\"\\t greet() inside hello()\")\n",
    "    \n",
    "    def welcome():\n",
    "        return (\"\\t welcome() inside hello()\")\n",
    "    \n",
    "    print (\"Returning a function\")\n",
    "    \n",
    "    if name == \"Jose\":\n",
    "        return greet\n",
    "    else:\n",
    "        return welcome"
   ]
  },
  {
   "cell_type": "code",
   "execution_count": 20,
   "id": "f1cba13f",
   "metadata": {},
   "outputs": [
    {
     "name": "stdout",
     "output_type": "stream",
     "text": [
      "hello() function executed\n",
      "Returning a function\n"
     ]
    }
   ],
   "source": [
    "my_new_func1 = hello(\"Jose\")"
   ]
  },
  {
   "cell_type": "code",
   "execution_count": 21,
   "id": "7637edcf",
   "metadata": {},
   "outputs": [
    {
     "name": "stdout",
     "output_type": "stream",
     "text": [
      "<function hello.<locals>.greet at 0x000001E6B2460940>\n"
     ]
    }
   ],
   "source": [
    "print (my_new_func1)"
   ]
  },
  {
   "cell_type": "code",
   "execution_count": 22,
   "id": "833228ed",
   "metadata": {},
   "outputs": [
    {
     "name": "stdout",
     "output_type": "stream",
     "text": [
      "\t greet() inside hello()\n"
     ]
    }
   ],
   "source": [
    "print (my_new_func1())"
   ]
  },
  {
   "cell_type": "code",
   "execution_count": 23,
   "id": "ef489601",
   "metadata": {},
   "outputs": [
    {
     "name": "stdout",
     "output_type": "stream",
     "text": [
      "hello() function executed\n",
      "Returning a function\n"
     ]
    }
   ],
   "source": [
    "my_new_func2 = hello(\"Marcial\")"
   ]
  },
  {
   "cell_type": "code",
   "execution_count": 24,
   "id": "28bcd386",
   "metadata": {},
   "outputs": [
    {
     "name": "stdout",
     "output_type": "stream",
     "text": [
      "\t welcome() inside hello()\n"
     ]
    }
   ],
   "source": [
    "print (my_new_func2())"
   ]
  },
  {
   "cell_type": "markdown",
   "id": "659190b6",
   "metadata": {},
   "source": [
    "#### Another Example:"
   ]
  },
  {
   "cell_type": "code",
   "execution_count": 25,
   "id": "50889d97",
   "metadata": {},
   "outputs": [],
   "source": [
    "def cool():\n",
    "    \n",
    "    def super_cool():\n",
    "        return (\"I am very cool\")\n",
    "    return super_cool"
   ]
  },
  {
   "cell_type": "code",
   "execution_count": 26,
   "id": "48c4854e",
   "metadata": {},
   "outputs": [],
   "source": [
    "some_func = cool()"
   ]
  },
  {
   "cell_type": "code",
   "execution_count": 27,
   "id": "e4f6bdca",
   "metadata": {},
   "outputs": [
    {
     "data": {
      "text/plain": [
       "'I am very cool'"
      ]
     },
     "execution_count": 27,
     "metadata": {},
     "output_type": "execute_result"
    }
   ],
   "source": [
    "some_func()"
   ]
  },
  {
   "cell_type": "markdown",
   "id": "e3e16a55",
   "metadata": {},
   "source": [
    "<h2><u><center>Passing a function as an argument into another function:</ceter><u></h2>"
   ]
  },
  {
   "cell_type": "code",
   "execution_count": 28,
   "id": "27e3dcff",
   "metadata": {},
   "outputs": [],
   "source": [
    "def hello():\n",
    "    return \"Hi Jose!\""
   ]
  },
  {
   "cell_type": "code",
   "execution_count": 29,
   "id": "66f16fdd",
   "metadata": {},
   "outputs": [],
   "source": [
    "def other(some_def_func):\n",
    "    print (\"Other code runs here!\")\n",
    "    print (some_def_func())"
   ]
  },
  {
   "cell_type": "code",
   "execution_count": 30,
   "id": "ae79d394",
   "metadata": {},
   "outputs": [
    {
     "data": {
      "text/plain": [
       "<function __main__.hello()>"
      ]
     },
     "execution_count": 30,
     "metadata": {},
     "output_type": "execute_result"
    }
   ],
   "source": [
    "hello"
   ]
  },
  {
   "cell_type": "code",
   "execution_count": 31,
   "id": "8f761a31",
   "metadata": {},
   "outputs": [
    {
     "data": {
      "text/plain": [
       "'Hi Jose!'"
      ]
     },
     "execution_count": 31,
     "metadata": {},
     "output_type": "execute_result"
    }
   ],
   "source": [
    "hello()"
   ]
  },
  {
   "cell_type": "code",
   "execution_count": 32,
   "id": "a0d32eb6",
   "metadata": {},
   "outputs": [
    {
     "name": "stdout",
     "output_type": "stream",
     "text": [
      "Other code runs here!\n",
      "Hi Jose!\n"
     ]
    }
   ],
   "source": [
    "other(hello)"
   ]
  },
  {
   "cell_type": "markdown",
   "id": "2ddb7958",
   "metadata": {},
   "source": [
    "<h2><u><center>DECORATOR:<?center><u></h2>"
   ]
  },
  {
   "cell_type": "markdown",
   "id": "74120c36",
   "metadata": {},
   "source": [
    "### Concept:"
   ]
  },
  {
   "cell_type": "code",
   "execution_count": 34,
   "id": "170664dd",
   "metadata": {},
   "outputs": [],
   "source": [
    "def new_decorator(original_func):\n",
    "    \n",
    "    def warp_func():\n",
    "        \n",
    "        print (\"Extra code, before og func\")\n",
    "        \n",
    "        original_func()\n",
    "        \n",
    "        print (\"Extra code, after og func\")\n",
    "        \n",
    "    return warp_func"
   ]
  },
  {
   "cell_type": "code",
   "execution_count": 37,
   "id": "ed651b37",
   "metadata": {},
   "outputs": [],
   "source": [
    "def func_needs_decorator():\n",
    "    print (\"I wanna be decorated\")"
   ]
  },
  {
   "cell_type": "code",
   "execution_count": 38,
   "id": "d96964ed",
   "metadata": {},
   "outputs": [
    {
     "name": "stdout",
     "output_type": "stream",
     "text": [
      "I wanna be decorated\n"
     ]
    }
   ],
   "source": [
    "func_needs_decorator()"
   ]
  },
  {
   "cell_type": "code",
   "execution_count": 39,
   "id": "6987c407",
   "metadata": {},
   "outputs": [],
   "source": [
    "decorated_func = new_decorator(func_needs_decorator)"
   ]
  },
  {
   "cell_type": "code",
   "execution_count": 40,
   "id": "53bc39d1",
   "metadata": {},
   "outputs": [
    {
     "data": {
      "text/plain": [
       "<function __main__.new_decorator.<locals>.warp_func()>"
      ]
     },
     "execution_count": 40,
     "metadata": {},
     "output_type": "execute_result"
    }
   ],
   "source": [
    "decorated_func"
   ]
  },
  {
   "cell_type": "code",
   "execution_count": 41,
   "id": "3d2baff2",
   "metadata": {},
   "outputs": [
    {
     "name": "stdout",
     "output_type": "stream",
     "text": [
      "Extra code, before og func\n",
      "I wanna be decorated\n",
      "Extra code, after og func\n"
     ]
    }
   ],
   "source": [
    "decorated_func()"
   ]
  },
  {
   "cell_type": "markdown",
   "id": "8da7bcfe",
   "metadata": {},
   "source": [
    "### Use of @:"
   ]
  },
  {
   "cell_type": "code",
   "execution_count": 43,
   "id": "97006899",
   "metadata": {},
   "outputs": [],
   "source": [
    "@new_decorator\n",
    "def func_needs_decorator():\n",
    "    print (\"I wanna be decorated\")"
   ]
  },
  {
   "cell_type": "code",
   "execution_count": 44,
   "id": "79f67386",
   "metadata": {},
   "outputs": [
    {
     "data": {
      "text/plain": [
       "<function __main__.new_decorator.<locals>.warp_func()>"
      ]
     },
     "execution_count": 44,
     "metadata": {},
     "output_type": "execute_result"
    }
   ],
   "source": [
    "func_needs_decorator"
   ]
  },
  {
   "cell_type": "code",
   "execution_count": 45,
   "id": "01794a75",
   "metadata": {},
   "outputs": [
    {
     "name": "stdout",
     "output_type": "stream",
     "text": [
      "Extra code, before og func\n",
      "I wanna be decorated\n",
      "Extra code, after og func\n"
     ]
    }
   ],
   "source": [
    "func_needs_decorator()"
   ]
  },
  {
   "cell_type": "code",
   "execution_count": null,
   "id": "e705b09d",
   "metadata": {},
   "outputs": [],
   "source": []
  }
 ],
 "metadata": {
  "kernelspec": {
   "display_name": "Python 3",
   "language": "python",
   "name": "python3"
  },
  "language_info": {
   "codemirror_mode": {
    "name": "ipython",
    "version": 3
   },
   "file_extension": ".py",
   "mimetype": "text/x-python",
   "name": "python",
   "nbconvert_exporter": "python",
   "pygments_lexer": "ipython3",
   "version": "3.8.8"
  }
 },
 "nbformat": 4,
 "nbformat_minor": 5
}
