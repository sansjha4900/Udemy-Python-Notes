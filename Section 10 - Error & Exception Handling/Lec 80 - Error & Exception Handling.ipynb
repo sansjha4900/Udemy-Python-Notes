{
 "cells": [
  {
   "cell_type": "markdown",
   "id": "24ad5752",
   "metadata": {},
   "source": [
    "<b>\n",
    "    1. try - Code to be attempted, might lead to error. <br>\n",
    "    2. except - Code executed if there's error in try block. <br> \n",
    "    3. finally - Code to be executed, regardless of the error."
   ]
  },
  {
   "cell_type": "code",
   "execution_count": 1,
   "id": "eb8dc18d",
   "metadata": {},
   "outputs": [],
   "source": [
    "def add(n1,n2):\n",
    "    print (n1+n2)"
   ]
  },
  {
   "cell_type": "code",
   "execution_count": 2,
   "id": "d2cf5962",
   "metadata": {},
   "outputs": [
    {
     "name": "stdout",
     "output_type": "stream",
     "text": [
      "30\n"
     ]
    }
   ],
   "source": [
    "add(10,20)"
   ]
  },
  {
   "cell_type": "code",
   "execution_count": 3,
   "id": "a7f23a14",
   "metadata": {},
   "outputs": [],
   "source": [
    "num1 = 10"
   ]
  },
  {
   "cell_type": "code",
   "execution_count": 4,
   "id": "a49c7c05",
   "metadata": {},
   "outputs": [
    {
     "name": "stdout",
     "output_type": "stream",
     "text": [
      "Enter a num: 20\n"
     ]
    }
   ],
   "source": [
    "num2 = input(\"Enter a num: \")"
   ]
  },
  {
   "cell_type": "code",
   "execution_count": 5,
   "id": "b6e8fbfc",
   "metadata": {},
   "outputs": [
    {
     "ename": "TypeError",
     "evalue": "unsupported operand type(s) for +: 'int' and 'str'",
     "output_type": "error",
     "traceback": [
      "\u001b[1;31m---------------------------------------------------------------------------\u001b[0m",
      "\u001b[1;31mTypeError\u001b[0m                                 Traceback (most recent call last)",
      "\u001b[1;32m<ipython-input-5-6a8a700a6f84>\u001b[0m in \u001b[0;36m<module>\u001b[1;34m\u001b[0m\n\u001b[1;32m----> 1\u001b[1;33m \u001b[0madd\u001b[0m \u001b[1;33m(\u001b[0m\u001b[0mnum1\u001b[0m\u001b[1;33m,\u001b[0m\u001b[0mnum2\u001b[0m\u001b[1;33m)\u001b[0m  \u001b[1;31m# Error since num2 is str not int\u001b[0m\u001b[1;33m\u001b[0m\u001b[1;33m\u001b[0m\u001b[0m\n\u001b[0m\u001b[0;32m      2\u001b[0m \u001b[0mprint\u001b[0m \u001b[1;33m(\u001b[0m\u001b[1;34m\"This won't get executed!\"\u001b[0m\u001b[1;33m)\u001b[0m\u001b[1;33m\u001b[0m\u001b[1;33m\u001b[0m\u001b[0m\n",
      "\u001b[1;32m<ipython-input-1-4a7bdebfb720>\u001b[0m in \u001b[0;36madd\u001b[1;34m(n1, n2)\u001b[0m\n\u001b[0;32m      1\u001b[0m \u001b[1;32mdef\u001b[0m \u001b[0madd\u001b[0m\u001b[1;33m(\u001b[0m\u001b[0mn1\u001b[0m\u001b[1;33m,\u001b[0m\u001b[0mn2\u001b[0m\u001b[1;33m)\u001b[0m\u001b[1;33m:\u001b[0m\u001b[1;33m\u001b[0m\u001b[1;33m\u001b[0m\u001b[0m\n\u001b[1;32m----> 2\u001b[1;33m     \u001b[0mprint\u001b[0m \u001b[1;33m(\u001b[0m\u001b[0mn1\u001b[0m\u001b[1;33m+\u001b[0m\u001b[0mn2\u001b[0m\u001b[1;33m)\u001b[0m\u001b[1;33m\u001b[0m\u001b[1;33m\u001b[0m\u001b[0m\n\u001b[0m",
      "\u001b[1;31mTypeError\u001b[0m: unsupported operand type(s) for +: 'int' and 'str'"
     ]
    }
   ],
   "source": [
    "add (num1,num2)  # Error since num2 is str not int\n",
    "print (\"This won't get executed!\")"
   ]
  },
  {
   "cell_type": "code",
   "execution_count": 6,
   "id": "3bfa5794",
   "metadata": {},
   "outputs": [],
   "source": [
    "try:\n",
    "    # Want to attempt this code\n",
    "    # May or may not have an error\n",
    "    result = 10 + 20\n",
    "except:\n",
    "    print (\"Not adding correctly!\")"
   ]
  },
  {
   "cell_type": "code",
   "execution_count": 7,
   "id": "667a8daa",
   "metadata": {},
   "outputs": [
    {
     "data": {
      "text/plain": [
       "30"
      ]
     },
     "execution_count": 7,
     "metadata": {},
     "output_type": "execute_result"
    }
   ],
   "source": [
    "result"
   ]
  },
  {
   "cell_type": "markdown",
   "id": "96288597",
   "metadata": {},
   "source": [
    "<b> Try, Except, Else :"
   ]
  },
  {
   "cell_type": "code",
   "execution_count": 8,
   "id": "ad24ded2",
   "metadata": {},
   "outputs": [
    {
     "name": "stdout",
     "output_type": "stream",
     "text": [
      "Added correctly!\n",
      "30\n"
     ]
    }
   ],
   "source": [
    "try:\n",
    "    # Want to attempt this code\n",
    "    # May or may not have an error\n",
    "    result = 10 + 20\n",
    "    \n",
    "except:\n",
    "    # If there is error run except code\n",
    "    print (\"Not adding correctly!\")\n",
    "    \n",
    "else:\n",
    "    # If there is no error run else code\n",
    "    print (\"Added correctly!\")\n",
    "    print (result)\n",
    "    \n",
    "# If we do \"20\" then except code will run."
   ]
  },
  {
   "cell_type": "markdown",
   "id": "b3d5e875",
   "metadata": {},
   "source": [
    "<b>Case 1: Everything is fine, gives no error"
   ]
  },
  {
   "cell_type": "code",
   "execution_count": 9,
   "id": "f63a53c1",
   "metadata": {},
   "outputs": [
    {
     "name": "stdout",
     "output_type": "stream",
     "text": [
      "I always run\n"
     ]
    }
   ],
   "source": [
    "try:\n",
    "    f = open(\"testfile\", \"w\")\n",
    "    f.write(\"Write a test line\")\n",
    "    \n",
    "except TypeError:\n",
    "    print (\"A type error\")\n",
    "    \n",
    "except OSError:\n",
    "    print (\"An I/O error\")\n",
    "    \n",
    "finally:\n",
    "    print (\"I always run\")"
   ]
  },
  {
   "cell_type": "markdown",
   "id": "c7692527",
   "metadata": {},
   "source": [
    "<b>Case 2: Read instead of write mode, OS error"
   ]
  },
  {
   "cell_type": "code",
   "execution_count": 10,
   "id": "3c4503bb",
   "metadata": {},
   "outputs": [
    {
     "name": "stdout",
     "output_type": "stream",
     "text": [
      "An I/O error\n",
      "I always run\n"
     ]
    }
   ],
   "source": [
    "try:\n",
    "    f = open(\"testfile\", \"r\")\n",
    "    f.write(\"Write a test line\")\n",
    "    \n",
    "except TypeError:\n",
    "    print (\"A type error\")\n",
    "    \n",
    "except OSError:\n",
    "    print (\"An I/O error\")\n",
    "    \n",
    "# except:\n",
    "#   print (\"All other exceptions\")\n",
    "    \n",
    "finally:\n",
    "    print (\"I always run\")\n",
    "    "
   ]
  },
  {
   "cell_type": "markdown",
   "id": "570b7958",
   "metadata": {},
   "source": [
    "<b>Use of 3 in function:"
   ]
  },
  {
   "cell_type": "code",
   "execution_count": 13,
   "id": "fdbebcbc",
   "metadata": {},
   "outputs": [],
   "source": [
    "def ask_for_int():\n",
    "    \n",
    "    try:\n",
    "        result = int(input(\"Enter a num: \"))\n",
    "    except:\n",
    "        print (\"Provided is not a number\")\n",
    "    finally:\n",
    "        print (\"End of try/except/finally\")"
   ]
  },
  {
   "cell_type": "code",
   "execution_count": 14,
   "id": "f7820b4e",
   "metadata": {},
   "outputs": [
    {
     "name": "stdout",
     "output_type": "stream",
     "text": [
      "Enter a num: 10\n",
      "End of try/except/finally\n"
     ]
    }
   ],
   "source": [
    "ask_for_int()"
   ]
  },
  {
   "cell_type": "code",
   "execution_count": 15,
   "id": "30b8a2fb",
   "metadata": {},
   "outputs": [
    {
     "name": "stdout",
     "output_type": "stream",
     "text": [
      "Enter a num: \"10\"\n",
      "Provided is not a number\n",
      "End of try/except/finally\n"
     ]
    }
   ],
   "source": [
    "ask_for_int()"
   ]
  },
  {
   "cell_type": "markdown",
   "id": "a405e464",
   "metadata": {},
   "source": [
    "<b>Use of 3 in while loop:"
   ]
  },
  {
   "cell_type": "code",
   "execution_count": 7,
   "id": "a5dee850",
   "metadata": {},
   "outputs": [],
   "source": [
    "def ask_for_int():\n",
    "    \n",
    "    while True:\n",
    "        try:\n",
    "            result = int(input(\"Enter a num: \"))\n",
    "        except:\n",
    "            print (\"Provided is not a number\")\n",
    "            continue\n",
    "        else:\n",
    "            print (\"Yes ok, that's a number\")\n",
    "            break\n",
    "        finally:\n",
    "            print (\"I will ask you again \\n\")"
   ]
  },
  {
   "cell_type": "code",
   "execution_count": 8,
   "id": "e4860213",
   "metadata": {},
   "outputs": [
    {
     "name": "stdout",
     "output_type": "stream",
     "text": [
      "Enter a num: word\n",
      "Provided is not a number\n",
      "I will ask you again \n",
      "\n",
      "Enter a num: 10\n",
      "Yes ok, that's a number\n",
      "I will ask you again \n",
      "\n"
     ]
    }
   ],
   "source": [
    "ask_for_int()"
   ]
  },
  {
   "cell_type": "code",
   "execution_count": null,
   "id": "4b44fefd",
   "metadata": {},
   "outputs": [],
   "source": []
  }
 ],
 "metadata": {
  "kernelspec": {
   "display_name": "Python 3",
   "language": "python",
   "name": "python3"
  },
  "language_info": {
   "codemirror_mode": {
    "name": "ipython",
    "version": 3
   },
   "file_extension": ".py",
   "mimetype": "text/x-python",
   "name": "python",
   "nbconvert_exporter": "python",
   "pygments_lexer": "ipython3",
   "version": "3.8.8"
  }
 },
 "nbformat": 4,
 "nbformat_minor": 5
}
