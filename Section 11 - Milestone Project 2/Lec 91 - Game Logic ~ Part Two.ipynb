{
 "cells": [
  {
   "cell_type": "markdown",
   "id": "8a162fac",
   "metadata": {},
   "source": [
    "### Game Set-up:"
   ]
  },
  {
   "cell_type": "code",
   "execution_count": 1,
   "id": "4ae1dc58",
   "metadata": {},
   "outputs": [],
   "source": [
    "# Need to include codes from previous 2 notebook.\n",
    "# But haven't done as want to understand the logics separately."
   ]
  },
  {
   "cell_type": "code",
   "execution_count": 2,
   "id": "9da892aa",
   "metadata": {},
   "outputs": [
    {
     "ename": "NameError",
     "evalue": "name 'Player' is not defined",
     "output_type": "error",
     "traceback": [
      "\u001b[1;31m---------------------------------------------------------------------------\u001b[0m",
      "\u001b[1;31mNameError\u001b[0m                                 Traceback (most recent call last)",
      "\u001b[1;32m<ipython-input-2-9831cbeb519b>\u001b[0m in \u001b[0;36m<module>\u001b[1;34m\u001b[0m\n\u001b[1;32m----> 1\u001b[1;33m \u001b[0mplayer_one\u001b[0m \u001b[1;33m=\u001b[0m \u001b[0mPlayer\u001b[0m\u001b[1;33m(\u001b[0m\u001b[1;34m\"One\"\u001b[0m\u001b[1;33m)\u001b[0m\u001b[1;33m\u001b[0m\u001b[1;33m\u001b[0m\u001b[0m\n\u001b[0m\u001b[0;32m      2\u001b[0m \u001b[0mplayer_two\u001b[0m \u001b[1;33m=\u001b[0m \u001b[0mPlayer\u001b[0m\u001b[1;33m(\u001b[0m\u001b[1;34m\"Two\"\u001b[0m\u001b[1;33m)\u001b[0m\u001b[1;33m\u001b[0m\u001b[1;33m\u001b[0m\u001b[0m\n\u001b[0;32m      3\u001b[0m \u001b[1;33m\u001b[0m\u001b[0m\n\u001b[0;32m      4\u001b[0m \u001b[0mnew_deck\u001b[0m \u001b[1;33m=\u001b[0m \u001b[0mDeck\u001b[0m\u001b[1;33m(\u001b[0m\u001b[1;33m)\u001b[0m\u001b[1;33m\u001b[0m\u001b[1;33m\u001b[0m\u001b[0m\n\u001b[0;32m      5\u001b[0m \u001b[0mnew_deck\u001b[0m\u001b[1;33m.\u001b[0m\u001b[0mshuffle\u001b[0m\u001b[1;33m(\u001b[0m\u001b[1;33m)\u001b[0m\u001b[1;33m\u001b[0m\u001b[1;33m\u001b[0m\u001b[0m\n",
      "\u001b[1;31mNameError\u001b[0m: name 'Player' is not defined"
     ]
    }
   ],
   "source": [
    "player_one = Player(\"One\")\n",
    "player_two = Player(\"Two\")\n",
    "\n",
    "new_deck = Deck()\n",
    "new_deck.shuffle()\n",
    "\n",
    "for x in range(26):\n",
    "    player_one.add_cards(new_deck.deal_one())\n",
    "    player_two.add_cards(new_deck.deal_one())"
   ]
  },
  {
   "cell_type": "code",
   "execution_count": null,
   "id": "9ed9ac8f",
   "metadata": {},
   "outputs": [],
   "source": [
    "# len(player_one.all_cards) will be => 26\n",
    "# print (player_one.all_cards[0]) => King of Hearts"
   ]
  },
  {
   "cell_type": "markdown",
   "id": "d25ca939",
   "metadata": {},
   "source": [
    "### Game on case:"
   ]
  },
  {
   "cell_type": "code",
   "execution_count": null,
   "id": "7b028ca1",
   "metadata": {},
   "outputs": [],
   "source": [
    "game_on = True"
   ]
  },
  {
   "cell_type": "code",
   "execution_count": null,
   "id": "c0776d13",
   "metadata": {},
   "outputs": [],
   "source": [
    "# while game_on\n",
    "\n",
    "round_num = 0\n",
    "\n",
    "while game_on:\n",
    "    round_num += 1\n",
    "    print (f\"Round {round_num}\")\n",
    "    \n",
    "    if len(player_one.all_cards) == 0:\n",
    "        print (\"Player One, out of cards! Player Two Wins! \")\n",
    "        game_on = False\n",
    "        break\n",
    "        \n",
    "    if len(player_two.all_cards) == 0:\n",
    "        print (\"Player Two, out of cards! Player One Wins! \")\n",
    "        game_on = False\n",
    "        break\n",
    "    \n",
    "    #Start a new round\n",
    "    player_one_cards = []\n",
    "    player_one_cards.append(player_one.remove_one)\n",
    "    \n",
    "    player_two_cards = []\n",
    "    player_two_cards.append(player_two.remove_one)\n",
    "    \n",
    "    \n",
    "    # while at_war (comparison) -> In next notebook"
   ]
  }
 ],
 "metadata": {
  "kernelspec": {
   "display_name": "Python 3",
   "language": "python",
   "name": "python3"
  },
  "language_info": {
   "codemirror_mode": {
    "name": "ipython",
    "version": 3
   },
   "file_extension": ".py",
   "mimetype": "text/x-python",
   "name": "python",
   "nbconvert_exporter": "python",
   "pygments_lexer": "ipython3",
   "version": "3.8.8"
  }
 },
 "nbformat": 4,
 "nbformat_minor": 5
}
