{
 "cells": [
  {
   "cell_type": "markdown",
   "id": "32854a20",
   "metadata": {},
   "source": [
    "<h2><u><center>DECK CLASS:</center><u></h2>"
   ]
  },
  {
   "cell_type": "code",
   "execution_count": 1,
   "id": "8eb6a843",
   "metadata": {},
   "outputs": [],
   "source": [
    "# Card Class\n",
    "# Suit, Rank, Value\n",
    "# Defining at global level\n",
    "\n",
    "import random\n",
    "\n",
    "suits = ('Hearts', 'Diamonds', 'Spades', 'Clubs')\n",
    "ranks = ('Two', 'Three', 'Four', 'Five', 'Six', 'Seven', 'Eight', 'Nine', 'Ten', 'Jack', 'Queen', 'King', 'Ace')\n",
    "values = {'Two':2, 'Three':3, 'Four':4, 'Five':5, 'Six':6, 'Seven':7, 'Eight':8, 'Nine':9, 'Ten':10, 'Jack':11,\n",
    "         'Queen':12, 'King':13, 'Ace':14}"
   ]
  },
  {
   "cell_type": "code",
   "execution_count": 2,
   "id": "d1f3cec1",
   "metadata": {},
   "outputs": [],
   "source": [
    "class Card:\n",
    "    \n",
    "    def __init__(self, suit, rank):\n",
    "        self.suit = suit\n",
    "        self.rank = rank\n",
    "        self.value = values[rank]\n",
    "        \n",
    "    def __str__(self):\n",
    "        return self.rank + \" of \" + self.suit"
   ]
  },
  {
   "cell_type": "markdown",
   "id": "dedb9941",
   "metadata": {},
   "source": [
    "### <B> Defining Deck Class:"
   ]
  },
  {
   "cell_type": "code",
   "execution_count": 3,
   "id": "79344c8e",
   "metadata": {},
   "outputs": [],
   "source": [
    "class Deck:\n",
    "    def __init__(self):\n",
    "        \n",
    "        self.all_cards = []\n",
    "        \n",
    "        for suit in suits:\n",
    "            for rank in ranks:\n",
    "                # Creating a card object\n",
    "                created_card = Card(suit,rank)\n",
    "                self.all_cards.append(created_card)\n",
    "                \n",
    "    # Shuffling the cards randomly:\n",
    "    \n",
    "    def shuffle(self):\n",
    "        random.shuffle(self.all_cards)\n",
    "        \n",
    "    # Grabbing one card from the list:\n",
    "    \n",
    "    def deal_one(self):\n",
    "        return self.all_cards.pop()"
   ]
  },
  {
   "cell_type": "code",
   "execution_count": 4,
   "id": "2b85effd",
   "metadata": {},
   "outputs": [],
   "source": [
    "new_deck = Deck()  # Creating an instance"
   ]
  },
  {
   "cell_type": "code",
   "execution_count": 5,
   "id": "39d8a8bd",
   "metadata": {},
   "outputs": [],
   "source": [
    "# new_deck.all_cards --> Give location of all"
   ]
  },
  {
   "cell_type": "code",
   "execution_count": 6,
   "id": "4990174e",
   "metadata": {},
   "outputs": [],
   "source": [
    "first = new_deck.all_cards[0]  # Calling 1st item"
   ]
  },
  {
   "cell_type": "code",
   "execution_count": 7,
   "id": "127fa8ad",
   "metadata": {},
   "outputs": [
    {
     "data": {
      "text/plain": [
       "<__main__.Card at 0x241fa8d2f70>"
      ]
     },
     "execution_count": 7,
     "metadata": {},
     "output_type": "execute_result"
    }
   ],
   "source": [
    "first"
   ]
  },
  {
   "cell_type": "code",
   "execution_count": 8,
   "id": "57aaf293",
   "metadata": {},
   "outputs": [
    {
     "name": "stdout",
     "output_type": "stream",
     "text": [
      "2\n",
      "Two\n",
      "Hearts\n",
      "Two of Hearts\n"
     ]
    }
   ],
   "source": [
    "print (first.value)\n",
    "print (first.rank)\n",
    "print (first.suit)\n",
    "print (first)"
   ]
  },
  {
   "cell_type": "code",
   "execution_count": 9,
   "id": "6f6025df",
   "metadata": {},
   "outputs": [
    {
     "name": "stdout",
     "output_type": "stream",
     "text": [
      "Two of Hearts\n",
      "Three of Hearts\n",
      "Four of Hearts\n",
      "Five of Hearts\n",
      "Six of Hearts\n",
      "Seven of Hearts\n",
      "Eight of Hearts\n",
      "Nine of Hearts\n",
      "Ten of Hearts\n",
      "Jack of Hearts\n",
      "Queen of Hearts\n",
      "King of Hearts\n",
      "Ace of Hearts\n",
      "Two of Diamonds\n",
      "Three of Diamonds\n",
      "Four of Diamonds\n",
      "Five of Diamonds\n",
      "Six of Diamonds\n",
      "Seven of Diamonds\n",
      "Eight of Diamonds\n",
      "Nine of Diamonds\n",
      "Ten of Diamonds\n",
      "Jack of Diamonds\n",
      "Queen of Diamonds\n",
      "King of Diamonds\n",
      "Ace of Diamonds\n",
      "Two of Spades\n",
      "Three of Spades\n",
      "Four of Spades\n",
      "Five of Spades\n",
      "Six of Spades\n",
      "Seven of Spades\n",
      "Eight of Spades\n",
      "Nine of Spades\n",
      "Ten of Spades\n",
      "Jack of Spades\n",
      "Queen of Spades\n",
      "King of Spades\n",
      "Ace of Spades\n",
      "Two of Clubs\n",
      "Three of Clubs\n",
      "Four of Clubs\n",
      "Five of Clubs\n",
      "Six of Clubs\n",
      "Seven of Clubs\n",
      "Eight of Clubs\n",
      "Nine of Clubs\n",
      "Ten of Clubs\n",
      "Jack of Clubs\n",
      "Queen of Clubs\n",
      "King of Clubs\n",
      "Ace of Clubs\n"
     ]
    }
   ],
   "source": [
    "# Card object of deck gives output in order:\n",
    "\n",
    "for card_object in new_deck.all_cards:\n",
    "    print (card_object)"
   ]
  },
  {
   "cell_type": "code",
   "execution_count": 10,
   "id": "748c387f",
   "metadata": {},
   "outputs": [
    {
     "name": "stdout",
     "output_type": "stream",
     "text": [
      "Ace of Clubs\n"
     ]
    }
   ],
   "source": [
    "bottom_card = new_deck.all_cards[-1]\n",
    "print (bottom_card)"
   ]
  },
  {
   "cell_type": "code",
   "execution_count": 11,
   "id": "413a0f8d",
   "metadata": {},
   "outputs": [],
   "source": [
    "new_deck.shuffle()"
   ]
  },
  {
   "cell_type": "code",
   "execution_count": 12,
   "id": "376defa9",
   "metadata": {},
   "outputs": [
    {
     "name": "stdout",
     "output_type": "stream",
     "text": [
      "Two of Hearts\n"
     ]
    }
   ],
   "source": [
    "print (new_deck.all_cards[-1])"
   ]
  },
  {
   "cell_type": "code",
   "execution_count": 13,
   "id": "167d46df",
   "metadata": {},
   "outputs": [],
   "source": [
    "# Grabbing 1 out of 52 cars:\n",
    "\n",
    "new_deck.shuffle()"
   ]
  },
  {
   "cell_type": "code",
   "execution_count": 14,
   "id": "55bdec7d",
   "metadata": {},
   "outputs": [],
   "source": [
    "mycard = new_deck.deal_one()"
   ]
  },
  {
   "cell_type": "code",
   "execution_count": 15,
   "id": "628e1a65",
   "metadata": {},
   "outputs": [
    {
     "name": "stdout",
     "output_type": "stream",
     "text": [
      "Two of Hearts\n"
     ]
    }
   ],
   "source": [
    "print (mycard)"
   ]
  },
  {
   "cell_type": "code",
   "execution_count": 16,
   "id": "ae91e4cb",
   "metadata": {},
   "outputs": [
    {
     "data": {
      "text/plain": [
       "51"
      ]
     },
     "execution_count": 16,
     "metadata": {},
     "output_type": "execute_result"
    }
   ],
   "source": [
    "len(new_deck.all_cards)"
   ]
  },
  {
   "cell_type": "markdown",
   "id": "f2127041",
   "metadata": {},
   "source": [
    "<hr style=\"border:1px solid black\"> </hr>"
   ]
  },
  {
   "cell_type": "markdown",
   "id": "c496c743",
   "metadata": {},
   "source": [
    "<h2><u><center>PLAYER CLASS:</center><u></h2>"
   ]
  },
  {
   "cell_type": "code",
   "execution_count": 17,
   "id": "11e14bd4",
   "metadata": {},
   "outputs": [],
   "source": [
    "# A class to hold a player's current list of class\n",
    "# Translating the deck with top-botton to python list\n",
    "# Able to add a single or multiple cards to their list\n",
    "# Able to remove or add cards from list of card objects"
   ]
  },
  {
   "cell_type": "code",
   "execution_count": 18,
   "id": "a9533ec2",
   "metadata": {},
   "outputs": [],
   "source": [
    "class Player:\n",
    "    \n",
    "    def __init__(self, name):\n",
    "        self.name = name\n",
    "        self.all_cards = []\n",
    "        \n",
    "    def remove_one(self):\n",
    "        return self.all_cards.pop(0)\n",
    "    \n",
    "    def add_cards(self,new_cards):\n",
    "        if type(new_cards) == type([]):\n",
    "            # List of multiple card objects\n",
    "            self.all_cards.extend(new_cards)\n",
    "        else:\n",
    "            # For a single card object\n",
    "            self.all_cards.append(new_cards)\n",
    "            \n",
    "    def __str__(self):\n",
    "        return f\"Player {self.name} has {len(self.all_cards)} cards.\""
   ]
  },
  {
   "cell_type": "code",
   "execution_count": 19,
   "id": "3d0d2043",
   "metadata": {},
   "outputs": [],
   "source": [
    "new_player = Player(\"Jose\")"
   ]
  },
  {
   "cell_type": "code",
   "execution_count": 20,
   "id": "851e0783",
   "metadata": {},
   "outputs": [
    {
     "name": "stdout",
     "output_type": "stream",
     "text": [
      "Player Jose has 0 cards.\n"
     ]
    }
   ],
   "source": [
    "print (new_player)            # No card available for now"
   ]
  },
  {
   "cell_type": "code",
   "execution_count": 21,
   "id": "2e7fa138",
   "metadata": {},
   "outputs": [
    {
     "data": {
      "text/plain": [
       "<__main__.Card at 0x241fa8d2f70>"
      ]
     },
     "execution_count": 21,
     "metadata": {},
     "output_type": "execute_result"
    }
   ],
   "source": [
    "mycard"
   ]
  },
  {
   "cell_type": "code",
   "execution_count": 22,
   "id": "01d7497d",
   "metadata": {},
   "outputs": [
    {
     "name": "stdout",
     "output_type": "stream",
     "text": [
      "Two of Hearts\n"
     ]
    }
   ],
   "source": [
    "print (mycard)"
   ]
  },
  {
   "cell_type": "code",
   "execution_count": 23,
   "id": "deb3e94d",
   "metadata": {},
   "outputs": [],
   "source": [
    "new_player.add_cards(mycard)  # Adding a card from the deck"
   ]
  },
  {
   "cell_type": "code",
   "execution_count": 24,
   "id": "1caf431d",
   "metadata": {},
   "outputs": [
    {
     "name": "stdout",
     "output_type": "stream",
     "text": [
      "Player Jose has 1 cards.\n"
     ]
    }
   ],
   "source": [
    "print (new_player)"
   ]
  },
  {
   "cell_type": "code",
   "execution_count": 25,
   "id": "74da4d8a",
   "metadata": {},
   "outputs": [
    {
     "name": "stdout",
     "output_type": "stream",
     "text": [
      "Two of Hearts\n"
     ]
    }
   ],
   "source": [
    "print (new_player.all_cards[0])"
   ]
  },
  {
   "cell_type": "code",
   "execution_count": 26,
   "id": "56ff7b50",
   "metadata": {},
   "outputs": [],
   "source": [
    "new_player.add_cards([mycard,mycard,mycard]) # Multiple add"
   ]
  },
  {
   "cell_type": "code",
   "execution_count": 27,
   "id": "71e4f282",
   "metadata": {},
   "outputs": [
    {
     "name": "stdout",
     "output_type": "stream",
     "text": [
      "Player Jose has 4 cards.\n"
     ]
    }
   ],
   "source": [
    "print(new_player)"
   ]
  },
  {
   "cell_type": "code",
   "execution_count": 28,
   "id": "92414360",
   "metadata": {},
   "outputs": [
    {
     "name": "stdout",
     "output_type": "stream",
     "text": [
      "Two of Hearts\n"
     ]
    }
   ],
   "source": [
    "print (new_player.remove_one())   # Removing 1 card from new"
   ]
  },
  {
   "cell_type": "code",
   "execution_count": 29,
   "id": "cac8af48",
   "metadata": {},
   "outputs": [
    {
     "name": "stdout",
     "output_type": "stream",
     "text": [
      "Player Jose has 3 cards.\n"
     ]
    }
   ],
   "source": [
    "print (new_player)"
   ]
  },
  {
   "cell_type": "code",
   "execution_count": null,
   "id": "2c061d26",
   "metadata": {},
   "outputs": [],
   "source": []
  }
 ],
 "metadata": {
  "kernelspec": {
   "display_name": "Python 3",
   "language": "python",
   "name": "python3"
  },
  "language_info": {
   "codemirror_mode": {
    "name": "ipython",
    "version": 3
   },
   "file_extension": ".py",
   "mimetype": "text/x-python",
   "name": "python",
   "nbconvert_exporter": "python",
   "pygments_lexer": "ipython3",
   "version": "3.8.8"
  }
 },
 "nbformat": 4,
 "nbformat_minor": 5
}
