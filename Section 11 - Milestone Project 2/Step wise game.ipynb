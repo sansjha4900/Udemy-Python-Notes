{
 "cells": [
  {
   "cell_type": "markdown",
   "id": "83e9b6a0",
   "metadata": {},
   "source": [
    "<h2><u><center>CARD CLASS:</center><u></h2>"
   ]
  },
  {
   "cell_type": "code",
   "execution_count": 1,
   "id": "07ebcc72",
   "metadata": {},
   "outputs": [],
   "source": [
    "# Card Class\n",
    "# Suit, Rank, Value\n",
    "# Defining at global level\n",
    "\n",
    "import random\n",
    "\n",
    "suits = ('Hearts', 'Diamonds', 'Spades', 'Clubs')\n",
    "ranks = ('Two', 'Three', 'Four', 'Five', 'Six', 'Seven', 'Eight', 'Nine', 'Ten', 'Jack', 'Queen', 'King', 'Ace')\n",
    "values = {'Two':2, 'Three':3, 'Four':4, 'Five':5, 'Six':6, 'Seven':7, 'Eight':8, 'Nine':9, 'Ten':10, 'Jack':11,\n",
    "         'Queen':12, 'King':13, 'Ace':14}"
   ]
  },
  {
   "cell_type": "code",
   "execution_count": 2,
   "id": "1e238c5e",
   "metadata": {},
   "outputs": [],
   "source": [
    "class Card:\n",
    "    \n",
    "    def __init__(self, suit, rank):\n",
    "        self.suit = suit\n",
    "        self.rank = rank\n",
    "        self.value = values[rank]\n",
    "        \n",
    "    def __str__(self):\n",
    "        return self.rank + \" of \" + self.suit"
   ]
  },
  {
   "cell_type": "code",
   "execution_count": 3,
   "id": "b812e3f2",
   "metadata": {},
   "outputs": [],
   "source": [
    "two_hearts = Card(\"Hearts\", \"Two\")"
   ]
  },
  {
   "cell_type": "code",
   "execution_count": 4,
   "id": "1dd5f6ee",
   "metadata": {},
   "outputs": [
    {
     "name": "stdout",
     "output_type": "stream",
     "text": [
      "Two of Hearts\n"
     ]
    }
   ],
   "source": [
    "print (two_hearts)"
   ]
  },
  {
   "cell_type": "code",
   "execution_count": 5,
   "id": "c4f73bb4",
   "metadata": {},
   "outputs": [
    {
     "name": "stdout",
     "output_type": "stream",
     "text": [
      "Two\n",
      "Hearts\n",
      "2\n"
     ]
    }
   ],
   "source": [
    "print (two_hearts.rank)\n",
    "print (two_hearts.suit)\n",
    "print (values[two_hearts.rank])"
   ]
  },
  {
   "cell_type": "markdown",
   "id": "e0547d02",
   "metadata": {},
   "source": [
    "<b> After making values dictionary:"
   ]
  },
  {
   "cell_type": "code",
   "execution_count": 6,
   "id": "cbcc1ae6",
   "metadata": {},
   "outputs": [],
   "source": [
    "three_of_clubs = Card(\"Clubs\", \"Three\")"
   ]
  },
  {
   "cell_type": "code",
   "execution_count": 7,
   "id": "c11d5ace",
   "metadata": {},
   "outputs": [
    {
     "name": "stdout",
     "output_type": "stream",
     "text": [
      "Clubs\n",
      "Three\n",
      "3\n"
     ]
    }
   ],
   "source": [
    "print (three_of_clubs.suit)\n",
    "print (three_of_clubs.rank)\n",
    "print (three_of_clubs.value)"
   ]
  },
  {
   "cell_type": "markdown",
   "id": "82e47eca",
   "metadata": {},
   "source": [
    "<b> Comparison:"
   ]
  },
  {
   "cell_type": "code",
   "execution_count": 8,
   "id": "c1dc71fb",
   "metadata": {},
   "outputs": [
    {
     "data": {
      "text/plain": [
       "True"
      ]
     },
     "execution_count": 8,
     "metadata": {},
     "output_type": "execute_result"
    }
   ],
   "source": [
    "two_hearts.value < three_of_clubs.value"
   ]
  },
  {
   "cell_type": "markdown",
   "id": "610560f4",
   "metadata": {},
   "source": [
    "<hr style=\"border:1px solid black\"> </hr>"
   ]
  },
  {
   "cell_type": "markdown",
   "id": "bef95db5",
   "metadata": {},
   "source": [
    "<h2><u><center>DECK CLASS:</center><u></h2>"
   ]
  },
  {
   "cell_type": "code",
   "execution_count": 9,
   "id": "5b2781d6",
   "metadata": {},
   "outputs": [],
   "source": [
    "class Deck:\n",
    "    def __init__(self):\n",
    "        \n",
    "        self.all_cards = []\n",
    "        \n",
    "        for suit in suits:\n",
    "            for rank in ranks:\n",
    "                # Creating a card object\n",
    "                created_card = Card(suit,rank)\n",
    "                self.all_cards.append(created_card)\n",
    "                \n",
    "    # Shuffling the cards randomly:\n",
    "    \n",
    "    def shuffle(self):\n",
    "        random.shuffle(self.all_cards)\n",
    "        \n",
    "    # Grabbing one card from the list:\n",
    "    \n",
    "    def deal_one(self):\n",
    "        return self.all_cards.pop()"
   ]
  },
  {
   "cell_type": "code",
   "execution_count": 10,
   "id": "15007af0",
   "metadata": {},
   "outputs": [],
   "source": [
    "new_deck = Deck()  # Creating an instance"
   ]
  },
  {
   "cell_type": "code",
   "execution_count": 11,
   "id": "439c5670",
   "metadata": {},
   "outputs": [
    {
     "data": {
      "text/plain": [
       "[<__main__.Card at 0x2694514f880>,\n",
       " <__main__.Card at 0x2694514f700>,\n",
       " <__main__.Card at 0x2694514f130>,\n",
       " <__main__.Card at 0x2694514f940>,\n",
       " <__main__.Card at 0x2694514f760>,\n",
       " <__main__.Card at 0x2694514f790>,\n",
       " <__main__.Card at 0x2694514f370>,\n",
       " <__main__.Card at 0x2694514f8b0>,\n",
       " <__main__.Card at 0x2694514fb20>,\n",
       " <__main__.Card at 0x2694514fb50>,\n",
       " <__main__.Card at 0x2694514fa60>,\n",
       " <__main__.Card at 0x2694514fbb0>,\n",
       " <__main__.Card at 0x2694514fc40>,\n",
       " <__main__.Card at 0x2694514fc70>,\n",
       " <__main__.Card at 0x2694514fca0>,\n",
       " <__main__.Card at 0x2694514fd60>,\n",
       " <__main__.Card at 0x2694514fd90>,\n",
       " <__main__.Card at 0x2694514fe80>,\n",
       " <__main__.Card at 0x2694514f1c0>,\n",
       " <__main__.Card at 0x2694514f340>,\n",
       " <__main__.Card at 0x2694514f430>,\n",
       " <__main__.Card at 0x26945169070>,\n",
       " <__main__.Card at 0x269451690d0>,\n",
       " <__main__.Card at 0x26945169130>,\n",
       " <__main__.Card at 0x26945169190>,\n",
       " <__main__.Card at 0x269451691f0>,\n",
       " <__main__.Card at 0x26945169250>,\n",
       " <__main__.Card at 0x269451692b0>,\n",
       " <__main__.Card at 0x26945169310>,\n",
       " <__main__.Card at 0x26945169370>,\n",
       " <__main__.Card at 0x269451693d0>,\n",
       " <__main__.Card at 0x26945169430>,\n",
       " <__main__.Card at 0x26945169490>,\n",
       " <__main__.Card at 0x269451694f0>,\n",
       " <__main__.Card at 0x26945169550>,\n",
       " <__main__.Card at 0x269451695b0>,\n",
       " <__main__.Card at 0x26945169610>,\n",
       " <__main__.Card at 0x26945169670>,\n",
       " <__main__.Card at 0x269451696d0>,\n",
       " <__main__.Card at 0x26945169730>,\n",
       " <__main__.Card at 0x26945169790>,\n",
       " <__main__.Card at 0x269451697f0>,\n",
       " <__main__.Card at 0x26945169850>,\n",
       " <__main__.Card at 0x269451698b0>,\n",
       " <__main__.Card at 0x26945169910>,\n",
       " <__main__.Card at 0x26945169970>,\n",
       " <__main__.Card at 0x269451699d0>,\n",
       " <__main__.Card at 0x26945169a30>,\n",
       " <__main__.Card at 0x26945169a90>,\n",
       " <__main__.Card at 0x26945169af0>,\n",
       " <__main__.Card at 0x26945169b50>,\n",
       " <__main__.Card at 0x26945169bb0>]"
      ]
     },
     "execution_count": 11,
     "metadata": {},
     "output_type": "execute_result"
    }
   ],
   "source": [
    "new_deck.all_cards"
   ]
  },
  {
   "cell_type": "code",
   "execution_count": 12,
   "id": "18c5280b",
   "metadata": {},
   "outputs": [],
   "source": [
    "first = new_deck.all_cards[0]  # Calling 1st item"
   ]
  },
  {
   "cell_type": "code",
   "execution_count": 13,
   "id": "66224448",
   "metadata": {},
   "outputs": [
    {
     "data": {
      "text/plain": [
       "<__main__.Card at 0x2694514f880>"
      ]
     },
     "execution_count": 13,
     "metadata": {},
     "output_type": "execute_result"
    }
   ],
   "source": [
    "first"
   ]
  },
  {
   "cell_type": "code",
   "execution_count": 14,
   "id": "76a16b6c",
   "metadata": {},
   "outputs": [
    {
     "name": "stdout",
     "output_type": "stream",
     "text": [
      "2\n",
      "Two\n",
      "Hearts\n",
      "Two of Hearts\n"
     ]
    }
   ],
   "source": [
    "print (first.value)\n",
    "print (first.rank)\n",
    "print (first.suit)\n",
    "print (first)"
   ]
  },
  {
   "cell_type": "code",
   "execution_count": 15,
   "id": "8a3b231b",
   "metadata": {},
   "outputs": [
    {
     "name": "stdout",
     "output_type": "stream",
     "text": [
      "Two of Hearts\n",
      "Three of Hearts\n",
      "Four of Hearts\n",
      "Five of Hearts\n",
      "Six of Hearts\n",
      "Seven of Hearts\n",
      "Eight of Hearts\n",
      "Nine of Hearts\n",
      "Ten of Hearts\n",
      "Jack of Hearts\n",
      "Queen of Hearts\n",
      "King of Hearts\n",
      "Ace of Hearts\n",
      "Two of Diamonds\n",
      "Three of Diamonds\n",
      "Four of Diamonds\n",
      "Five of Diamonds\n",
      "Six of Diamonds\n",
      "Seven of Diamonds\n",
      "Eight of Diamonds\n",
      "Nine of Diamonds\n",
      "Ten of Diamonds\n",
      "Jack of Diamonds\n",
      "Queen of Diamonds\n",
      "King of Diamonds\n",
      "Ace of Diamonds\n",
      "Two of Spades\n",
      "Three of Spades\n",
      "Four of Spades\n",
      "Five of Spades\n",
      "Six of Spades\n",
      "Seven of Spades\n",
      "Eight of Spades\n",
      "Nine of Spades\n",
      "Ten of Spades\n",
      "Jack of Spades\n",
      "Queen of Spades\n",
      "King of Spades\n",
      "Ace of Spades\n",
      "Two of Clubs\n",
      "Three of Clubs\n",
      "Four of Clubs\n",
      "Five of Clubs\n",
      "Six of Clubs\n",
      "Seven of Clubs\n",
      "Eight of Clubs\n",
      "Nine of Clubs\n",
      "Ten of Clubs\n",
      "Jack of Clubs\n",
      "Queen of Clubs\n",
      "King of Clubs\n",
      "Ace of Clubs\n"
     ]
    }
   ],
   "source": [
    "# Card object of deck gives output in order:\n",
    "\n",
    "for card_object in new_deck.all_cards:\n",
    "    print (card_object)"
   ]
  },
  {
   "cell_type": "code",
   "execution_count": 16,
   "id": "3ba29822",
   "metadata": {},
   "outputs": [
    {
     "name": "stdout",
     "output_type": "stream",
     "text": [
      "Ace of Clubs\n"
     ]
    }
   ],
   "source": [
    "bottom_card = new_deck.all_cards[-1]\n",
    "print (bottom_card)"
   ]
  },
  {
   "cell_type": "code",
   "execution_count": 17,
   "id": "e852717c",
   "metadata": {},
   "outputs": [],
   "source": [
    "new_deck.shuffle()"
   ]
  },
  {
   "cell_type": "code",
   "execution_count": 18,
   "id": "ff666e19",
   "metadata": {},
   "outputs": [
    {
     "name": "stdout",
     "output_type": "stream",
     "text": [
      "Ten of Diamonds\n"
     ]
    }
   ],
   "source": [
    "print (new_deck.all_cards[-1])"
   ]
  },
  {
   "cell_type": "code",
   "execution_count": 19,
   "id": "78910c8b",
   "metadata": {},
   "outputs": [],
   "source": [
    "# Grabbing 1 out of 52 cars:\n",
    "\n",
    "new_deck.shuffle()"
   ]
  },
  {
   "cell_type": "code",
   "execution_count": 20,
   "id": "14dd42ec",
   "metadata": {},
   "outputs": [],
   "source": [
    "mycard = new_deck.deal_one()"
   ]
  },
  {
   "cell_type": "code",
   "execution_count": 21,
   "id": "e678e9b7",
   "metadata": {},
   "outputs": [
    {
     "name": "stdout",
     "output_type": "stream",
     "text": [
      "Nine of Clubs\n"
     ]
    }
   ],
   "source": [
    "print (mycard)"
   ]
  },
  {
   "cell_type": "code",
   "execution_count": 22,
   "id": "8bb49394",
   "metadata": {},
   "outputs": [
    {
     "data": {
      "text/plain": [
       "51"
      ]
     },
     "execution_count": 22,
     "metadata": {},
     "output_type": "execute_result"
    }
   ],
   "source": [
    "len(new_deck.all_cards)"
   ]
  },
  {
   "cell_type": "markdown",
   "id": "c1c62974",
   "metadata": {},
   "source": [
    "<hr style=\"border:1px solid black\"> </hr>"
   ]
  },
  {
   "cell_type": "markdown",
   "id": "279dd673",
   "metadata": {},
   "source": [
    "<h2><u><center>PLAYER CLASS:</center><u></h2>"
   ]
  },
  {
   "cell_type": "code",
   "execution_count": 23,
   "id": "bbb7d52c",
   "metadata": {},
   "outputs": [],
   "source": [
    "# A class to hold a player's current list of class\n",
    "# Translating the deck with top-botton to python list\n",
    "# Able to add a single or multiple cards to their list\n",
    "# Able to remove or add cards from list of card objects"
   ]
  },
  {
   "cell_type": "code",
   "execution_count": 24,
   "id": "dda559a2",
   "metadata": {},
   "outputs": [],
   "source": [
    "class Player:\n",
    "    \n",
    "    def __init__(self, name):\n",
    "        self.name = name\n",
    "        self.all_cards = []\n",
    "        \n",
    "    def remove_one(self):\n",
    "        return self.all_cards.pop(0)\n",
    "    \n",
    "    def add_cards(self,new_cards):\n",
    "        if type(new_cards) == type([]):\n",
    "            # List of multiple card objects\n",
    "            self.all_cards.extend(new_cards)\n",
    "        else:\n",
    "            # For a single card object\n",
    "            self.all_cards.append(new_cards)\n",
    "            \n",
    "    def __str__(self):\n",
    "        return f\"Player {self.name} has {len(self.all_cards)} cards.\""
   ]
  },
  {
   "cell_type": "code",
   "execution_count": 25,
   "id": "7d0fe9c4",
   "metadata": {},
   "outputs": [],
   "source": [
    "new_player = Player(\"Jose\")"
   ]
  },
  {
   "cell_type": "code",
   "execution_count": 26,
   "id": "5367da06",
   "metadata": {},
   "outputs": [
    {
     "name": "stdout",
     "output_type": "stream",
     "text": [
      "Player Jose has 0 cards.\n"
     ]
    }
   ],
   "source": [
    "print (new_player)            # No card available for now"
   ]
  },
  {
   "cell_type": "code",
   "execution_count": 27,
   "id": "430c4206",
   "metadata": {},
   "outputs": [
    {
     "data": {
      "text/plain": [
       "<__main__.Card at 0x269451699d0>"
      ]
     },
     "execution_count": 27,
     "metadata": {},
     "output_type": "execute_result"
    }
   ],
   "source": [
    "mycard"
   ]
  },
  {
   "cell_type": "code",
   "execution_count": 28,
   "id": "6265675d",
   "metadata": {},
   "outputs": [
    {
     "name": "stdout",
     "output_type": "stream",
     "text": [
      "Nine of Clubs\n"
     ]
    }
   ],
   "source": [
    "print (mycard)"
   ]
  },
  {
   "cell_type": "code",
   "execution_count": 29,
   "id": "b62615af",
   "metadata": {},
   "outputs": [],
   "source": [
    "new_player.add_cards(mycard)  # Adding a card from the deck"
   ]
  },
  {
   "cell_type": "code",
   "execution_count": 30,
   "id": "e0953076",
   "metadata": {},
   "outputs": [
    {
     "name": "stdout",
     "output_type": "stream",
     "text": [
      "Player Jose has 1 cards.\n"
     ]
    }
   ],
   "source": [
    "print (new_player)"
   ]
  },
  {
   "cell_type": "code",
   "execution_count": 31,
   "id": "0cf00e06",
   "metadata": {},
   "outputs": [
    {
     "name": "stdout",
     "output_type": "stream",
     "text": [
      "Nine of Clubs\n"
     ]
    }
   ],
   "source": [
    "print (new_player.all_cards[0])"
   ]
  },
  {
   "cell_type": "code",
   "execution_count": 32,
   "id": "2273c254",
   "metadata": {},
   "outputs": [],
   "source": [
    "new_player.add_cards([mycard,mycard,mycard]) # Multiple add"
   ]
  },
  {
   "cell_type": "code",
   "execution_count": 33,
   "id": "73107771",
   "metadata": {},
   "outputs": [
    {
     "name": "stdout",
     "output_type": "stream",
     "text": [
      "Player Jose has 4 cards.\n"
     ]
    }
   ],
   "source": [
    "print(new_player)"
   ]
  },
  {
   "cell_type": "code",
   "execution_count": 34,
   "id": "33bbefec",
   "metadata": {},
   "outputs": [
    {
     "name": "stdout",
     "output_type": "stream",
     "text": [
      "Nine of Clubs\n"
     ]
    }
   ],
   "source": [
    "print (new_player.remove_one())   # Removing 1 card from new"
   ]
  },
  {
   "cell_type": "code",
   "execution_count": 35,
   "id": "dd0ba135",
   "metadata": {},
   "outputs": [
    {
     "name": "stdout",
     "output_type": "stream",
     "text": [
      "Player Jose has 3 cards.\n"
     ]
    }
   ],
   "source": [
    "print (new_player)"
   ]
  },
  {
   "cell_type": "markdown",
   "id": "6f3cb1da",
   "metadata": {},
   "source": [
    "<hr style=\"border:1px solid black\"> </hr>"
   ]
  },
  {
   "cell_type": "markdown",
   "id": "d1690248",
   "metadata": {},
   "source": [
    "<h2><u><center>GAME LOGIC:</center><u></h2>"
   ]
  },
  {
   "cell_type": "markdown",
   "id": "65781c1c",
   "metadata": {},
   "source": [
    "### Game set-up:"
   ]
  },
  {
   "cell_type": "code",
   "execution_count": 36,
   "id": "9bf51c66",
   "metadata": {},
   "outputs": [],
   "source": [
    "player_one = Player(\"One\")\n",
    "player_two = Player(\"Two\")\n",
    "\n",
    "new_deck = Deck()\n",
    "new_deck.shuffle()\n",
    "\n",
    "for x in range(26):\n",
    "    player_one.add_cards(new_deck.deal_one())\n",
    "    player_two.add_cards(new_deck.deal_one())\n",
    "    \n",
    "game_on = True"
   ]
  },
  {
   "cell_type": "code",
   "execution_count": 37,
   "id": "d4c4cb75",
   "metadata": {},
   "outputs": [
    {
     "name": "stdout",
     "output_type": "stream",
     "text": [
      "Round 1\n",
      "Round 2\n",
      "Round 3\n",
      "Round 4\n",
      "Round 5\n",
      "Round 6\n",
      "WAR!\n",
      "Round 7\n",
      "Round 8\n",
      "Round 9\n",
      "Round 10\n",
      "Round 11\n",
      "Round 12\n",
      "Round 13\n",
      "Round 14\n",
      "Round 15\n",
      "WAR!\n",
      "Round 16\n",
      "WAR!\n",
      "Round 17\n",
      "WAR!\n",
      "Round 18\n",
      "Round 19\n",
      "Round 20\n",
      "Round 21\n",
      "Player Two out of cards! Game Over\n",
      "Player One Wins!\n"
     ]
    }
   ],
   "source": [
    "round_num = 0\n",
    "while game_on:\n",
    "    \n",
    "    round_num += 1\n",
    "    print(f\"Round {round_num}\")\n",
    "    \n",
    "    # Check to see if a player is out of cards:\n",
    "    if len(player_one.all_cards) == 0:\n",
    "        print(\"Player One out of cards! Game Over\")\n",
    "        print(\"Player Two Wins!\")\n",
    "        game_on = False\n",
    "        break\n",
    "        \n",
    "    if len(player_two.all_cards) == 0:\n",
    "        print(\"Player Two out of cards! Game Over\")\n",
    "        print(\"Player One Wins!\")\n",
    "        game_on = False\n",
    "        break\n",
    "    \n",
    "    # Otherwise, the game is still on!\n",
    "    \n",
    "    # Start a new round and reset current cards \"on the table\"\n",
    "    player_one_cards = []\n",
    "    player_one_cards.append(player_one.remove_one())\n",
    "    \n",
    "    player_two_cards = []\n",
    "    player_two_cards.append(player_two.remove_one())\n",
    "    \n",
    "    at_war = True\n",
    "\n",
    "    while at_war:\n",
    "\n",
    "\n",
    "        if player_one_cards[-1].value > player_two_cards[-1].value:\n",
    "\n",
    "            # Player One gets the cards\n",
    "            player_one.add_cards(player_one_cards)\n",
    "            player_one.add_cards(player_two_cards)\n",
    "            \n",
    "            \n",
    "            # No Longer at \"war\" , time for next round\n",
    "            at_war = False\n",
    "        \n",
    "        # Player Two Has higher Card\n",
    "        elif player_one_cards[-1].value < player_two_cards[-1].value:\n",
    "\n",
    "            # Player Two gets the cards\n",
    "            player_two.add_cards(player_one_cards)\n",
    "            player_two.add_cards(player_two_cards)\n",
    "            \n",
    "            # No Longer at \"war\" , time for next round\n",
    "            at_war = False\n",
    "\n",
    "        else:\n",
    "            print('WAR!')\n",
    "            # This occurs when the cards are equal.\n",
    "            # We'll grab another card each and continue the current war.\n",
    "            \n",
    "            # First check to see if player has enough cards\n",
    "            \n",
    "            # Check to see if a player is out of cards:\n",
    "            if len(player_one.all_cards) < 5:\n",
    "                print(\"Player One unable to play war! Game Over at War\")\n",
    "                print(\"Player Two Wins! Player One Loses!\")\n",
    "                game_on = False\n",
    "                break\n",
    "\n",
    "            elif len(player_two.all_cards) < 5:\n",
    "                print(\"Player Two unable to play war! Game Over at War\")\n",
    "                print(\"Player One Wins! Player One Loses!\")\n",
    "                game_on = False\n",
    "                break\n",
    "            # Otherwise, we're still at war, so we'll add the next cards\n",
    "            else:\n",
    "                for num in range(5):\n",
    "                    player_one_cards.append(player_one.remove_one())\n",
    "                    player_two_cards.append(player_two.remove_one())"
   ]
  },
  {
   "cell_type": "code",
   "execution_count": 38,
   "id": "c5b7091a",
   "metadata": {},
   "outputs": [
    {
     "name": "stdout",
     "output_type": "stream",
     "text": [
      "Nine of Diamonds\n"
     ]
    }
   ],
   "source": [
    "print (player_one.all_cards[0])"
   ]
  },
  {
   "cell_type": "code",
   "execution_count": 39,
   "id": "d0288c80",
   "metadata": {},
   "outputs": [
    {
     "data": {
      "text/plain": [
       "52"
      ]
     },
     "execution_count": 39,
     "metadata": {},
     "output_type": "execute_result"
    }
   ],
   "source": [
    "len(player_one.all_cards)\n"
   ]
  },
  {
   "cell_type": "markdown",
   "id": "627f0f2c",
   "metadata": {},
   "source": [
    "<h2><u><center>END</center><u></h2>"
   ]
  }
 ],
 "metadata": {
  "kernelspec": {
   "display_name": "Python 3",
   "language": "python",
   "name": "python3"
  },
  "language_info": {
   "codemirror_mode": {
    "name": "ipython",
    "version": 3
   },
   "file_extension": ".py",
   "mimetype": "text/x-python",
   "name": "python",
   "nbconvert_exporter": "python",
   "pygments_lexer": "ipython3",
   "version": "3.8.8"
  }
 },
 "nbformat": 4,
 "nbformat_minor": 5
}
