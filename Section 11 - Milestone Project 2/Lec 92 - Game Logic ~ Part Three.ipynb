{
 "cells": [
  {
   "cell_type": "code",
   "execution_count": 1,
   "id": "beafd9e0",
   "metadata": {},
   "outputs": [],
   "source": [
    "# inside while game_on:\n",
    "# while at_war"
   ]
  },
  {
   "cell_type": "code",
   "execution_count": null,
   "id": "d2cb492c",
   "metadata": {},
   "outputs": [],
   "source": [
    "at_war = True\n",
    "\n",
    "while at_war:\n",
    "    \n",
    "    if player_one_cards[-1].value > player_two_crads[-1].value:\n",
    "        \n",
    "        player_one.add_cards(player_one_cards)\n",
    "        player_one.add_cards(player_two_crads)\n",
    "        \n",
    "        at_war = False\n",
    "        \n",
    "    elif player_one_cards[-1].value < player_two_crads[-1].value:\n",
    "        \n",
    "        player_two.add_cards(player_one_cards)\n",
    "        player_two.add_cards(player_two_crads)\n",
    "        \n",
    "        at_war = False\n",
    "        \n",
    "    else:\n",
    "        print (\"WAR!\")\n",
    "        \n",
    "        if len(player_one.all_cards) < 5:\n",
    "            print (\"Player One unable to play.\")\n",
    "            print (\"Player Two Wins!\")\n",
    "            game_on = False\n",
    "            break\n",
    "            \n",
    "        \n",
    "        elif len(player_two.all_cards) < 5:\n",
    "            print (\"Player Two unable to play.\")\n",
    "            print (\"Player One Wins!\")\n",
    "            game_on = False\n",
    "            break\n",
    "            \n",
    "        else:\n",
    "            for num in range(5):\n",
    "                player_one_cards.append(player_one.remove_one())\n",
    "                player_two_cards.append(player_two.remove_one())"
   ]
  }
 ],
 "metadata": {
  "kernelspec": {
   "display_name": "Python 3",
   "language": "python",
   "name": "python3"
  },
  "language_info": {
   "codemirror_mode": {
    "name": "ipython",
    "version": 3
   },
   "file_extension": ".py",
   "mimetype": "text/x-python",
   "name": "python",
   "nbconvert_exporter": "python",
   "pygments_lexer": "ipython3",
   "version": "3.8.8"
  }
 },
 "nbformat": 4,
 "nbformat_minor": 5
}
