{
 "cells": [
  {
   "cell_type": "code",
   "execution_count": 4,
   "id": "8ed7c46f",
   "metadata": {},
   "outputs": [],
   "source": [
    "mystring = \"hello\"                         #Basic method"
   ]
  },
  {
   "cell_type": "code",
   "execution_count": 5,
   "id": "2a3974e6",
   "metadata": {},
   "outputs": [],
   "source": [
    "mylist = []\n",
    "\n",
    "for letter in mystring:\n",
    "    mylist.append(letter)"
   ]
  },
  {
   "cell_type": "code",
   "execution_count": 6,
   "id": "7eb32ae4",
   "metadata": {},
   "outputs": [
    {
     "data": {
      "text/plain": [
       "['h', 'e', 'l', 'l', 'o']"
      ]
     },
     "execution_count": 6,
     "metadata": {},
     "output_type": "execute_result"
    }
   ],
   "source": [
    "mylist"
   ]
  },
  {
   "cell_type": "code",
   "execution_count": 7,
   "id": "86d47e78",
   "metadata": {},
   "outputs": [],
   "source": [
    "mylist = [letter for letter in mystring]   #List comprehension"
   ]
  },
  {
   "cell_type": "code",
   "execution_count": 8,
   "id": "37bfbce5",
   "metadata": {},
   "outputs": [
    {
     "data": {
      "text/plain": [
       "['h', 'e', 'l', 'l', 'o']"
      ]
     },
     "execution_count": 8,
     "metadata": {},
     "output_type": "execute_result"
    }
   ],
   "source": [
    "mylist"
   ]
  },
  {
   "cell_type": "code",
   "execution_count": 9,
   "id": "ad1b480f",
   "metadata": {},
   "outputs": [],
   "source": [
    "mylist1 = [x for x in \"world\"]"
   ]
  },
  {
   "cell_type": "code",
   "execution_count": 10,
   "id": "fdb4b094",
   "metadata": {},
   "outputs": [
    {
     "data": {
      "text/plain": [
       "['w', 'o', 'r', 'l', 'd']"
      ]
     },
     "execution_count": 10,
     "metadata": {},
     "output_type": "execute_result"
    }
   ],
   "source": [
    "mylist1"
   ]
  },
  {
   "cell_type": "code",
   "execution_count": 11,
   "id": "8738d5ad",
   "metadata": {},
   "outputs": [],
   "source": [
    "mylist2 = [x for x in range (0,6)]"
   ]
  },
  {
   "cell_type": "code",
   "execution_count": 12,
   "id": "9d04598d",
   "metadata": {},
   "outputs": [
    {
     "data": {
      "text/plain": [
       "[0, 1, 2, 3, 4, 5]"
      ]
     },
     "execution_count": 12,
     "metadata": {},
     "output_type": "execute_result"
    }
   ],
   "source": [
    "mylist2"
   ]
  },
  {
   "cell_type": "markdown",
   "id": "8673ae7e",
   "metadata": {},
   "source": [
    "### By list comprehension:"
   ]
  },
  {
   "cell_type": "code",
   "execution_count": 13,
   "id": "146bf0b5",
   "metadata": {},
   "outputs": [],
   "source": [
    "mylist3 = [num**2 for num in range(0,5)]"
   ]
  },
  {
   "cell_type": "code",
   "execution_count": 14,
   "id": "becbfe1f",
   "metadata": {},
   "outputs": [
    {
     "data": {
      "text/plain": [
       "[0, 1, 4, 9, 16]"
      ]
     },
     "execution_count": 14,
     "metadata": {},
     "output_type": "execute_result"
    }
   ],
   "source": [
    "mylist3                     #Its same as doing- mylist3.append(num**2)"
   ]
  },
  {
   "cell_type": "markdown",
   "id": "832423c3",
   "metadata": {},
   "source": [
    "### By for & .append() method -"
   ]
  },
  {
   "cell_type": "code",
   "execution_count": 15,
   "id": "147b21e3",
   "metadata": {},
   "outputs": [],
   "source": [
    "mylist = []\n",
    "\n",
    "for num in range(0,5):\n",
    "    mylist.append(num**2)"
   ]
  },
  {
   "cell_type": "code",
   "execution_count": 16,
   "id": "ea382cc3",
   "metadata": {},
   "outputs": [
    {
     "data": {
      "text/plain": [
       "[0, 1, 4, 9, 16]"
      ]
     },
     "execution_count": 16,
     "metadata": {},
     "output_type": "execute_result"
    }
   ],
   "source": [
    "mylist"
   ]
  },
  {
   "cell_type": "code",
   "execution_count": 17,
   "id": "1b2a4ae6",
   "metadata": {},
   "outputs": [],
   "source": [
    "mylist4 = [x for x in range (0,6) if x%2==0]"
   ]
  },
  {
   "cell_type": "code",
   "execution_count": 18,
   "id": "564eb0b9",
   "metadata": {},
   "outputs": [
    {
     "data": {
      "text/plain": [
       "[0, 2, 4]"
      ]
     },
     "execution_count": 18,
     "metadata": {},
     "output_type": "execute_result"
    }
   ],
   "source": [
    "mylist4"
   ]
  },
  {
   "cell_type": "code",
   "execution_count": 19,
   "id": "c849019a",
   "metadata": {},
   "outputs": [],
   "source": [
    "mylist5 = [x**2 for x in range (0,6) if x%2==0]"
   ]
  },
  {
   "cell_type": "code",
   "execution_count": 20,
   "id": "b77c6c84",
   "metadata": {},
   "outputs": [
    {
     "data": {
      "text/plain": [
       "[0, 4, 16]"
      ]
     },
     "execution_count": 20,
     "metadata": {},
     "output_type": "execute_result"
    }
   ],
   "source": [
    "mylist5"
   ]
  },
  {
   "cell_type": "markdown",
   "id": "5827e0c9",
   "metadata": {},
   "source": [
    "### By list comprehension:"
   ]
  },
  {
   "cell_type": "code",
   "execution_count": 25,
   "id": "ba6491ae",
   "metadata": {},
   "outputs": [],
   "source": [
    "celsius = [0,10,20,34.5]\n",
    "\n",
    "fahrenheit = [((9/5)*temp + 32) for temp in celsius]"
   ]
  },
  {
   "cell_type": "code",
   "execution_count": 26,
   "id": "eb2f1437",
   "metadata": {},
   "outputs": [
    {
     "data": {
      "text/plain": [
       "[32.0, 50.0, 68.0, 94.1]"
      ]
     },
     "execution_count": 26,
     "metadata": {},
     "output_type": "execute_result"
    }
   ],
   "source": [
    "fahrenheit"
   ]
  },
  {
   "cell_type": "markdown",
   "id": "ba259a5f",
   "metadata": {},
   "source": [
    "### By for & .append() method -"
   ]
  },
  {
   "cell_type": "code",
   "execution_count": 23,
   "id": "f48dd4be",
   "metadata": {},
   "outputs": [],
   "source": [
    "fahrenheit = []\n",
    "\n",
    "for temp in celsius:\n",
    "    fahrenheit.append((9/5)*temp + 32)"
   ]
  },
  {
   "cell_type": "code",
   "execution_count": 24,
   "id": "6ff7c42a",
   "metadata": {},
   "outputs": [
    {
     "data": {
      "text/plain": [
       "[32.0, 50.0, 68.0, 94.1]"
      ]
     },
     "execution_count": 24,
     "metadata": {},
     "output_type": "execute_result"
    }
   ],
   "source": [
    "fahrenheit"
   ]
  },
  {
   "cell_type": "markdown",
   "id": "eccec136",
   "metadata": {},
   "source": [
    "<b><u>If else order:"
   ]
  },
  {
   "cell_type": "code",
   "execution_count": 27,
   "id": "aa702689",
   "metadata": {},
   "outputs": [],
   "source": [
    "result = [x if x%2==0 else \"odd\" for x in range(0,6)]"
   ]
  },
  {
   "cell_type": "code",
   "execution_count": 28,
   "id": "d864ebf8",
   "metadata": {},
   "outputs": [
    {
     "data": {
      "text/plain": [
       "[0, 'odd', 2, 'odd', 4, 'odd']"
      ]
     },
     "execution_count": 28,
     "metadata": {},
     "output_type": "execute_result"
    }
   ],
   "source": [
    "result"
   ]
  },
  {
   "cell_type": "code",
   "execution_count": 52,
   "id": "a1e31a9b",
   "metadata": {},
   "outputs": [],
   "source": [
    "result = []\n",
    "\n",
    "for x in range(0,6):\n",
    "    \n",
    "    if x%2==0:\n",
    "        result.append(x)\n",
    "    else:\n",
    "        result.append(\"odd\")"
   ]
  },
  {
   "cell_type": "code",
   "execution_count": 53,
   "id": "6cb327cb",
   "metadata": {},
   "outputs": [
    {
     "data": {
      "text/plain": [
       "[0, 'odd', 2, 'odd', 4, 'odd']"
      ]
     },
     "execution_count": 53,
     "metadata": {},
     "output_type": "execute_result"
    }
   ],
   "source": [
    "result"
   ]
  },
  {
   "cell_type": "markdown",
   "id": "7342b390",
   "metadata": {},
   "source": [
    "<b><u>Nested loop:"
   ]
  },
  {
   "cell_type": "code",
   "execution_count": 56,
   "id": "b5148e5c",
   "metadata": {},
   "outputs": [],
   "source": [
    "mylist = []\n",
    "\n",
    "for x in [2,4,6]:\n",
    "    for y in [1,5,10]:\n",
    "        mylist.append(x*y)"
   ]
  },
  {
   "cell_type": "code",
   "execution_count": 57,
   "id": "ea7ed59d",
   "metadata": {},
   "outputs": [
    {
     "data": {
      "text/plain": [
       "[2, 10, 20, 4, 20, 40, 6, 30, 60]"
      ]
     },
     "execution_count": 57,
     "metadata": {},
     "output_type": "execute_result"
    }
   ],
   "source": [
    "mylist"
   ]
  },
  {
   "cell_type": "code",
   "execution_count": 58,
   "id": "68281ae2",
   "metadata": {},
   "outputs": [],
   "source": [
    "mylist = [x*y for x in [2,4,6] for y in [1,5,10]]"
   ]
  },
  {
   "cell_type": "code",
   "execution_count": 59,
   "id": "b1b253df",
   "metadata": {},
   "outputs": [
    {
     "data": {
      "text/plain": [
       "[2, 10, 20, 4, 20, 40, 6, 30, 60]"
      ]
     },
     "execution_count": 59,
     "metadata": {},
     "output_type": "execute_result"
    }
   ],
   "source": [
    "mylist"
   ]
  },
  {
   "cell_type": "code",
   "execution_count": null,
   "id": "21b43b96",
   "metadata": {},
   "outputs": [],
   "source": []
  }
 ],
 "metadata": {
  "kernelspec": {
   "display_name": "Python 3",
   "language": "python",
   "name": "python3"
  },
  "language_info": {
   "codemirror_mode": {
    "name": "ipython",
    "version": 3
   },
   "file_extension": ".py",
   "mimetype": "text/x-python",
   "name": "python",
   "nbconvert_exporter": "python",
   "pygments_lexer": "ipython3",
   "version": "3.8.8"
  }
 },
 "nbformat": 4,
 "nbformat_minor": 5
}
