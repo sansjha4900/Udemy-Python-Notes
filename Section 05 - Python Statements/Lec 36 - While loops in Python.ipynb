{
 "cells": [
  {
   "cell_type": "code",
   "execution_count": 3,
   "id": "e23d628f",
   "metadata": {},
   "outputs": [
    {
     "name": "stdout",
     "output_type": "stream",
     "text": [
      "The value is 0\n",
      "The value is 1\n",
      "The value is 2\n",
      "The value is 3\n",
      "The value is 4\n",
      "The value is 5\n"
     ]
    }
   ],
   "source": [
    "x = 0\n",
    "while x <= 5:\n",
    "    print (f'The value is {x}')\n",
    "    x = x + 1"
   ]
  },
  {
   "cell_type": "code",
   "execution_count": 6,
   "id": "1cdfffc0",
   "metadata": {},
   "outputs": [
    {
     "name": "stdout",
     "output_type": "stream",
     "text": [
      "The current value is 0\n",
      "The current value is 1\n",
      "The current value is 2\n",
      "X is not less than 3.\n"
     ]
    }
   ],
   "source": [
    "x = 0\n",
    "while x < 3:\n",
    "    print (f'The current value is {x}')\n",
    "    x += 1\n",
    "else:\n",
    "    print (\"X is not less than 3.\")"
   ]
  },
  {
   "cell_type": "code",
   "execution_count": 7,
   "id": "c504f89e",
   "metadata": {},
   "outputs": [
    {
     "name": "stdout",
     "output_type": "stream",
     "text": [
      "X is not less than 3.\n"
     ]
    }
   ],
   "source": [
    "x = 10\n",
    "while x < 3:\n",
    "    print (f'The current value is {x}')\n",
    "    x += 1\n",
    "else:\n",
    "    print (\"X is not less than 3.\")"
   ]
  },
  {
   "cell_type": "markdown",
   "id": "735bc333",
   "metadata": {},
   "source": [
    "## break, continue, pass statements"
   ]
  },
  {
   "cell_type": "markdown",
   "id": "b1628ce9",
   "metadata": {},
   "source": [
    "Pass keyword:"
   ]
  },
  {
   "cell_type": "code",
   "execution_count": 2,
   "id": "8398adec",
   "metadata": {},
   "outputs": [
    {
     "name": "stdout",
     "output_type": "stream",
     "text": [
      "end of script\n"
     ]
    }
   ],
   "source": [
    "x = [1,2,3]\n",
    "\n",
    "for item in x:\n",
    "    pass\n",
    "print (\"end of script\")"
   ]
  },
  {
   "cell_type": "markdown",
   "id": "29210144",
   "metadata": {},
   "source": [
    "Continue keyword:"
   ]
  },
  {
   "cell_type": "code",
   "execution_count": 3,
   "id": "245c78a1",
   "metadata": {},
   "outputs": [],
   "source": [
    "mystring = \"sammy\""
   ]
  },
  {
   "cell_type": "code",
   "execution_count": 4,
   "id": "fbc3634a",
   "metadata": {},
   "outputs": [
    {
     "name": "stdout",
     "output_type": "stream",
     "text": [
      "s\n",
      "a\n",
      "m\n",
      "m\n",
      "y\n"
     ]
    }
   ],
   "source": [
    "for letter in mystring:\n",
    "    print (letter)"
   ]
  },
  {
   "cell_type": "code",
   "execution_count": 5,
   "id": "4d883794",
   "metadata": {},
   "outputs": [
    {
     "name": "stdout",
     "output_type": "stream",
     "text": [
      "s\n",
      "a\n",
      "y\n"
     ]
    }
   ],
   "source": [
    "for letter in mystring:\n",
    "    if letter == \"m\":\n",
    "        continue\n",
    "    print (letter)"
   ]
  },
  {
   "cell_type": "markdown",
   "id": "1e3c2da3",
   "metadata": {},
   "source": [
    "Break keyword:"
   ]
  },
  {
   "cell_type": "code",
   "execution_count": 7,
   "id": "e3d711cf",
   "metadata": {},
   "outputs": [
    {
     "name": "stdout",
     "output_type": "stream",
     "text": [
      "s\n",
      "a\n"
     ]
    }
   ],
   "source": [
    "for letter in mystring:\n",
    "    if letter == \"m\":\n",
    "        break\n",
    "    print (letter)"
   ]
  },
  {
   "cell_type": "code",
   "execution_count": 8,
   "id": "a8bd286f",
   "metadata": {},
   "outputs": [
    {
     "name": "stdout",
     "output_type": "stream",
     "text": [
      "0\n",
      "1\n",
      "2\n",
      "3\n",
      "4\n"
     ]
    }
   ],
   "source": [
    "x = 0\n",
    "\n",
    "while x < 5:\n",
    "    print (x)\n",
    "    x = x + 1"
   ]
  },
  {
   "cell_type": "code",
   "execution_count": 10,
   "id": "69dcf7f9",
   "metadata": {},
   "outputs": [
    {
     "name": "stdout",
     "output_type": "stream",
     "text": [
      "0\n",
      "1\n",
      "2\n"
     ]
    }
   ],
   "source": [
    "x = 0\n",
    "\n",
    "while x < 5:\n",
    "    \n",
    "    if x == 3:\n",
    "        break\n",
    "        \n",
    "    print (x)\n",
    "    x = x + 1"
   ]
  },
  {
   "cell_type": "code",
   "execution_count": 13,
   "id": "293a603d",
   "metadata": {},
   "outputs": [
    {
     "name": "stdout",
     "output_type": "stream",
     "text": [
      "0\n",
      "1\n",
      "2\n"
     ]
    }
   ],
   "source": [
    "x = 0\n",
    "\n",
    "while x < 5:\n",
    "    \n",
    "    print (x)\n",
    "    x = x + 1\n",
    "    \n",
    "    if x == 3:\n",
    "        break"
   ]
  },
  {
   "cell_type": "code",
   "execution_count": null,
   "id": "f676d520",
   "metadata": {},
   "outputs": [],
   "source": []
  }
 ],
 "metadata": {
  "kernelspec": {
   "display_name": "Python 3",
   "language": "python",
   "name": "python3"
  },
  "language_info": {
   "codemirror_mode": {
    "name": "ipython",
    "version": 3
   },
   "file_extension": ".py",
   "mimetype": "text/x-python",
   "name": "python",
   "nbconvert_exporter": "python",
   "pygments_lexer": "ipython3",
   "version": "3.8.8"
  }
 },
 "nbformat": 4,
 "nbformat_minor": 5
}
