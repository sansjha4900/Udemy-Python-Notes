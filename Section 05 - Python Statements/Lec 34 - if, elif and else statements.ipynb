{
 "cells": [
  {
   "cell_type": "code",
   "execution_count": 1,
   "id": "ba758438",
   "metadata": {},
   "outputs": [
    {
     "name": "stdout",
     "output_type": "stream",
     "text": [
      "Its true!\n"
     ]
    }
   ],
   "source": [
    "if True:\n",
    "    print ('Its true!')"
   ]
  },
  {
   "cell_type": "code",
   "execution_count": 2,
   "id": "e798834e",
   "metadata": {},
   "outputs": [
    {
     "name": "stdout",
     "output_type": "stream",
     "text": [
      "Its true!\n"
     ]
    }
   ],
   "source": [
    "if 3>2:\n",
    "    print ('Its true!')"
   ]
  },
  {
   "cell_type": "code",
   "execution_count": 3,
   "id": "c3682782",
   "metadata": {},
   "outputs": [
    {
     "name": "stdout",
     "output_type": "stream",
     "text": [
      "Feed me!\n"
     ]
    }
   ],
   "source": [
    "hungry = True\n",
    "if hungry:\n",
    "    print ('Feed me!')"
   ]
  },
  {
   "cell_type": "code",
   "execution_count": 5,
   "id": "bd33942b",
   "metadata": {},
   "outputs": [],
   "source": [
    "hungry = False\n",
    "if hungry:\n",
    "    print ('Feed me!')"
   ]
  },
  {
   "cell_type": "code",
   "execution_count": 6,
   "id": "37aa59ff",
   "metadata": {},
   "outputs": [
    {
     "name": "stdout",
     "output_type": "stream",
     "text": [
      "I'm full!\n"
     ]
    }
   ],
   "source": [
    "hungry = False\n",
    "\n",
    "if hungry:\n",
    "    print ('Feed me!')\n",
    "else:\n",
    "    print (\"I'm full!\")"
   ]
  },
  {
   "cell_type": "code",
   "execution_count": 10,
   "id": "e298e3f5",
   "metadata": {},
   "outputs": [
    {
     "name": "stdout",
     "output_type": "stream",
     "text": [
      "Money is cool!\n"
     ]
    }
   ],
   "source": [
    "loc = \"Bank\"\n",
    "\n",
    "if loc == \"Auto Shop\":\n",
    "    print (\"Cars are cool!\")\n",
    "elif loc == \"Bank\":\n",
    "    print (\"Money is cool!\")\n",
    "else:\n",
    "    print (\"I don't know much!\")"
   ]
  },
  {
   "cell_type": "code",
   "execution_count": 11,
   "id": "9ee94dc1",
   "metadata": {},
   "outputs": [
    {
     "name": "stdout",
     "output_type": "stream",
     "text": [
      "Cars are cool!\n"
     ]
    }
   ],
   "source": [
    "loc = \"Auto Shop\"\n",
    "\n",
    "if loc == \"Auto Shop\":\n",
    "    print (\"Cars are cool!\")\n",
    "elif loc == \"Bank\":\n",
    "    print (\"Money is cool!\")\n",
    "else:\n",
    "    print (\"I don't know much!\")"
   ]
  },
  {
   "cell_type": "code",
   "execution_count": 12,
   "id": "4ec601d0",
   "metadata": {},
   "outputs": [
    {
     "name": "stdout",
     "output_type": "stream",
     "text": [
      "You are welcome!\n"
     ]
    }
   ],
   "source": [
    "loc = \"Store\"\n",
    "\n",
    "if loc == \"Auto Shop\":\n",
    "    print (\"Cars are cool!\")\n",
    "elif loc == \"Bank\":\n",
    "    print (\"Money is cool!\")\n",
    "elif loc == \"Store\":\n",
    "    print (\"You are welcome!\")\n",
    "else:\n",
    "    print (\"I don't know much!\")"
   ]
  },
  {
   "cell_type": "code",
   "execution_count": 13,
   "id": "3920118a",
   "metadata": {},
   "outputs": [
    {
     "name": "stdout",
     "output_type": "stream",
     "text": [
      "Hello Sammy!\n"
     ]
    }
   ],
   "source": [
    "name = \"Sammy\"\n",
    "\n",
    "if name == \"Frankie\":\n",
    "    print (\"Hello Frankie!\")\n",
    "elif name == \"Sammy\":\n",
    "    print (\"Hello Sammy!\")\n",
    "else:\n",
    "    print (\"What's ur name?\")"
   ]
  },
  {
   "cell_type": "code",
   "execution_count": 14,
   "id": "3ff8a209",
   "metadata": {},
   "outputs": [
    {
     "name": "stdout",
     "output_type": "stream",
     "text": [
      "What's ur name?\n"
     ]
    }
   ],
   "source": [
    "name = \"Jose\"\n",
    "\n",
    "if name == \"Frankie\":\n",
    "    print (\"Hello Frankie!\")\n",
    "elif name == \"Sammy\":\n",
    "    print (\"Hello Sammy!\")\n",
    "else:\n",
    "    print (\"What's ur name?\")"
   ]
  },
  {
   "cell_type": "code",
   "execution_count": null,
   "id": "c249a866",
   "metadata": {},
   "outputs": [],
   "source": []
  }
 ],
 "metadata": {
  "kernelspec": {
   "display_name": "Python 3",
   "language": "python",
   "name": "python3"
  },
  "language_info": {
   "codemirror_mode": {
    "name": "ipython",
    "version": 3
   },
   "file_extension": ".py",
   "mimetype": "text/x-python",
   "name": "python",
   "nbconvert_exporter": "python",
   "pygments_lexer": "ipython3",
   "version": "3.8.8"
  }
 },
 "nbformat": 4,
 "nbformat_minor": 5
}
