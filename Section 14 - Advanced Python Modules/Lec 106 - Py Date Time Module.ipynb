{
 "cells": [
  {
   "cell_type": "code",
   "execution_count": 1,
   "id": "32034a54",
   "metadata": {},
   "outputs": [],
   "source": [
    "import datetime        # Only date or time"
   ]
  },
  {
   "cell_type": "markdown",
   "id": "7276b361",
   "metadata": {},
   "source": [
    "### Time functionality:"
   ]
  },
  {
   "cell_type": "code",
   "execution_count": 2,
   "id": "5f2892bc",
   "metadata": {},
   "outputs": [],
   "source": [
    "mytime = datetime.time(2,20)"
   ]
  },
  {
   "cell_type": "code",
   "execution_count": 3,
   "id": "41108f2c",
   "metadata": {},
   "outputs": [
    {
     "data": {
      "text/plain": [
       "20"
      ]
     },
     "execution_count": 3,
     "metadata": {},
     "output_type": "execute_result"
    }
   ],
   "source": [
    "mytime.minute"
   ]
  },
  {
   "cell_type": "code",
   "execution_count": 4,
   "id": "fbf48a4c",
   "metadata": {},
   "outputs": [
    {
     "data": {
      "text/plain": [
       "2"
      ]
     },
     "execution_count": 4,
     "metadata": {},
     "output_type": "execute_result"
    }
   ],
   "source": [
    "mytime.hour"
   ]
  },
  {
   "cell_type": "code",
   "execution_count": 5,
   "id": "5a35d806",
   "metadata": {},
   "outputs": [
    {
     "name": "stdout",
     "output_type": "stream",
     "text": [
      "02:20:00\n"
     ]
    }
   ],
   "source": [
    "print (mytime)"
   ]
  },
  {
   "cell_type": "code",
   "execution_count": 6,
   "id": "71ce144e",
   "metadata": {},
   "outputs": [],
   "source": [
    "mytime = datetime.time(13,20,1,20)"
   ]
  },
  {
   "cell_type": "code",
   "execution_count": 7,
   "id": "5ea973c5",
   "metadata": {},
   "outputs": [
    {
     "name": "stdout",
     "output_type": "stream",
     "text": [
      "13:20:01.000020\n"
     ]
    }
   ],
   "source": [
    "print (mytime)"
   ]
  },
  {
   "cell_type": "code",
   "execution_count": 8,
   "id": "52924672",
   "metadata": {},
   "outputs": [
    {
     "data": {
      "text/plain": [
       "datetime.time"
      ]
     },
     "execution_count": 8,
     "metadata": {},
     "output_type": "execute_result"
    }
   ],
   "source": [
    "type(mytime)"
   ]
  },
  {
   "cell_type": "markdown",
   "id": "3f876876",
   "metadata": {},
   "source": [
    "### Date functionality:"
   ]
  },
  {
   "cell_type": "code",
   "execution_count": 9,
   "id": "879b7d07",
   "metadata": {},
   "outputs": [],
   "source": [
    "today = datetime.date"
   ]
  },
  {
   "cell_type": "code",
   "execution_count": 10,
   "id": "c4dab245",
   "metadata": {},
   "outputs": [],
   "source": [
    "today = datetime.date.today()"
   ]
  },
  {
   "cell_type": "code",
   "execution_count": 11,
   "id": "dafce89d",
   "metadata": {},
   "outputs": [
    {
     "name": "stdout",
     "output_type": "stream",
     "text": [
      "2022-03-13\n"
     ]
    }
   ],
   "source": [
    "print (today)"
   ]
  },
  {
   "cell_type": "code",
   "execution_count": 12,
   "id": "ac855a2d",
   "metadata": {},
   "outputs": [
    {
     "name": "stdout",
     "output_type": "stream",
     "text": [
      "2022\n",
      "3\n",
      "13\n"
     ]
    }
   ],
   "source": [
    "print (today.year)\n",
    "print (today.month)\n",
    "print (today.day)"
   ]
  },
  {
   "cell_type": "code",
   "execution_count": 13,
   "id": "726f9f99",
   "metadata": {},
   "outputs": [
    {
     "data": {
      "text/plain": [
       "'Sun Mar 13 00:00:00 2022'"
      ]
     },
     "execution_count": 13,
     "metadata": {},
     "output_type": "execute_result"
    }
   ],
   "source": [
    "today.ctime()"
   ]
  },
  {
   "cell_type": "markdown",
   "id": "be775bd3",
   "metadata": {},
   "source": [
    "### Date & Time functions:"
   ]
  },
  {
   "cell_type": "code",
   "execution_count": 14,
   "id": "27d4fd75",
   "metadata": {},
   "outputs": [],
   "source": [
    "from datetime import datetime"
   ]
  },
  {
   "cell_type": "code",
   "execution_count": 15,
   "id": "2b024764",
   "metadata": {},
   "outputs": [],
   "source": [
    "mydatetime = datetime(2021,10,3,14,20,1)"
   ]
  },
  {
   "cell_type": "code",
   "execution_count": 16,
   "id": "ad1a93f6",
   "metadata": {},
   "outputs": [
    {
     "name": "stdout",
     "output_type": "stream",
     "text": [
      "2021-10-03 14:20:01\n"
     ]
    }
   ],
   "source": [
    "print (mydatetime)"
   ]
  },
  {
   "cell_type": "code",
   "execution_count": 17,
   "id": "17af3a52",
   "metadata": {},
   "outputs": [],
   "source": [
    "mydatetime = mydatetime.replace(year=2020)"
   ]
  },
  {
   "cell_type": "code",
   "execution_count": 18,
   "id": "cae8057f",
   "metadata": {},
   "outputs": [
    {
     "name": "stdout",
     "output_type": "stream",
     "text": [
      "2020-10-03 14:20:01\n"
     ]
    }
   ],
   "source": [
    "print (mydatetime)"
   ]
  },
  {
   "cell_type": "markdown",
   "id": "fdd6692e",
   "metadata": {},
   "source": [
    "### Arithmetic operation:"
   ]
  },
  {
   "cell_type": "markdown",
   "id": "fc5191c3",
   "metadata": {},
   "source": [
    "<b>a) DATE ~"
   ]
  },
  {
   "cell_type": "code",
   "execution_count": 19,
   "id": "df6e9a7c",
   "metadata": {},
   "outputs": [],
   "source": [
    "from datetime import date"
   ]
  },
  {
   "cell_type": "code",
   "execution_count": 20,
   "id": "b8b1ca22",
   "metadata": {},
   "outputs": [],
   "source": [
    "date1 = date(2021,11,3)\n",
    "date2 = date(2020,11,3)"
   ]
  },
  {
   "cell_type": "code",
   "execution_count": 21,
   "id": "3103c614",
   "metadata": {},
   "outputs": [],
   "source": [
    "dif_date = date1 - date2"
   ]
  },
  {
   "cell_type": "code",
   "execution_count": 22,
   "id": "fcf57b82",
   "metadata": {},
   "outputs": [
    {
     "data": {
      "text/plain": [
       "datetime.timedelta(days=365)"
      ]
     },
     "execution_count": 22,
     "metadata": {},
     "output_type": "execute_result"
    }
   ],
   "source": [
    "dif_date"
   ]
  },
  {
   "cell_type": "code",
   "execution_count": 23,
   "id": "393bb1e0",
   "metadata": {},
   "outputs": [
    {
     "data": {
      "text/plain": [
       "datetime.timedelta"
      ]
     },
     "execution_count": 23,
     "metadata": {},
     "output_type": "execute_result"
    }
   ],
   "source": [
    "type(dif_date)"
   ]
  },
  {
   "cell_type": "code",
   "execution_count": 24,
   "id": "d5d45867",
   "metadata": {},
   "outputs": [
    {
     "data": {
      "text/plain": [
       "365"
      ]
     },
     "execution_count": 24,
     "metadata": {},
     "output_type": "execute_result"
    }
   ],
   "source": [
    "dif_date.days"
   ]
  },
  {
   "cell_type": "code",
   "execution_count": 25,
   "id": "d8769068",
   "metadata": {},
   "outputs": [
    {
     "data": {
      "text/plain": [
       "0"
      ]
     },
     "execution_count": 25,
     "metadata": {},
     "output_type": "execute_result"
    }
   ],
   "source": [
    "dif_date.microseconds"
   ]
  },
  {
   "cell_type": "markdown",
   "id": "a00c1fb1",
   "metadata": {},
   "source": [
    "<b>b) DATETIME ~"
   ]
  },
  {
   "cell_type": "code",
   "execution_count": 26,
   "id": "ba6d0778",
   "metadata": {},
   "outputs": [],
   "source": [
    "datetime1 = datetime(2021,11,3,22,0)\n",
    "datetime2 = datetime(2020,11,3,12,0)"
   ]
  },
  {
   "cell_type": "code",
   "execution_count": 27,
   "id": "6f26e777",
   "metadata": {},
   "outputs": [
    {
     "data": {
      "text/plain": [
       "datetime.timedelta(days=365, seconds=36000)"
      ]
     },
     "execution_count": 27,
     "metadata": {},
     "output_type": "execute_result"
    }
   ],
   "source": [
    "datetime1 - datetime2"
   ]
  },
  {
   "cell_type": "code",
   "execution_count": 28,
   "id": "a375dfce",
   "metadata": {},
   "outputs": [],
   "source": [
    "mydiff = datetime1 - datetime2"
   ]
  },
  {
   "cell_type": "code",
   "execution_count": 29,
   "id": "748ea647",
   "metadata": {},
   "outputs": [
    {
     "data": {
      "text/plain": [
       "365"
      ]
     },
     "execution_count": 29,
     "metadata": {},
     "output_type": "execute_result"
    }
   ],
   "source": [
    "mydiff.days"
   ]
  },
  {
   "cell_type": "code",
   "execution_count": 30,
   "id": "48ffdb7e",
   "metadata": {},
   "outputs": [
    {
     "data": {
      "text/plain": [
       "31572000.0"
      ]
     },
     "execution_count": 30,
     "metadata": {},
     "output_type": "execute_result"
    }
   ],
   "source": [
    "mydiff.total_seconds()"
   ]
  }
 ],
 "metadata": {
  "kernelspec": {
   "display_name": "Python 3",
   "language": "python",
   "name": "python3"
  },
  "language_info": {
   "codemirror_mode": {
    "name": "ipython",
    "version": 3
   },
   "file_extension": ".py",
   "mimetype": "text/x-python",
   "name": "python",
   "nbconvert_exporter": "python",
   "pygments_lexer": "ipython3",
   "version": "3.8.8"
  }
 },
 "nbformat": 4,
 "nbformat_minor": 5
}
