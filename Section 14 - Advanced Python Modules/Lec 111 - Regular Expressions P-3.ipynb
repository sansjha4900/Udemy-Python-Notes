{
 "cells": [
  {
   "cell_type": "markdown",
   "id": "d6386106",
   "metadata": {},
   "source": [
    "## Additional Regex Syntax:"
   ]
  },
  {
   "cell_type": "code",
   "execution_count": 1,
   "id": "9a007e90",
   "metadata": {},
   "outputs": [],
   "source": [
    "import re"
   ]
  },
  {
   "cell_type": "markdown",
   "id": "3f61b5f6",
   "metadata": {},
   "source": [
    "### a) OR operator: |"
   ]
  },
  {
   "cell_type": "code",
   "execution_count": 2,
   "id": "187453c7",
   "metadata": {},
   "outputs": [
    {
     "data": {
      "text/plain": [
       "<re.Match object; span=(4, 7), match='cat'>"
      ]
     },
     "execution_count": 2,
     "metadata": {},
     "output_type": "execute_result"
    }
   ],
   "source": [
    "re.search(r\"cat\", \"The cat is here\")"
   ]
  },
  {
   "cell_type": "code",
   "execution_count": 3,
   "id": "3a413fd6",
   "metadata": {},
   "outputs": [],
   "source": [
    "re.search(r\"cat\", \"The dog is here\")"
   ]
  },
  {
   "cell_type": "code",
   "execution_count": 4,
   "id": "52d272c4",
   "metadata": {},
   "outputs": [
    {
     "data": {
      "text/plain": [
       "<re.Match object; span=(4, 7), match='cat'>"
      ]
     },
     "execution_count": 4,
     "metadata": {},
     "output_type": "execute_result"
    }
   ],
   "source": [
    "re.search(r\"cat|dog\", \"The cat is here\")"
   ]
  },
  {
   "cell_type": "code",
   "execution_count": 5,
   "id": "b7c6e79c",
   "metadata": {},
   "outputs": [
    {
     "data": {
      "text/plain": [
       "<re.Match object; span=(4, 7), match='dog'>"
      ]
     },
     "execution_count": 5,
     "metadata": {},
     "output_type": "execute_result"
    }
   ],
   "source": [
    "re.search(r\"cat|dog\", \"The dog is here\")"
   ]
  },
  {
   "cell_type": "markdown",
   "id": "dc8c62dd",
   "metadata": {},
   "source": [
    "### b) Wild Card Operator:"
   ]
  },
  {
   "cell_type": "code",
   "execution_count": 6,
   "id": "60c9a545",
   "metadata": {},
   "outputs": [
    {
     "data": {
      "text/plain": [
       "['at', 'at', 'at']"
      ]
     },
     "execution_count": 6,
     "metadata": {},
     "output_type": "execute_result"
    }
   ],
   "source": [
    "re.findall(r\"at\", \"The cat in the hat sat there.\")"
   ]
  },
  {
   "cell_type": "code",
   "execution_count": 7,
   "id": "2e795992",
   "metadata": {},
   "outputs": [
    {
     "data": {
      "text/plain": [
       "['cat', 'hat', 'sat']"
      ]
     },
     "execution_count": 7,
     "metadata": {},
     "output_type": "execute_result"
    }
   ],
   "source": [
    "re.findall(r\".at\", \"The cat in the hat sat there.\")"
   ]
  },
  {
   "cell_type": "code",
   "execution_count": 8,
   "id": "77437e2b",
   "metadata": {},
   "outputs": [],
   "source": [
    "# Random Ques:\n",
    "# n = 5\n",
    "# for i in range(n):\n",
    "#     for j in range(i+1):\n",
    "#         print (10-j*2, end=\" \")\n",
    "#     print()"
   ]
  },
  {
   "cell_type": "code",
   "execution_count": 9,
   "id": "ae633f0b",
   "metadata": {},
   "outputs": [
    {
     "name": "stdout",
     "output_type": "stream",
     "text": [
      "['cat', 'hat', 'lat']\n",
      "[' cat', ' hat', 'plat']\n",
      "['e cat', 'e hat', 'splat']\n"
     ]
    }
   ],
   "source": [
    "print (re.findall(r\".at\", \"The cat in the hat went splat.\"))\n",
    "print (re.findall(r\"..at\", \"The cat in the hat went splat.\"))\n",
    "print (re.findall(r\"...at\", \"The cat in the hat went splat.\"))"
   ]
  },
  {
   "cell_type": "markdown",
   "id": "c41c1132",
   "metadata": {},
   "source": [
    "### c) Starts & ends with:"
   ]
  },
  {
   "cell_type": "markdown",
   "id": "bcd24b16",
   "metadata": {},
   "source": [
    "#### (i) Starts with:"
   ]
  },
  {
   "cell_type": "code",
   "execution_count": 10,
   "id": "212470e3",
   "metadata": {},
   "outputs": [
    {
     "name": "stdout",
     "output_type": "stream",
     "text": [
      "['1']\n",
      "[]\n"
     ]
    }
   ],
   "source": [
    "print (re.findall(r'^\\d',\"1 is a number\"))\n",
    "print (re.findall(r'^\\d',\"The 1 is a number\"))"
   ]
  },
  {
   "cell_type": "markdown",
   "id": "b54f8bae",
   "metadata": {},
   "source": [
    "#### (ii) Ends with:"
   ]
  },
  {
   "cell_type": "code",
   "execution_count": 11,
   "id": "0a3fc3c2",
   "metadata": {},
   "outputs": [
    {
     "name": "stdout",
     "output_type": "stream",
     "text": [
      "['1']\n",
      "[]\n"
     ]
    }
   ],
   "source": [
    "print (re.findall(r'\\d$',\"Ends with number 1\"))\n",
    "print (re.findall(r'\\d$',\"The 1 is a number\"))"
   ]
  },
  {
   "cell_type": "markdown",
   "id": "6a860b26",
   "metadata": {},
   "source": [
    "#### (iii) Exclusion:"
   ]
  },
  {
   "cell_type": "code",
   "execution_count": 12,
   "id": "8f2a9993",
   "metadata": {},
   "outputs": [],
   "source": [
    "phrase = \"there are 3 numbers 34 inside 5 this sentence\""
   ]
  },
  {
   "cell_type": "code",
   "execution_count": 13,
   "id": "7b108625",
   "metadata": {},
   "outputs": [],
   "source": [
    "pattern = r'[^\\d]'"
   ]
  },
  {
   "cell_type": "code",
   "execution_count": 14,
   "id": "293291cf",
   "metadata": {},
   "outputs": [
    {
     "data": {
      "text/plain": [
       "['t',\n",
       " 'h',\n",
       " 'e',\n",
       " 'r',\n",
       " 'e',\n",
       " ' ',\n",
       " 'a',\n",
       " 'r',\n",
       " 'e',\n",
       " ' ',\n",
       " ' ',\n",
       " 'n',\n",
       " 'u',\n",
       " 'm',\n",
       " 'b',\n",
       " 'e',\n",
       " 'r',\n",
       " 's',\n",
       " ' ',\n",
       " ' ',\n",
       " 'i',\n",
       " 'n',\n",
       " 's',\n",
       " 'i',\n",
       " 'd',\n",
       " 'e',\n",
       " ' ',\n",
       " ' ',\n",
       " 't',\n",
       " 'h',\n",
       " 'i',\n",
       " 's',\n",
       " ' ',\n",
       " 's',\n",
       " 'e',\n",
       " 'n',\n",
       " 't',\n",
       " 'e',\n",
       " 'n',\n",
       " 'c',\n",
       " 'e']"
      ]
     },
     "execution_count": 14,
     "metadata": {},
     "output_type": "execute_result"
    }
   ],
   "source": [
    "re.findall(pattern,phrase)"
   ]
  },
  {
   "cell_type": "code",
   "execution_count": 15,
   "id": "3d3900ce",
   "metadata": {},
   "outputs": [],
   "source": [
    "pattern = r'[^\\d]+'"
   ]
  },
  {
   "cell_type": "code",
   "execution_count": 16,
   "id": "73ede1e9",
   "metadata": {},
   "outputs": [
    {
     "data": {
      "text/plain": [
       "['there are ', ' numbers ', ' inside ', ' this sentence']"
      ]
     },
     "execution_count": 16,
     "metadata": {},
     "output_type": "execute_result"
    }
   ],
   "source": [
    "re.findall(pattern,phrase)"
   ]
  },
  {
   "cell_type": "code",
   "execution_count": 17,
   "id": "08b4ccd1",
   "metadata": {},
   "outputs": [],
   "source": [
    "pattern = r'[^\\d ]+'"
   ]
  },
  {
   "cell_type": "code",
   "execution_count": 18,
   "id": "e0b55cb5",
   "metadata": {},
   "outputs": [
    {
     "data": {
      "text/plain": [
       "['there', 'are', 'numbers', 'inside', 'this', 'sentence']"
      ]
     },
     "execution_count": 18,
     "metadata": {},
     "output_type": "execute_result"
    }
   ],
   "source": [
    "re.findall(pattern,phrase)"
   ]
  },
  {
   "cell_type": "code",
   "execution_count": 19,
   "id": "88dd3a6a",
   "metadata": {},
   "outputs": [],
   "source": [
    "test_phrase = \"This is a string! But it has punctuation. How can we remove it?\""
   ]
  },
  {
   "cell_type": "code",
   "execution_count": 20,
   "id": "0cfcc7d5",
   "metadata": {},
   "outputs": [
    {
     "data": {
      "text/plain": [
       "['This is a string', ' But it has punctuation', ' How can we remove it']"
      ]
     },
     "execution_count": 20,
     "metadata": {},
     "output_type": "execute_result"
    }
   ],
   "source": [
    "re.findall(r\"[^!.?]+\", test_phrase)"
   ]
  },
  {
   "cell_type": "code",
   "execution_count": 21,
   "id": "0b7c53e1",
   "metadata": {},
   "outputs": [],
   "source": [
    "clean = re.findall(r\"[^!.? ]+\", test_phrase)"
   ]
  },
  {
   "cell_type": "code",
   "execution_count": 22,
   "id": "2116642c",
   "metadata": {},
   "outputs": [
    {
     "data": {
      "text/plain": [
       "['This',\n",
       " 'is',\n",
       " 'a',\n",
       " 'string',\n",
       " 'But',\n",
       " 'it',\n",
       " 'has',\n",
       " 'punctuation',\n",
       " 'How',\n",
       " 'can',\n",
       " 'we',\n",
       " 'remove',\n",
       " 'it']"
      ]
     },
     "execution_count": 22,
     "metadata": {},
     "output_type": "execute_result"
    }
   ],
   "source": [
    "clean"
   ]
  },
  {
   "cell_type": "code",
   "execution_count": 23,
   "id": "ce2ec87b",
   "metadata": {},
   "outputs": [
    {
     "name": "stdout",
     "output_type": "stream",
     "text": [
      "ThisisastringButithaspunctuationHowcanweremoveit\n",
      "This is a string But it has punctuation How can we remove it\n"
     ]
    }
   ],
   "source": [
    "print (\"\".join(clean))     # Without space\n",
    "print (\" \".join(clean))    # With space"
   ]
  },
  {
   "cell_type": "markdown",
   "id": "1682638e",
   "metadata": {},
   "source": [
    "#### (iv) Inclusion:"
   ]
  },
  {
   "cell_type": "code",
   "execution_count": 24,
   "id": "8a12b785",
   "metadata": {},
   "outputs": [],
   "source": [
    "text = \"Only find the hypen-words in this sentence. But you do not know how long-ish they are.\""
   ]
  },
  {
   "cell_type": "code",
   "execution_count": 25,
   "id": "480f091c",
   "metadata": {},
   "outputs": [],
   "source": [
    "pattern = r'[\\w]+'"
   ]
  },
  {
   "cell_type": "code",
   "execution_count": 26,
   "id": "0e057796",
   "metadata": {},
   "outputs": [
    {
     "data": {
      "text/plain": [
       "['Only',\n",
       " 'find',\n",
       " 'the',\n",
       " 'hypen',\n",
       " 'words',\n",
       " 'in',\n",
       " 'this',\n",
       " 'sentence',\n",
       " 'But',\n",
       " 'you',\n",
       " 'do',\n",
       " 'not',\n",
       " 'know',\n",
       " 'how',\n",
       " 'long',\n",
       " 'ish',\n",
       " 'they',\n",
       " 'are']"
      ]
     },
     "execution_count": 26,
     "metadata": {},
     "output_type": "execute_result"
    }
   ],
   "source": [
    "re.findall(pattern,text)"
   ]
  },
  {
   "cell_type": "code",
   "execution_count": 27,
   "id": "93c7487f",
   "metadata": {},
   "outputs": [],
   "source": [
    "pattern = r'[\\w]+-[\\w]+'"
   ]
  },
  {
   "cell_type": "code",
   "execution_count": 28,
   "id": "b373e8dd",
   "metadata": {},
   "outputs": [
    {
     "data": {
      "text/plain": [
       "['hypen-words', 'long-ish']"
      ]
     },
     "execution_count": 28,
     "metadata": {},
     "output_type": "execute_result"
    }
   ],
   "source": [
    "re.findall(pattern,text)"
   ]
  },
  {
   "cell_type": "code",
   "execution_count": 29,
   "id": "3afcfbda",
   "metadata": {},
   "outputs": [],
   "source": [
    "text = \"Hello, would you like some catfish?\"\n",
    "texttwo = \"Hello, would you like to take a catnap?\"\n",
    "textthree = \"Hello, have you seen this caterpillar?\""
   ]
  },
  {
   "cell_type": "code",
   "execution_count": 30,
   "id": "478179b4",
   "metadata": {},
   "outputs": [
    {
     "data": {
      "text/plain": [
       "<re.Match object; span=(27, 34), match='catfish'>"
      ]
     },
     "execution_count": 30,
     "metadata": {},
     "output_type": "execute_result"
    }
   ],
   "source": [
    "re.search(r'cat(fish|nap|claw)',text)"
   ]
  },
  {
   "cell_type": "code",
   "execution_count": 31,
   "id": "815fbdd7",
   "metadata": {},
   "outputs": [
    {
     "data": {
      "text/plain": [
       "<re.Match object; span=(32, 38), match='catnap'>"
      ]
     },
     "execution_count": 31,
     "metadata": {},
     "output_type": "execute_result"
    }
   ],
   "source": [
    "re.search(r'cat(fish|nap|claw)',texttwo)"
   ]
  },
  {
   "cell_type": "code",
   "execution_count": 32,
   "id": "b1cb25c2",
   "metadata": {},
   "outputs": [
    {
     "data": {
      "text/plain": [
       "<re.Match object; span=(26, 37), match='caterpillar'>"
      ]
     },
     "execution_count": 32,
     "metadata": {},
     "output_type": "execute_result"
    }
   ],
   "source": [
    "re.search(r'cat(fish|nap|erpillar)',textthree)"
   ]
  },
  {
   "cell_type": "code",
   "execution_count": 33,
   "id": "78bb8203",
   "metadata": {},
   "outputs": [],
   "source": [
    "re.search(r'cat(fish|nap|claw)',textthree)"
   ]
  },
  {
   "cell_type": "code",
   "execution_count": 34,
   "id": "e72051ea",
   "metadata": {},
   "outputs": [],
   "source": [
    "text1 = \"Hey, I'm catfish.\"\n",
    "text2 = \"Hey, I'm catnap.\"\n",
    "text3 = \"Hey, I'm caterpillar.\""
   ]
  },
  {
   "cell_type": "code",
   "execution_count": null,
   "id": "ce3d6083",
   "metadata": {},
   "outputs": [],
   "source": []
  },
  {
   "cell_type": "code",
   "execution_count": null,
   "id": "4584c9c9",
   "metadata": {},
   "outputs": [],
   "source": []
  }
 ],
 "metadata": {
  "kernelspec": {
   "display_name": "Python 3",
   "language": "python",
   "name": "python3"
  },
  "language_info": {
   "codemirror_mode": {
    "name": "ipython",
    "version": 3
   },
   "file_extension": ".py",
   "mimetype": "text/x-python",
   "name": "python",
   "nbconvert_exporter": "python",
   "pygments_lexer": "ipython3",
   "version": "3.8.8"
  }
 },
 "nbformat": 4,
 "nbformat_minor": 5
}
