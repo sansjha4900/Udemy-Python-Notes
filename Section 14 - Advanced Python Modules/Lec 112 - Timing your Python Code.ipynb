{
 "cells": [
  {
   "cell_type": "code",
   "execution_count": 1,
   "id": "b50c8c91",
   "metadata": {},
   "outputs": [],
   "source": [
    "def func_one(n):\n",
    "    return [str(num) for num in range(n)]"
   ]
  },
  {
   "cell_type": "code",
   "execution_count": 2,
   "id": "b2e1fb0d",
   "metadata": {},
   "outputs": [
    {
     "data": {
      "text/plain": [
       "['0', '1', '2', '3', '4', '5', '6', '7', '8', '9']"
      ]
     },
     "execution_count": 2,
     "metadata": {},
     "output_type": "execute_result"
    }
   ],
   "source": [
    "func_one(10)"
   ]
  },
  {
   "cell_type": "code",
   "execution_count": 3,
   "id": "36368ca2",
   "metadata": {},
   "outputs": [],
   "source": [
    "def func_two(n):\n",
    "    return list(map(str, range(n)))"
   ]
  },
  {
   "cell_type": "code",
   "execution_count": 4,
   "id": "dee8d5e2",
   "metadata": {},
   "outputs": [
    {
     "data": {
      "text/plain": [
       "['0', '1', '2', '3', '4', '5', '6', '7', '8', '9']"
      ]
     },
     "execution_count": 4,
     "metadata": {},
     "output_type": "execute_result"
    }
   ],
   "source": [
    "func_two(10)"
   ]
  },
  {
   "cell_type": "markdown",
   "id": "69f7c16c",
   "metadata": {},
   "source": [
    "### a) Easy way - time.time() :"
   ]
  },
  {
   "cell_type": "code",
   "execution_count": 5,
   "id": "cf04b03e",
   "metadata": {},
   "outputs": [],
   "source": [
    "import time"
   ]
  },
  {
   "cell_type": "code",
   "execution_count": 6,
   "id": "071cfe68",
   "metadata": {},
   "outputs": [
    {
     "name": "stdout",
     "output_type": "stream",
     "text": [
      "0.2540171146392822\n"
     ]
    }
   ],
   "source": [
    "# Current time before code run\n",
    "start_time = time.time()\n",
    "\n",
    "# Run the code\n",
    "result = func_one(1000000)\n",
    "\n",
    "# Current time after code run\n",
    "end_time = time.time()\n",
    "\n",
    "# Elapsed time = Difference\n",
    "elapsed_time = end_time - start_time\n",
    "\n",
    "print (elapsed_time)"
   ]
  },
  {
   "cell_type": "code",
   "execution_count": 7,
   "id": "4354f121",
   "metadata": {},
   "outputs": [
    {
     "name": "stdout",
     "output_type": "stream",
     "text": [
      "0.21566152572631836\n"
     ]
    }
   ],
   "source": [
    "# Current time before code run\n",
    "start_time = time.time()\n",
    "\n",
    "# Run the code\n",
    "result = func_two(1000000)\n",
    "\n",
    "# Current time after code run\n",
    "end_time = time.time()\n",
    "\n",
    "# Elapsed time = Difference\n",
    "elapsed_time = end_time - start_time\n",
    "\n",
    "print (elapsed_time)"
   ]
  },
  {
   "cell_type": "markdown",
   "id": "2a71e1be",
   "metadata": {},
   "source": [
    "### b) Built-in Timeit module:"
   ]
  },
  {
   "cell_type": "code",
   "execution_count": 8,
   "id": "433c68e8",
   "metadata": {},
   "outputs": [],
   "source": [
    "import timeit"
   ]
  },
  {
   "cell_type": "code",
   "execution_count": 9,
   "id": "50cab2fb",
   "metadata": {},
   "outputs": [
    {
     "data": {
      "text/plain": [
       "<function timeit.timeit(stmt='pass', setup='pass', timer=<built-in function perf_counter>, number=1000000, globals=None)>"
      ]
     },
     "execution_count": 9,
     "metadata": {},
     "output_type": "execute_result"
    }
   ],
   "source": [
    "timeit.timeit"
   ]
  },
  {
   "cell_type": "code",
   "execution_count": 10,
   "id": "0cc0daf7",
   "metadata": {},
   "outputs": [],
   "source": [
    "stmt1 = '''\n",
    "func_one(100)\n",
    "'''"
   ]
  },
  {
   "cell_type": "code",
   "execution_count": 11,
   "id": "43e6bc17",
   "metadata": {},
   "outputs": [],
   "source": [
    "setup1 = '''\n",
    "def func_one(n):\n",
    "    return [str(num) for num in range(n)]\n",
    "'''"
   ]
  },
  {
   "cell_type": "code",
   "execution_count": 12,
   "id": "51c23e5c",
   "metadata": {},
   "outputs": [
    {
     "data": {
      "text/plain": [
       "1.7751929000000002"
      ]
     },
     "execution_count": 12,
     "metadata": {},
     "output_type": "execute_result"
    }
   ],
   "source": [
    "timeit.timeit(stmt1, setup1, number = 100000)"
   ]
  },
  {
   "cell_type": "code",
   "execution_count": 13,
   "id": "ec2fc850",
   "metadata": {},
   "outputs": [
    {
     "data": {
      "text/plain": [
       "17.552790299999998"
      ]
     },
     "execution_count": 13,
     "metadata": {},
     "output_type": "execute_result"
    }
   ],
   "source": [
    "timeit.timeit(stmt1, setup1, number = 1000000)"
   ]
  },
  {
   "cell_type": "code",
   "execution_count": 14,
   "id": "09c298af",
   "metadata": {},
   "outputs": [],
   "source": [
    "stmt2 = '''\n",
    "func_two(100)\n",
    "'''\n",
    "\n",
    "setup2 = '''\n",
    "def func_two(n):\n",
    "    return list(map(str, range(n)))\n",
    "'''"
   ]
  },
  {
   "cell_type": "code",
   "execution_count": 15,
   "id": "b37dada7",
   "metadata": {},
   "outputs": [
    {
     "data": {
      "text/plain": [
       "1.4814347999999988"
      ]
     },
     "execution_count": 15,
     "metadata": {},
     "output_type": "execute_result"
    }
   ],
   "source": [
    "timeit.timeit(stmt2, setup2, number = 100000)"
   ]
  },
  {
   "cell_type": "code",
   "execution_count": 16,
   "id": "80d830a2",
   "metadata": {},
   "outputs": [
    {
     "data": {
      "text/plain": [
       "21.199125700000003"
      ]
     },
     "execution_count": 16,
     "metadata": {},
     "output_type": "execute_result"
    }
   ],
   "source": [
    "timeit.timeit(stmt2, setup2, number = 1000000)"
   ]
  },
  {
   "cell_type": "markdown",
   "id": "469c1b1d",
   "metadata": {},
   "source": [
    "### c) Jupyter NB method:"
   ]
  },
  {
   "cell_type": "code",
   "execution_count": 17,
   "id": "c4b70558",
   "metadata": {},
   "outputs": [
    {
     "name": "stdout",
     "output_type": "stream",
     "text": [
      "31.1 µs ± 4.5 µs per loop (mean ± std. dev. of 7 runs, 10000 loops each)\n"
     ]
    }
   ],
   "source": [
    "%%timeit\n",
    "a = func_one(100)"
   ]
  },
  {
   "cell_type": "code",
   "execution_count": 18,
   "id": "3e3e7897",
   "metadata": {},
   "outputs": [
    {
     "name": "stdout",
     "output_type": "stream",
     "text": [
      "23.6 µs ± 2.23 µs per loop (mean ± std. dev. of 7 runs, 100000 loops each)\n"
     ]
    }
   ],
   "source": [
    "%%timeit\n",
    "b = func_two(100)"
   ]
  },
  {
   "cell_type": "code",
   "execution_count": null,
   "id": "34a2ef23",
   "metadata": {},
   "outputs": [],
   "source": []
  }
 ],
 "metadata": {
  "kernelspec": {
   "display_name": "Python 3",
   "language": "python",
   "name": "python3"
  },
  "language_info": {
   "codemirror_mode": {
    "name": "ipython",
    "version": 3
   },
   "file_extension": ".py",
   "mimetype": "text/x-python",
   "name": "python",
   "nbconvert_exporter": "python",
   "pygments_lexer": "ipython3",
   "version": "3.8.8"
  }
 },
 "nbformat": 4,
 "nbformat_minor": 5
}
