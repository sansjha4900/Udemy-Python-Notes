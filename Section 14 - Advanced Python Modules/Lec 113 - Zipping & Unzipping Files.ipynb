{
 "cells": [
  {
   "cell_type": "code",
   "execution_count": 1,
   "id": "05b23787",
   "metadata": {},
   "outputs": [],
   "source": [
    "f = open('fileone.txt', 'w+')\n",
    "f.write('ONE FILE')\n",
    "f.close()"
   ]
  },
  {
   "cell_type": "code",
   "execution_count": 2,
   "id": "ccc7c7f6",
   "metadata": {},
   "outputs": [],
   "source": [
    "f = open('filetwo.txt', 'w+')\n",
    "f.write('TWO FILE')\n",
    "f.close()"
   ]
  },
  {
   "cell_type": "markdown",
   "id": "76d55252",
   "metadata": {},
   "source": [
    "### a) Using built-in zipfile ~"
   ]
  },
  {
   "cell_type": "code",
   "execution_count": 3,
   "id": "cb82c47f",
   "metadata": {},
   "outputs": [],
   "source": [
    "import zipfile"
   ]
  },
  {
   "cell_type": "markdown",
   "id": "6110a947",
   "metadata": {},
   "source": [
    "#### # Compressing files into 1:"
   ]
  },
  {
   "cell_type": "code",
   "execution_count": 4,
   "id": "8ceb75a3",
   "metadata": {},
   "outputs": [],
   "source": [
    "comp_file = zipfile.ZipFile(\"comp_file.zip\", \"w\")"
   ]
  },
  {
   "cell_type": "code",
   "execution_count": 5,
   "id": "40e80e6d",
   "metadata": {},
   "outputs": [],
   "source": [
    "comp_file.write('fileone.txt', compress_type = zipfile.ZIP_DEFLATED)"
   ]
  },
  {
   "cell_type": "code",
   "execution_count": 6,
   "id": "88c75dc4",
   "metadata": {},
   "outputs": [],
   "source": [
    "comp_file.write('filetwo.txt', compress_type = zipfile.ZIP_DEFLATED)"
   ]
  },
  {
   "cell_type": "code",
   "execution_count": 7,
   "id": "e8431748",
   "metadata": {},
   "outputs": [],
   "source": [
    "comp_file.close()"
   ]
  },
  {
   "cell_type": "markdown",
   "id": "e5fc3741",
   "metadata": {},
   "source": [
    "#### # Extracting files from 1:"
   ]
  },
  {
   "cell_type": "code",
   "execution_count": 8,
   "id": "45acaa82",
   "metadata": {},
   "outputs": [],
   "source": [
    "zip_obj = zipfile.ZipFile(\"comp_file.zip\", \"r\")"
   ]
  },
  {
   "cell_type": "code",
   "execution_count": 9,
   "id": "67e46641",
   "metadata": {},
   "outputs": [],
   "source": [
    "zip_obj.extractall(\"extracted_content\")"
   ]
  },
  {
   "cell_type": "markdown",
   "id": "328d1a1e",
   "metadata": {},
   "source": [
    "### b) Using Shell Utility Lib ~"
   ]
  },
  {
   "cell_type": "code",
   "execution_count": 10,
   "id": "ac19f326",
   "metadata": {},
   "outputs": [],
   "source": [
    "import shutil"
   ]
  },
  {
   "cell_type": "code",
   "execution_count": 11,
   "id": "a920069f",
   "metadata": {},
   "outputs": [
    {
     "data": {
      "text/plain": [
       "'C:\\\\Users\\\\RITES\\\\Desktop\\\\Udemy Python\\\\Section 14 - Advanced Python Modules'"
      ]
     },
     "execution_count": 11,
     "metadata": {},
     "output_type": "execute_result"
    }
   ],
   "source": [
    "pwd"
   ]
  },
  {
   "cell_type": "markdown",
   "id": "e51f4c07",
   "metadata": {},
   "source": [
    "#### # Compressing files into 1:"
   ]
  },
  {
   "cell_type": "code",
   "execution_count": 12,
   "id": "d56442db",
   "metadata": {},
   "outputs": [],
   "source": [
    "dir_to_zip = \"C:\\\\Users\\\\RITES\\\\Desktop\\\\Udemy Python\\\\Section 14 - Advanced Python Modules\\\\extracted_content\""
   ]
  },
  {
   "cell_type": "code",
   "execution_count": 13,
   "id": "a6f1fb22",
   "metadata": {},
   "outputs": [],
   "source": [
    "output_filename = \"example\""
   ]
  },
  {
   "cell_type": "code",
   "execution_count": 14,
   "id": "ecfafdd3",
   "metadata": {},
   "outputs": [
    {
     "data": {
      "text/plain": [
       "'C:\\\\Users\\\\RITES\\\\Desktop\\\\Udemy Python\\\\Section 14 - Advanced Python Modules\\\\example.zip'"
      ]
     },
     "execution_count": 14,
     "metadata": {},
     "output_type": "execute_result"
    }
   ],
   "source": [
    "shutil.make_archive(output_filename,\"zip\",dir_to_zip)"
   ]
  },
  {
   "cell_type": "markdown",
   "id": "379a794e",
   "metadata": {},
   "source": [
    "#### # Extracting files from 1:"
   ]
  },
  {
   "cell_type": "code",
   "execution_count": 15,
   "id": "6808d409",
   "metadata": {},
   "outputs": [],
   "source": [
    "shutil.unpack_archive('example.zip', 'final_unzip', 'zip')"
   ]
  }
 ],
 "metadata": {
  "kernelspec": {
   "display_name": "Python 3",
   "language": "python",
   "name": "python3"
  },
  "language_info": {
   "codemirror_mode": {
    "name": "ipython",
    "version": 3
   },
   "file_extension": ".py",
   "mimetype": "text/x-python",
   "name": "python",
   "nbconvert_exporter": "python",
   "pygments_lexer": "ipython3",
   "version": "3.8.8"
  }
 },
 "nbformat": 4,
 "nbformat_minor": 5
}
