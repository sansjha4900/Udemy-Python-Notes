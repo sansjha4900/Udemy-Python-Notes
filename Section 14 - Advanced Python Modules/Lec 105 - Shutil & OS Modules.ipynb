{
 "cells": [
  {
   "cell_type": "code",
   "execution_count": 1,
   "id": "94e6f8c4",
   "metadata": {},
   "outputs": [
    {
     "data": {
      "text/plain": [
       "'C:\\\\Users\\\\RITES\\\\Desktop\\\\Udemy Python\\\\Complete-Python-3-Bootcamp\\\\12-Advanced Python Modules'"
      ]
     },
     "execution_count": 1,
     "metadata": {},
     "output_type": "execute_result"
    }
   ],
   "source": [
    "pwd"
   ]
  },
  {
   "cell_type": "code",
   "execution_count": 2,
   "id": "c49dbdf1",
   "metadata": {},
   "outputs": [],
   "source": [
    "f = open(\"practice.txt\", \"w+\")\n",
    "f.write (\"This is a test string\")\n",
    "f.close()"
   ]
  },
  {
   "cell_type": "code",
   "execution_count": 3,
   "id": "d42343cf",
   "metadata": {},
   "outputs": [],
   "source": [
    "import os"
   ]
  },
  {
   "cell_type": "code",
   "execution_count": 4,
   "id": "39acd264",
   "metadata": {},
   "outputs": [
    {
     "data": {
      "text/plain": [
       "'C:\\\\Users\\\\RITES\\\\Desktop\\\\Udemy Python\\\\Complete-Python-3-Bootcamp\\\\12-Advanced Python Modules'"
      ]
     },
     "execution_count": 4,
     "metadata": {},
     "output_type": "execute_result"
    }
   ],
   "source": [
    "os.getcwd()"
   ]
  },
  {
   "cell_type": "code",
   "execution_count": 5,
   "id": "6c62b8bc",
   "metadata": {},
   "outputs": [
    {
     "data": {
      "text/plain": [
       "['.ipynb_checkpoints',\n",
       " '00-Collections-Module.ipynb',\n",
       " '01-Opening-and-Reading-Files-Folders.ipynb',\n",
       " '02-Datetime-Module.ipynb',\n",
       " '03-Math-and-Random-Module.ipynb',\n",
       " '04-Python Debugger (pdb).ipynb',\n",
       " '05-Overview-of-Regular-Expressions.ipynb',\n",
       " '06-Timing your code - timeit.ipynb',\n",
       " '07-Unzipping-and-Zipping-Files.ipynb',\n",
       " '08-Advanced-Python-Module-Exercise',\n",
       " 'Example_Top_Level',\n",
       " 'Lec 105 - Shutil & OS Modules.ipynb',\n",
       " 'practice.txt']"
      ]
     },
     "execution_count": 5,
     "metadata": {},
     "output_type": "execute_result"
    }
   ],
   "source": [
    "os.listdir()"
   ]
  },
  {
   "cell_type": "code",
   "execution_count": 6,
   "id": "eb97cd01",
   "metadata": {},
   "outputs": [
    {
     "data": {
      "text/plain": [
       "['All Users',\n",
       " 'Default',\n",
       " 'Default User',\n",
       " 'defaultuser100000',\n",
       " 'desktop.ini',\n",
       " 'Public',\n",
       " 'RITES']"
      ]
     },
     "execution_count": 6,
     "metadata": {},
     "output_type": "execute_result"
    }
   ],
   "source": [
    "os.listdir(\"C:\\\\Users\")"
   ]
  },
  {
   "cell_type": "code",
   "execution_count": 7,
   "id": "6e61c1ba",
   "metadata": {},
   "outputs": [],
   "source": [
    "import shutil"
   ]
  },
  {
   "cell_type": "code",
   "execution_count": 8,
   "id": "aa86b118",
   "metadata": {},
   "outputs": [
    {
     "data": {
      "text/plain": [
       "'C:\\\\Users\\\\RITES\\\\Desktop\\\\Udemy Python\\\\practice.txt'"
      ]
     },
     "execution_count": 8,
     "metadata": {},
     "output_type": "execute_result"
    }
   ],
   "source": [
    "shutil.move(\"practice.txt\",\"C:\\\\Users\\\\RITES\\\\Desktop\\\\Udemy Python\")"
   ]
  },
  {
   "cell_type": "code",
   "execution_count": 9,
   "id": "50f740f5",
   "metadata": {},
   "outputs": [
    {
     "data": {
      "text/plain": [
       "['.ipynb_checkpoints',\n",
       " 'Complete-Python-3-Bootcamp',\n",
       " 'my_first_notebook.ipynb',\n",
       " 'practice.txt',\n",
       " 'Section 03 - Object & Data Structures',\n",
       " 'Section 04 - Comparison Operators',\n",
       " 'Section 05 - Python Statements',\n",
       " 'Section 06 - Methods & Functions',\n",
       " 'Section 07 - Milestone Project 1',\n",
       " 'Section 08 - Object Oriented Prog',\n",
       " 'Section 10 - Error & Exception Handling',\n",
       " 'Section 11 - Milestone Project 2',\n",
       " 'Section 12 - Python Decorators',\n",
       " 'Section 13 - Python Generators',\n",
       " 'Section 14 - Advanced Python Modules',\n",
       " 'Step wise game.ipynb',\n",
       " 'test_notebook.ipynb']"
      ]
     },
     "execution_count": 9,
     "metadata": {},
     "output_type": "execute_result"
    }
   ],
   "source": [
    "os.listdir(\"C:\\\\Users\\\\RITES\\\\Desktop\\\\Udemy Python\")"
   ]
  },
  {
   "cell_type": "code",
   "execution_count": 10,
   "id": "1714177d",
   "metadata": {},
   "outputs": [],
   "source": [
    "import send2trash"
   ]
  },
  {
   "cell_type": "code",
   "execution_count": 11,
   "id": "22a2ae99",
   "metadata": {},
   "outputs": [
    {
     "data": {
      "text/plain": [
       "'C:\\\\Users\\\\RITES\\\\Desktop\\\\Udemy Python\\\\Complete-Python-3-Bootcamp\\\\12-Advanced Python Modules\\\\practice.txt'"
      ]
     },
     "execution_count": 11,
     "metadata": {},
     "output_type": "execute_result"
    }
   ],
   "source": [
    "shutil.move(\"C:\\\\Users\\\\RITES\\\\Desktop\\\\Udemy Python\\\\practice.txt\", os.getcwd())"
   ]
  },
  {
   "cell_type": "code",
   "execution_count": 12,
   "id": "f9e5ce1e",
   "metadata": {},
   "outputs": [
    {
     "data": {
      "text/plain": [
       "['.ipynb_checkpoints',\n",
       " '00-Collections-Module.ipynb',\n",
       " '01-Opening-and-Reading-Files-Folders.ipynb',\n",
       " '02-Datetime-Module.ipynb',\n",
       " '03-Math-and-Random-Module.ipynb',\n",
       " '04-Python Debugger (pdb).ipynb',\n",
       " '05-Overview-of-Regular-Expressions.ipynb',\n",
       " '06-Timing your code - timeit.ipynb',\n",
       " '07-Unzipping-and-Zipping-Files.ipynb',\n",
       " '08-Advanced-Python-Module-Exercise',\n",
       " 'Example_Top_Level',\n",
       " 'Lec 105 - Shutil & OS Modules.ipynb',\n",
       " 'practice.txt']"
      ]
     },
     "execution_count": 12,
     "metadata": {},
     "output_type": "execute_result"
    }
   ],
   "source": [
    "os.listdir()"
   ]
  },
  {
   "cell_type": "code",
   "execution_count": 13,
   "id": "fb82d8ff",
   "metadata": {},
   "outputs": [],
   "source": [
    "send2trash.send2trash(\"practice.txt\")"
   ]
  },
  {
   "cell_type": "code",
   "execution_count": 14,
   "id": "c034d4f2",
   "metadata": {},
   "outputs": [
    {
     "data": {
      "text/plain": [
       "['.ipynb_checkpoints',\n",
       " '00-Collections-Module.ipynb',\n",
       " '01-Opening-and-Reading-Files-Folders.ipynb',\n",
       " '02-Datetime-Module.ipynb',\n",
       " '03-Math-and-Random-Module.ipynb',\n",
       " '04-Python Debugger (pdb).ipynb',\n",
       " '05-Overview-of-Regular-Expressions.ipynb',\n",
       " '06-Timing your code - timeit.ipynb',\n",
       " '07-Unzipping-and-Zipping-Files.ipynb',\n",
       " '08-Advanced-Python-Module-Exercise',\n",
       " 'Example_Top_Level',\n",
       " 'Lec 105 - Shutil & OS Modules.ipynb']"
      ]
     },
     "execution_count": 14,
     "metadata": {},
     "output_type": "execute_result"
    }
   ],
   "source": [
    "os.listdir()"
   ]
  },
  {
   "cell_type": "code",
   "execution_count": 15,
   "id": "d7dd6365",
   "metadata": {},
   "outputs": [
    {
     "data": {
      "text/plain": [
       "['.ipynb_checkpoints',\n",
       " '00-Collections-Module.ipynb',\n",
       " '01-Opening-and-Reading-Files-Folders.ipynb',\n",
       " '02-Datetime-Module.ipynb',\n",
       " '03-Math-and-Random-Module.ipynb',\n",
       " '04-Python Debugger (pdb).ipynb',\n",
       " '05-Overview-of-Regular-Expressions.ipynb',\n",
       " '06-Timing your code - timeit.ipynb',\n",
       " '07-Unzipping-and-Zipping-Files.ipynb',\n",
       " '08-Advanced-Python-Module-Exercise',\n",
       " 'Example_Top_Level',\n",
       " 'Lec 105 - Shutil & OS Modules.ipynb',\n",
       " 'practice.txt']"
      ]
     },
     "execution_count": 15,
     "metadata": {},
     "output_type": "execute_result"
    }
   ],
   "source": [
    "os.listdir()  # Recovering file from trash"
   ]
  },
  {
   "cell_type": "code",
   "execution_count": 16,
   "id": "afee39e0",
   "metadata": {},
   "outputs": [
    {
     "data": {
      "text/plain": [
       "'C:\\\\Users\\\\RITES\\\\Desktop\\\\Udemy Python\\\\Complete-Python-3-Bootcamp\\\\12-Advanced Python Modules'"
      ]
     },
     "execution_count": 16,
     "metadata": {},
     "output_type": "execute_result"
    }
   ],
   "source": [
    "os.getcwd()"
   ]
  },
  {
   "cell_type": "code",
   "execution_count": 17,
   "id": "680a9fc4",
   "metadata": {},
   "outputs": [],
   "source": [
    "file_path = 'C:\\\\Users\\\\RITES\\\\Desktop\\\\Udemy Python\\\\Complete-Python-3-Bootcamp\\\\12-Advanced Python Modules\\\\Example_Top_Level'"
   ]
  },
  {
   "cell_type": "code",
   "execution_count": 18,
   "id": "e7c1e6ab",
   "metadata": {},
   "outputs": [
    {
     "name": "stdout",
     "output_type": "stream",
     "text": [
      "Currently looking at: C:\\Users\\RITES\\Desktop\\Udemy Python\\Complete-Python-3-Bootcamp\\12-Advanced Python Modules\\Example_Top_Level\n",
      "\n",
      "\n",
      "The sub folders are: \n",
      "\t Subfolder: Mid-Example-One\n",
      "\n",
      "\n",
      "The files are: \n",
      "\t Files: Mid-Example.txt\n",
      "\n",
      "\n",
      "Currently looking at: C:\\Users\\RITES\\Desktop\\Udemy Python\\Complete-Python-3-Bootcamp\\12-Advanced Python Modules\\Example_Top_Level\\Mid-Example-One\n",
      "\n",
      "\n",
      "The sub folders are: \n",
      "\t Subfolder: Bottom-Level-One\n",
      "\t Subfolder: Bottom-Level-Two\n",
      "\n",
      "\n",
      "The files are: \n",
      "\t Files: Mid-Level-Doc.txt\n",
      "\n",
      "\n",
      "Currently looking at: C:\\Users\\RITES\\Desktop\\Udemy Python\\Complete-Python-3-Bootcamp\\12-Advanced Python Modules\\Example_Top_Level\\Mid-Example-One\\Bottom-Level-One\n",
      "\n",
      "\n",
      "The sub folders are: \n",
      "\n",
      "\n",
      "The files are: \n",
      "\t Files: One_Text.txt\n",
      "\n",
      "\n",
      "Currently looking at: C:\\Users\\RITES\\Desktop\\Udemy Python\\Complete-Python-3-Bootcamp\\12-Advanced Python Modules\\Example_Top_Level\\Mid-Example-One\\Bottom-Level-Two\n",
      "\n",
      "\n",
      "The sub folders are: \n",
      "\n",
      "\n",
      "The files are: \n",
      "\t Files: Bottom-Text-Two.txt\n",
      "\n",
      "\n"
     ]
    }
   ],
   "source": [
    "for folder, sub_folders, files in os.walk(file_path):\n",
    "    \n",
    "    print (f\"Currently looking at: {folder}\")\n",
    "    print (\"\\n\")\n",
    "    print (\"The sub folders are: \")\n",
    "    for sub_fold in sub_folders:\n",
    "        print (f\"\\t Subfolder: {sub_fold}\")\n",
    "    print (\"\\n\")\n",
    "    print (\"The files are: \")\n",
    "    for f in files:\n",
    "        print (f\"\\t Files: {f}\")\n",
    "    print (\"\\n\")"
   ]
  },
  {
   "cell_type": "code",
   "execution_count": null,
   "id": "752f0de0",
   "metadata": {},
   "outputs": [],
   "source": []
  }
 ],
 "metadata": {
  "kernelspec": {
   "display_name": "Python 3",
   "language": "python",
   "name": "python3"
  },
  "language_info": {
   "codemirror_mode": {
    "name": "ipython",
    "version": 3
   },
   "file_extension": ".py",
   "mimetype": "text/x-python",
   "name": "python",
   "nbconvert_exporter": "python",
   "pygments_lexer": "ipython3",
   "version": "3.8.8"
  }
 },
 "nbformat": 4,
 "nbformat_minor": 5
}
