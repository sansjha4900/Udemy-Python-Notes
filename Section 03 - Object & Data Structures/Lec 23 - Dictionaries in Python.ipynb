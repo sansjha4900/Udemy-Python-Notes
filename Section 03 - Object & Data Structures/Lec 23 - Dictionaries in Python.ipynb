{
 "cells": [
  {
   "cell_type": "code",
   "execution_count": 1,
   "id": "74f0fea3",
   "metadata": {},
   "outputs": [],
   "source": [
    "my_dict = {'key1':'value1', 'key2':'vlaue2'}    #Setting up a dictionary"
   ]
  },
  {
   "cell_type": "code",
   "execution_count": 2,
   "id": "eb175a9f",
   "metadata": {},
   "outputs": [
    {
     "data": {
      "text/plain": [
       "{'key1': 'value1', 'key2': 'vlaue2'}"
      ]
     },
     "execution_count": 2,
     "metadata": {},
     "output_type": "execute_result"
    }
   ],
   "source": [
    "my_dict"
   ]
  },
  {
   "cell_type": "code",
   "execution_count": 3,
   "id": "34ed12c8",
   "metadata": {},
   "outputs": [],
   "source": [
    "prices_lookup = {'apples':2.99, 'oranges':1.99, 'milk':5.80}    #Calling values from a dictionary"
   ]
  },
  {
   "cell_type": "code",
   "execution_count": 4,
   "id": "88be80bf",
   "metadata": {},
   "outputs": [
    {
     "data": {
      "text/plain": [
       "2.99"
      ]
     },
     "execution_count": 4,
     "metadata": {},
     "output_type": "execute_result"
    }
   ],
   "source": [
    "prices_lookup ['apples']"
   ]
  },
  {
   "cell_type": "code",
   "execution_count": 9,
   "id": "eb71bcd9",
   "metadata": {},
   "outputs": [],
   "source": [
    "d = {'k1':123, 'k2':[5,1,2], 'k3':{'insideKey':100}}    #Dictionary can have dif datatypes, lists, another dict."
   ]
  },
  {
   "cell_type": "code",
   "execution_count": 10,
   "id": "f7f02ea6",
   "metadata": {},
   "outputs": [
    {
     "name": "stdout",
     "output_type": "stream",
     "text": [
      "123\n",
      "[5, 1, 2]\n",
      "5\n",
      "{'insideKey': 100}\n",
      "100\n"
     ]
    }
   ],
   "source": [
    "print (d['k1'])\n",
    "print (d['k2'])\n",
    "print (d['k2'][0])\n",
    "print (d['k3'])\n",
    "print (d['k3']['insideKey'])        #Calling nested values from dictionary"
   ]
  },
  {
   "cell_type": "code",
   "execution_count": 14,
   "id": "a3497c31",
   "metadata": {},
   "outputs": [],
   "source": [
    "d = {'key1':['a', 'b', 'c']}        #Nested values call from dictionary"
   ]
  },
  {
   "cell_type": "code",
   "execution_count": 15,
   "id": "842cd404",
   "metadata": {},
   "outputs": [
    {
     "data": {
      "text/plain": [
       "{'key1': ['a', 'b', 'c']}"
      ]
     },
     "execution_count": 15,
     "metadata": {},
     "output_type": "execute_result"
    }
   ],
   "source": [
    "d"
   ]
  },
  {
   "cell_type": "code",
   "execution_count": 19,
   "id": "e43277e6",
   "metadata": {},
   "outputs": [],
   "source": [
    "mylist = d['key1']"
   ]
  },
  {
   "cell_type": "code",
   "execution_count": 20,
   "id": "8909405f",
   "metadata": {},
   "outputs": [
    {
     "data": {
      "text/plain": [
       "['a', 'b', 'c']"
      ]
     },
     "execution_count": 20,
     "metadata": {},
     "output_type": "execute_result"
    }
   ],
   "source": [
    "mylist"
   ]
  },
  {
   "cell_type": "code",
   "execution_count": 21,
   "id": "7ca46ca7",
   "metadata": {},
   "outputs": [],
   "source": [
    "letter = d['key1'][2]"
   ]
  },
  {
   "cell_type": "code",
   "execution_count": 22,
   "id": "6485fc92",
   "metadata": {},
   "outputs": [
    {
     "data": {
      "text/plain": [
       "'c'"
      ]
     },
     "execution_count": 22,
     "metadata": {},
     "output_type": "execute_result"
    }
   ],
   "source": [
    "letter"
   ]
  },
  {
   "cell_type": "code",
   "execution_count": 23,
   "id": "b39dc106",
   "metadata": {},
   "outputs": [
    {
     "data": {
      "text/plain": [
       "'C'"
      ]
     },
     "execution_count": 23,
     "metadata": {},
     "output_type": "execute_result"
    }
   ],
   "source": [
    "letter.upper()"
   ]
  },
  {
   "cell_type": "code",
   "execution_count": 24,
   "id": "9b41954f",
   "metadata": {},
   "outputs": [
    {
     "data": {
      "text/plain": [
       "'C'"
      ]
     },
     "execution_count": 24,
     "metadata": {},
     "output_type": "execute_result"
    }
   ],
   "source": [
    "d['key1'][2].upper()                #Single line nested values call from dict. & do methods."
   ]
  },
  {
   "cell_type": "code",
   "execution_count": 25,
   "id": "4f91071f",
   "metadata": {},
   "outputs": [],
   "source": [
    "d = {'k1':10, 'k2':20}"
   ]
  },
  {
   "cell_type": "code",
   "execution_count": 26,
   "id": "ccf718da",
   "metadata": {},
   "outputs": [],
   "source": [
    "d['k3'] = 30                        #Adding values to existing dictionary"
   ]
  },
  {
   "cell_type": "code",
   "execution_count": 27,
   "id": "98d11306",
   "metadata": {},
   "outputs": [
    {
     "data": {
      "text/plain": [
       "{'k1': 10, 'k2': 20, 'k3': 30}"
      ]
     },
     "execution_count": 27,
     "metadata": {},
     "output_type": "execute_result"
    }
   ],
   "source": [
    "d"
   ]
  },
  {
   "cell_type": "code",
   "execution_count": 28,
   "id": "947da354",
   "metadata": {},
   "outputs": [],
   "source": [
    "d['k1'] = 500                       #Over-writing existing key value pair"
   ]
  },
  {
   "cell_type": "code",
   "execution_count": 29,
   "id": "ca3151ed",
   "metadata": {},
   "outputs": [
    {
     "data": {
      "text/plain": [
       "{'k1': 500, 'k2': 20, 'k3': 30}"
      ]
     },
     "execution_count": 29,
     "metadata": {},
     "output_type": "execute_result"
    }
   ],
   "source": [
    "d"
   ]
  },
  {
   "cell_type": "code",
   "execution_count": 30,
   "id": "5b8f3e55",
   "metadata": {},
   "outputs": [],
   "source": [
    "d = {'k1':100, 'k2':200, 'k3':300}"
   ]
  },
  {
   "cell_type": "code",
   "execution_count": 35,
   "id": "562fb27a",
   "metadata": {},
   "outputs": [
    {
     "name": "stdout",
     "output_type": "stream",
     "text": [
      "dict_keys(['k1', 'k2', 'k3'])\n",
      "dict_values([100, 200, 300])\n",
      "dict_items([('k1', 100), ('k2', 200), ('k3', 300)])\n"
     ]
    }
   ],
   "source": [
    "print (d.keys())                    #To get all keys of dict\n",
    "print (d.values())                  #To get all values from dict\n",
    "print (d.items())                   #To get all the pairings form dict"
   ]
  },
  {
   "cell_type": "code",
   "execution_count": null,
   "id": "38c6f61c",
   "metadata": {},
   "outputs": [],
   "source": []
  }
 ],
 "metadata": {
  "kernelspec": {
   "display_name": "Python 3",
   "language": "python",
   "name": "python3"
  },
  "language_info": {
   "codemirror_mode": {
    "name": "ipython",
    "version": 3
   },
   "file_extension": ".py",
   "mimetype": "text/x-python",
   "name": "python",
   "nbconvert_exporter": "python",
   "pygments_lexer": "ipython3",
   "version": "3.8.8"
  }
 },
 "nbformat": 4,
 "nbformat_minor": 5
}
