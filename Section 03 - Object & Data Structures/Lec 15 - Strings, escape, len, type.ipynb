{
 "cells": [
  {
   "cell_type": "markdown",
   "id": "4dbf83ee",
   "metadata": {},
   "source": [
    "## Asking string to be returned so it has ' ' or \" \" in output :"
   ]
  },
  {
   "cell_type": "code",
   "execution_count": 6,
   "id": "dde3c15e",
   "metadata": {},
   "outputs": [
    {
     "data": {
      "text/plain": [
       "'hello'"
      ]
     },
     "execution_count": 6,
     "metadata": {},
     "output_type": "execute_result"
    }
   ],
   "source": [
    "'hello' #Single quote string"
   ]
  },
  {
   "cell_type": "code",
   "execution_count": 7,
   "id": "78cc6710",
   "metadata": {},
   "outputs": [
    {
     "data": {
      "text/plain": [
       "'world'"
      ]
     },
     "execution_count": 7,
     "metadata": {},
     "output_type": "execute_result"
    }
   ],
   "source": [
    "\"world\" #Double quote string"
   ]
  },
  {
   "cell_type": "code",
   "execution_count": 3,
   "id": "179cafab",
   "metadata": {},
   "outputs": [
    {
     "data": {
      "text/plain": [
       "'I am good'"
      ]
     },
     "execution_count": 3,
     "metadata": {},
     "output_type": "execute_result"
    }
   ],
   "source": [
    "\"I am good\" #Normal sequence"
   ]
  },
  {
   "cell_type": "code",
   "execution_count": 5,
   "id": "d2109501",
   "metadata": {},
   "outputs": [
    {
     "data": {
      "text/plain": [
       "\" I'm good \""
      ]
     },
     "execution_count": 5,
     "metadata": {},
     "output_type": "execute_result"
    }
   ],
   "source": [
    "\" I'm good \" #Mixed sequence"
   ]
  },
  {
   "cell_type": "markdown",
   "id": "17f18b2b",
   "metadata": {},
   "source": [
    "## Printing out the string so it do not have ' ' or \" \" in output :"
   ]
  },
  {
   "cell_type": "code",
   "execution_count": 8,
   "id": "78702205",
   "metadata": {},
   "outputs": [
    {
     "name": "stdout",
     "output_type": "stream",
     "text": [
      "hello\n"
     ]
    }
   ],
   "source": [
    "print (\"hello\") #Printing out using \" \""
   ]
  },
  {
   "cell_type": "code",
   "execution_count": 9,
   "id": "57addeea",
   "metadata": {},
   "outputs": [
    {
     "name": "stdout",
     "output_type": "stream",
     "text": [
      "world\n"
     ]
    }
   ],
   "source": [
    "print ('world') #Printig out using ' '"
   ]
  },
  {
   "cell_type": "code",
   "execution_count": 10,
   "id": "d265cfba",
   "metadata": {},
   "outputs": [
    {
     "data": {
      "text/plain": [
       "'hey 2'"
      ]
     },
     "execution_count": 10,
     "metadata": {},
     "output_type": "execute_result"
    }
   ],
   "source": [
    "\"hey 1\" #Returning the output of strings\n",
    "\"hey 2\" #so only the last line gives o/p"
   ]
  },
  {
   "cell_type": "code",
   "execution_count": 11,
   "id": "b60cb8f6",
   "metadata": {},
   "outputs": [
    {
     "name": "stdout",
     "output_type": "stream",
     "text": [
      "hey 1\n",
      "hey 2\n"
     ]
    }
   ],
   "source": [
    "print (\"hey 1\") #Printing both the strings\n",
    "print (\"hey 2\") #so both the lines gives o/p"
   ]
  },
  {
   "cell_type": "code",
   "execution_count": 12,
   "id": "b330d254",
   "metadata": {},
   "outputs": [
    {
     "name": "stdout",
     "output_type": "stream",
     "text": [
      "hello world\n"
     ]
    }
   ],
   "source": [
    "print (\"hello world\") #Simple string"
   ]
  },
  {
   "cell_type": "markdown",
   "id": "3e0a1f45",
   "metadata": {},
   "source": [
    "## Escape sequence (new line & tab)"
   ]
  },
  {
   "cell_type": "code",
   "execution_count": 16,
   "id": "ea71f31c",
   "metadata": {},
   "outputs": [
    {
     "name": "stdout",
     "output_type": "stream",
     "text": [
      "hello\n",
      " world\n",
      "hello \n",
      "world\n"
     ]
    }
   ],
   "source": [
    "print (\"hello \\n world\") #Escape sequence\n",
    "print (\"hello \\nworld\")  #Without gap seq"
   ]
  },
  {
   "cell_type": "code",
   "execution_count": 20,
   "id": "35c7095b",
   "metadata": {},
   "outputs": [
    {
     "name": "stdout",
     "output_type": "stream",
     "text": [
      "hello\tworld\n",
      "hello \tworld\n",
      "hello \t world\n"
     ]
    }
   ],
   "source": [
    "print (\"hello\\tworld\")    #Escape sequence t - tab (\\t)\n",
    "print (\"hello \\tworld\")   #prints strings in same line\n",
    "print (\"hello \\t world\")  #with more spaces b/w them"
   ]
  },
  {
   "cell_type": "markdown",
   "id": "e6ae8668",
   "metadata": {},
   "source": [
    "## Length and type function"
   ]
  },
  {
   "cell_type": "code",
   "execution_count": 21,
   "id": "c804ccca",
   "metadata": {},
   "outputs": [
    {
     "data": {
      "text/plain": [
       "5"
      ]
     },
     "execution_count": 21,
     "metadata": {},
     "output_type": "execute_result"
    }
   ],
   "source": [
    "len (\"hello\") #Length of string without space"
   ]
  },
  {
   "cell_type": "code",
   "execution_count": 22,
   "id": "30f8f8bc",
   "metadata": {},
   "outputs": [
    {
     "data": {
      "text/plain": [
       "4"
      ]
     },
     "execution_count": 22,
     "metadata": {},
     "output_type": "execute_result"
    }
   ],
   "source": [
    "len (\"I am\") #Length of string with spaces"
   ]
  },
  {
   "cell_type": "code",
   "execution_count": 26,
   "id": "1e776f7e",
   "metadata": {},
   "outputs": [
    {
     "name": "stdout",
     "output_type": "stream",
     "text": [
      "5\n",
      "4\n"
     ]
    }
   ],
   "source": [
    "print (len(\"hello\")) #Printing length\n",
    "print (len(\"I am\"))  #Syntax to print"
   ]
  },
  {
   "cell_type": "code",
   "execution_count": 29,
   "id": "bca058ba",
   "metadata": {},
   "outputs": [
    {
     "name": "stdout",
     "output_type": "stream",
     "text": [
      "<class 'str'>\n",
      "<class 'int'>\n"
     ]
    }
   ],
   "source": [
    "print (type (\"5\")) #Type function\n",
    "print (type (5))   #Printing result"
   ]
  },
  {
   "cell_type": "code",
   "execution_count": 38,
   "id": "6370c466",
   "metadata": {},
   "outputs": [],
   "source": [
    "a = 5 #Assigning value to variable"
   ]
  },
  {
   "cell_type": "code",
   "execution_count": 39,
   "id": "fd71ace7",
   "metadata": {},
   "outputs": [
    {
     "data": {
      "text/plain": [
       "5"
      ]
     },
     "execution_count": 39,
     "metadata": {},
     "output_type": "execute_result"
    }
   ],
   "source": [
    "a     #Returning value of variable"
   ]
  },
  {
   "cell_type": "code",
   "execution_count": 40,
   "id": "2bbba650",
   "metadata": {},
   "outputs": [
    {
     "data": {
      "text/plain": [
       "int"
      ]
     },
     "execution_count": 40,
     "metadata": {},
     "output_type": "execute_result"
    }
   ],
   "source": [
    "type (a) #Type function by assigning value"
   ]
  },
  {
   "cell_type": "code",
   "execution_count": 41,
   "id": "47cd87a6",
   "metadata": {},
   "outputs": [
    {
     "data": {
      "text/plain": [
       "str"
      ]
     },
     "execution_count": 41,
     "metadata": {},
     "output_type": "execute_result"
    }
   ],
   "source": [
    "a = \"hi\" #Type function by assigning value\n",
    "type (a)"
   ]
  },
  {
   "cell_type": "code",
   "execution_count": 42,
   "id": "5d9cadbc",
   "metadata": {},
   "outputs": [
    {
     "name": "stdout",
     "output_type": "stream",
     "text": [
      "3\n"
     ]
    }
   ],
   "source": [
    "print (len (\"I'm\")) #Type function by assigning value"
   ]
  }
 ],
 "metadata": {
  "kernelspec": {
   "display_name": "Python 3",
   "language": "python",
   "name": "python3"
  },
  "language_info": {
   "codemirror_mode": {
    "name": "ipython",
    "version": 3
   },
   "file_extension": ".py",
   "mimetype": "text/x-python",
   "name": "python",
   "nbconvert_exporter": "python",
   "pygments_lexer": "ipython3",
   "version": "3.8.8"
  }
 },
 "nbformat": 4,
 "nbformat_minor": 5
}
