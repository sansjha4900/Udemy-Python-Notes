{
 "cells": [
  {
   "cell_type": "code",
   "execution_count": 1,
   "id": "f326a1fb",
   "metadata": {},
   "outputs": [],
   "source": [
    "myset = set()            #Declaring a set"
   ]
  },
  {
   "cell_type": "code",
   "execution_count": 2,
   "id": "fc6ae13a",
   "metadata": {},
   "outputs": [
    {
     "data": {
      "text/plain": [
       "set()"
      ]
     },
     "execution_count": 2,
     "metadata": {},
     "output_type": "execute_result"
    }
   ],
   "source": [
    "myset"
   ]
  },
  {
   "cell_type": "code",
   "execution_count": 3,
   "id": "c53947d6",
   "metadata": {},
   "outputs": [],
   "source": [
    "myset.add(1)             #Adding a vlaue"
   ]
  },
  {
   "cell_type": "code",
   "execution_count": 4,
   "id": "00e0e298",
   "metadata": {},
   "outputs": [
    {
     "data": {
      "text/plain": [
       "{1}"
      ]
     },
     "execution_count": 4,
     "metadata": {},
     "output_type": "execute_result"
    }
   ],
   "source": [
    "myset"
   ]
  },
  {
   "cell_type": "code",
   "execution_count": 5,
   "id": "17ea157c",
   "metadata": {},
   "outputs": [],
   "source": [
    "myset.add(2)             #Adding another value"
   ]
  },
  {
   "cell_type": "code",
   "execution_count": 6,
   "id": "e52b0894",
   "metadata": {},
   "outputs": [
    {
     "data": {
      "text/plain": [
       "{1, 2}"
      ]
     },
     "execution_count": 6,
     "metadata": {},
     "output_type": "execute_result"
    }
   ],
   "source": [
    "myset"
   ]
  },
  {
   "cell_type": "code",
   "execution_count": 7,
   "id": "46cb86fa",
   "metadata": {},
   "outputs": [],
   "source": [
    "myset.add(2)             #Adding same value again"
   ]
  },
  {
   "cell_type": "code",
   "execution_count": 8,
   "id": "63fae1dd",
   "metadata": {},
   "outputs": [
    {
     "data": {
      "text/plain": [
       "{1, 2}"
      ]
     },
     "execution_count": 8,
     "metadata": {},
     "output_type": "execute_result"
    }
   ],
   "source": [
    "myset                    #Set still remains the same"
   ]
  },
  {
   "cell_type": "code",
   "execution_count": 11,
   "id": "825bf690",
   "metadata": {},
   "outputs": [],
   "source": [
    "mylist = [1,1,1,1,1,2,2,2,3,3,3,3]     #Casting a list to set"
   ]
  },
  {
   "cell_type": "code",
   "execution_count": 12,
   "id": "415c8027",
   "metadata": {},
   "outputs": [
    {
     "data": {
      "text/plain": [
       "{1, 2, 3}"
      ]
     },
     "execution_count": 12,
     "metadata": {},
     "output_type": "execute_result"
    }
   ],
   "source": [
    "set (mylist)"
   ]
  },
  {
   "cell_type": "code",
   "execution_count": 13,
   "id": "8a2ecfe7",
   "metadata": {},
   "outputs": [
    {
     "data": {
      "text/plain": [
       "{'P', 'a', 'e', 'l', 'r'}"
      ]
     },
     "execution_count": 13,
     "metadata": {},
     "output_type": "execute_result"
    }
   ],
   "source": [
    "set ('Parallel')              #Set with dif datatypes"
   ]
  },
  {
   "cell_type": "code",
   "execution_count": 14,
   "id": "0bfa6f30",
   "metadata": {},
   "outputs": [
    {
     "data": {
      "text/plain": [
       "{'M', 'i', 'p', 's'}"
      ]
     },
     "execution_count": 14,
     "metadata": {},
     "output_type": "execute_result"
    }
   ],
   "source": [
    "set ('Mississippi')"
   ]
  },
  {
   "cell_type": "code",
   "execution_count": null,
   "id": "b2d8e48a",
   "metadata": {},
   "outputs": [],
   "source": []
  }
 ],
 "metadata": {
  "kernelspec": {
   "display_name": "Python 3",
   "language": "python",
   "name": "python3"
  },
  "language_info": {
   "codemirror_mode": {
    "name": "ipython",
    "version": 3
   },
   "file_extension": ".py",
   "mimetype": "text/x-python",
   "name": "python",
   "nbconvert_exporter": "python",
   "pygments_lexer": "ipython3",
   "version": "3.8.8"
  }
 },
 "nbformat": 4,
 "nbformat_minor": 5
}
