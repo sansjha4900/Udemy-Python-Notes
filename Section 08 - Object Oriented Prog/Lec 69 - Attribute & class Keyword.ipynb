{
 "cells": [
  {
   "cell_type": "markdown",
   "id": "52971453",
   "metadata": {},
   "source": [
    "### Creating an instance:"
   ]
  },
  {
   "cell_type": "code",
   "execution_count": 1,
   "id": "98007ca0",
   "metadata": {},
   "outputs": [],
   "source": [
    "class Sample():\n",
    "    pass"
   ]
  },
  {
   "cell_type": "code",
   "execution_count": 2,
   "id": "741b8a09",
   "metadata": {},
   "outputs": [],
   "source": [
    "my_sample = Sample()"
   ]
  },
  {
   "cell_type": "code",
   "execution_count": 3,
   "id": "8e116df5",
   "metadata": {},
   "outputs": [
    {
     "data": {
      "text/plain": [
       "__main__.Sample"
      ]
     },
     "execution_count": 3,
     "metadata": {},
     "output_type": "execute_result"
    }
   ],
   "source": [
    "type(my_sample)"
   ]
  },
  {
   "cell_type": "markdown",
   "id": "4f8694bc",
   "metadata": {},
   "source": [
    "### Creating an attribute:"
   ]
  },
  {
   "cell_type": "code",
   "execution_count": 5,
   "id": "c6175765",
   "metadata": {},
   "outputs": [],
   "source": [
    "class Dog():\n",
    "    \n",
    "    def __init__(self,breed):\n",
    "        \n",
    "        self.breed = breed"
   ]
  },
  {
   "cell_type": "code",
   "execution_count": 6,
   "id": "6e6ff4cf",
   "metadata": {},
   "outputs": [],
   "source": [
    "my_dog = Dog(breed=\"Lab\")"
   ]
  },
  {
   "cell_type": "code",
   "execution_count": 7,
   "id": "ab177ff7",
   "metadata": {},
   "outputs": [
    {
     "data": {
      "text/plain": [
       "__main__.Dog"
      ]
     },
     "execution_count": 7,
     "metadata": {},
     "output_type": "execute_result"
    }
   ],
   "source": [
    "type(my_dog)"
   ]
  },
  {
   "cell_type": "code",
   "execution_count": 8,
   "id": "abd32779",
   "metadata": {},
   "outputs": [
    {
     "data": {
      "text/plain": [
       "'Lab'"
      ]
     },
     "execution_count": 8,
     "metadata": {},
     "output_type": "execute_result"
    }
   ],
   "source": [
    "my_dog.breed"
   ]
  },
  {
   "cell_type": "markdown",
   "id": "844783b4",
   "metadata": {},
   "source": [
    "### Changing parameter name:"
   ]
  },
  {
   "cell_type": "code",
   "execution_count": 10,
   "id": "125f5154",
   "metadata": {},
   "outputs": [],
   "source": [
    "class Dog():\n",
    "    \n",
    "    def __init__(self,mybreed):\n",
    "        \n",
    "        self.breed = mybreed"
   ]
  },
  {
   "cell_type": "code",
   "execution_count": 15,
   "id": "d22958c6",
   "metadata": {},
   "outputs": [],
   "source": [
    "my_dog = Dog(mybreed=\"Huskie\")"
   ]
  },
  {
   "cell_type": "code",
   "execution_count": 12,
   "id": "34c6b123",
   "metadata": {},
   "outputs": [
    {
     "data": {
      "text/plain": [
       "__main__.Dog"
      ]
     },
     "execution_count": 12,
     "metadata": {},
     "output_type": "execute_result"
    }
   ],
   "source": [
    "type(my_dog)"
   ]
  },
  {
   "cell_type": "code",
   "execution_count": 13,
   "id": "b66ca757",
   "metadata": {},
   "outputs": [
    {
     "data": {
      "text/plain": [
       "'Huskie'"
      ]
     },
     "execution_count": 13,
     "metadata": {},
     "output_type": "execute_result"
    }
   ],
   "source": [
    "my_dog.breed"
   ]
  },
  {
   "cell_type": "markdown",
   "id": "0bcb5658",
   "metadata": {},
   "source": [
    "### Changing attribute name:"
   ]
  },
  {
   "cell_type": "code",
   "execution_count": 19,
   "id": "de9ba1c7",
   "metadata": {},
   "outputs": [],
   "source": [
    "class Dog():\n",
    "    \n",
    "    def __init__(self,mybreed):\n",
    "        \n",
    "        self.my_attribute = mybreed"
   ]
  },
  {
   "cell_type": "code",
   "execution_count": 20,
   "id": "af1841d1",
   "metadata": {},
   "outputs": [],
   "source": [
    "my_dog = Dog(mybreed=\"Poodle\")"
   ]
  },
  {
   "cell_type": "code",
   "execution_count": 21,
   "id": "f0de1945",
   "metadata": {},
   "outputs": [
    {
     "data": {
      "text/plain": [
       "__main__.Dog"
      ]
     },
     "execution_count": 21,
     "metadata": {},
     "output_type": "execute_result"
    }
   ],
   "source": [
    "type(my_dog)"
   ]
  },
  {
   "cell_type": "code",
   "execution_count": 22,
   "id": "d1cc8e95",
   "metadata": {},
   "outputs": [
    {
     "data": {
      "text/plain": [
       "'Poodle'"
      ]
     },
     "execution_count": 22,
     "metadata": {},
     "output_type": "execute_result"
    }
   ],
   "source": [
    "my_dog.my_attribute"
   ]
  },
  {
   "cell_type": "markdown",
   "id": "0e75e421",
   "metadata": {},
   "source": [
    "### Example with more attribute:"
   ]
  },
  {
   "cell_type": "code",
   "execution_count": 23,
   "id": "156f1b80",
   "metadata": {},
   "outputs": [],
   "source": [
    "class Dog():\n",
    "    \n",
    "    def __init__(self,breed,name,spots):\n",
    "        \n",
    "        # breed & name would'be strings\n",
    "        self.breed = breed\n",
    "        self.name = name\n",
    "        \n",
    "        # spots would give True/False\n",
    "        self.spots = spots"
   ]
  },
  {
   "cell_type": "code",
   "execution_count": 24,
   "id": "607dd540",
   "metadata": {},
   "outputs": [],
   "source": [
    "my_dog = Dog(breed=\"lab\", name=\"Sammy\", spots=False)"
   ]
  },
  {
   "cell_type": "code",
   "execution_count": 26,
   "id": "080bc215",
   "metadata": {},
   "outputs": [
    {
     "name": "stdout",
     "output_type": "stream",
     "text": [
      "Sammy\n",
      "lab\n",
      "False\n"
     ]
    }
   ],
   "source": [
    "print (my_dog.name)\n",
    "print (my_dog.breed)\n",
    "print (my_dog.spots)"
   ]
  }
 ],
 "metadata": {
  "kernelspec": {
   "display_name": "Python 3",
   "language": "python",
   "name": "python3"
  },
  "language_info": {
   "codemirror_mode": {
    "name": "ipython",
    "version": 3
   },
   "file_extension": ".py",
   "mimetype": "text/x-python",
   "name": "python",
   "nbconvert_exporter": "python",
   "pygments_lexer": "ipython3",
   "version": "3.8.8"
  }
 },
 "nbformat": 4,
 "nbformat_minor": 5
}
