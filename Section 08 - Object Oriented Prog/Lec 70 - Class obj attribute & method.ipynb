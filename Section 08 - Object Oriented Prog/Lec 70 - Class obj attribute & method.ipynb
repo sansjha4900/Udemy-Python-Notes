{
 "cells": [
  {
   "cell_type": "markdown",
   "id": "6d22d080",
   "metadata": {},
   "source": [
    "### Class object attribute:"
   ]
  },
  {
   "cell_type": "code",
   "execution_count": 1,
   "id": "7deb8954",
   "metadata": {},
   "outputs": [],
   "source": [
    "class Dog():\n",
    "    \n",
    "    # Class object attribute\n",
    "    # Same for any instance of class\n",
    "    \n",
    "    class_mammalia = \"mammal\"\n",
    "    \n",
    "    def __init__(self,breed,name,spots):\n",
    "        \n",
    "        self.name = name\n",
    "        self.breed = breed\n",
    "        self.spots = spots"
   ]
  },
  {
   "cell_type": "code",
   "execution_count": 2,
   "id": "faa33357",
   "metadata": {},
   "outputs": [],
   "source": [
    "my_dog = Dog(breed=\"lab\", name=\"Sammy\", spots=\"No spots\")"
   ]
  },
  {
   "cell_type": "code",
   "execution_count": 3,
   "id": "8267f87f",
   "metadata": {},
   "outputs": [
    {
     "name": "stdout",
     "output_type": "stream",
     "text": [
      "Sammy\n",
      "lab\n",
      "No spots\n",
      "mammal\n"
     ]
    }
   ],
   "source": [
    "print (my_dog.name)\n",
    "print (my_dog.breed)\n",
    "print (my_dog.spots)\n",
    "print (my_dog.class_mammalia)"
   ]
  },
  {
   "cell_type": "code",
   "execution_count": 4,
   "id": "50fb74c6",
   "metadata": {},
   "outputs": [
    {
     "data": {
      "text/plain": [
       "__main__.Dog"
      ]
     },
     "execution_count": 4,
     "metadata": {},
     "output_type": "execute_result"
    }
   ],
   "source": [
    "type(my_dog)"
   ]
  },
  {
   "cell_type": "markdown",
   "id": "97bca8ff",
   "metadata": {},
   "source": [
    "### Methods:"
   ]
  },
  {
   "cell_type": "code",
   "execution_count": 5,
   "id": "553181bf",
   "metadata": {},
   "outputs": [],
   "source": [
    "class Dog():\n",
    "    \n",
    "  # Class object attribute\n",
    "  # Same for any instance of class\n",
    "    \n",
    "    species = \"Mammal\"\n",
    "    \n",
    "    def __init__(self,breed,name):\n",
    "        \n",
    "        self.name = name\n",
    "        self.breed = breed\n",
    "        \n",
    "  # Methods declaration\n",
    "  # Operations / Actions\n",
    "        \n",
    "    def bark(self,number):\n",
    "        print (\"Woof!, I'm {}, {} years old\".format(self.name,number))"
   ]
  },
  {
   "cell_type": "code",
   "execution_count": 6,
   "id": "f5dcafa2",
   "metadata": {},
   "outputs": [],
   "source": [
    "my_dog = Dog(\"Lab\",\"Sammy\")"
   ]
  },
  {
   "cell_type": "code",
   "execution_count": 7,
   "id": "072d6267",
   "metadata": {},
   "outputs": [
    {
     "name": "stdout",
     "output_type": "stream",
     "text": [
      "Sammy\n",
      "Lab\n",
      "Mammal\n"
     ]
    }
   ],
   "source": [
    "print (my_dog.name)\n",
    "print (my_dog.breed)\n",
    "print (my_dog.species)"
   ]
  },
  {
   "cell_type": "code",
   "execution_count": 8,
   "id": "c9166e39",
   "metadata": {},
   "outputs": [
    {
     "name": "stdout",
     "output_type": "stream",
     "text": [
      "Woof!, I'm Sammy, 2 years old\n"
     ]
    }
   ],
   "source": [
    "my_dog.bark(2)"
   ]
  },
  {
   "cell_type": "markdown",
   "id": "d7b57a16",
   "metadata": {},
   "source": [
    "### Example:"
   ]
  },
  {
   "cell_type": "code",
   "execution_count": 1,
   "id": "fa794b11",
   "metadata": {},
   "outputs": [],
   "source": [
    "class Circle():\n",
    "    \n",
    "  # Class object attribute\n",
    "    pi = 3.14\n",
    "    \n",
    "  # User defined attribute\n",
    "    def __init__(self,radius=1):\n",
    "        self.radius = radius\n",
    "        self.area = radius*radius*self.pi\n",
    "  \n",
    "  # Method to do some work\n",
    "    def get_circumference(self):\n",
    "        return 2 * self.pi * self.radius"
   ]
  },
  {
   "cell_type": "code",
   "execution_count": 2,
   "id": "1f793b2a",
   "metadata": {},
   "outputs": [],
   "source": [
    "my_circle = Circle()"
   ]
  },
  {
   "cell_type": "code",
   "execution_count": 11,
   "id": "bdcba129",
   "metadata": {},
   "outputs": [
    {
     "data": {
      "text/plain": [
       "3.14"
      ]
     },
     "execution_count": 11,
     "metadata": {},
     "output_type": "execute_result"
    }
   ],
   "source": [
    "my_circle.pi"
   ]
  },
  {
   "cell_type": "code",
   "execution_count": 12,
   "id": "f5ec09a4",
   "metadata": {},
   "outputs": [
    {
     "data": {
      "text/plain": [
       "1"
      ]
     },
     "execution_count": 12,
     "metadata": {},
     "output_type": "execute_result"
    }
   ],
   "source": [
    "my_circle.radius"
   ]
  },
  {
   "cell_type": "code",
   "execution_count": 3,
   "id": "5f728f33",
   "metadata": {},
   "outputs": [],
   "source": [
    "my_circle = Circle(30)"
   ]
  },
  {
   "cell_type": "code",
   "execution_count": 4,
   "id": "6d914f48",
   "metadata": {},
   "outputs": [
    {
     "data": {
      "text/plain": [
       "30"
      ]
     },
     "execution_count": 4,
     "metadata": {},
     "output_type": "execute_result"
    }
   ],
   "source": [
    "my_circle.radius"
   ]
  },
  {
   "cell_type": "code",
   "execution_count": 5,
   "id": "94cee115",
   "metadata": {},
   "outputs": [
    {
     "data": {
      "text/plain": [
       "188.4"
      ]
     },
     "execution_count": 5,
     "metadata": {},
     "output_type": "execute_result"
    }
   ],
   "source": [
    "my_circle.get_circumference()"
   ]
  },
  {
   "cell_type": "code",
   "execution_count": 6,
   "id": "36fe6e09",
   "metadata": {},
   "outputs": [
    {
     "data": {
      "text/plain": [
       "2826.0"
      ]
     },
     "execution_count": 6,
     "metadata": {},
     "output_type": "execute_result"
    }
   ],
   "source": [
    "my_circle.area"
   ]
  },
  {
   "cell_type": "code",
   "execution_count": 7,
   "id": "461f97cb",
   "metadata": {},
   "outputs": [],
   "source": [
    "# Can use self.pi or Circle.pi since class object attribute"
   ]
  },
  {
   "cell_type": "code",
   "execution_count": null,
   "id": "7b0cdb86",
   "metadata": {},
   "outputs": [],
   "source": []
  }
 ],
 "metadata": {
  "kernelspec": {
   "display_name": "Python 3",
   "language": "python",
   "name": "python3"
  },
  "language_info": {
   "codemirror_mode": {
    "name": "ipython",
    "version": 3
   },
   "file_extension": ".py",
   "mimetype": "text/x-python",
   "name": "python",
   "nbconvert_exporter": "python",
   "pygments_lexer": "ipython3",
   "version": "3.8.8"
  }
 },
 "nbformat": 4,
 "nbformat_minor": 5
}
