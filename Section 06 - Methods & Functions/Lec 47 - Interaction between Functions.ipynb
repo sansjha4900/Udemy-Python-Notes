{
 "cells": [
  {
   "cell_type": "code",
   "execution_count": 1,
   "id": "a86c5e19",
   "metadata": {},
   "outputs": [],
   "source": [
    "example = [1,2,3,4,5,6,7]"
   ]
  },
  {
   "cell_type": "code",
   "execution_count": 2,
   "id": "e7af89c7",
   "metadata": {},
   "outputs": [],
   "source": [
    "from random import shuffle     #Importing shuffle function"
   ]
  },
  {
   "cell_type": "code",
   "execution_count": 3,
   "id": "b466e434",
   "metadata": {},
   "outputs": [],
   "source": [
    "shuffle(example)"
   ]
  },
  {
   "cell_type": "code",
   "execution_count": 4,
   "id": "2b5c292e",
   "metadata": {},
   "outputs": [
    {
     "data": {
      "text/plain": [
       "[7, 1, 5, 2, 3, 4, 6]"
      ]
     },
     "execution_count": 4,
     "metadata": {},
     "output_type": "execute_result"
    }
   ],
   "source": [
    "example"
   ]
  },
  {
   "cell_type": "code",
   "execution_count": 5,
   "id": "813909be",
   "metadata": {},
   "outputs": [
    {
     "data": {
      "text/plain": [
       "[7, 1, 5, 2, 3, 4, 6]"
      ]
     },
     "execution_count": 5,
     "metadata": {},
     "output_type": "execute_result"
    }
   ],
   "source": [
    "example"
   ]
  },
  {
   "cell_type": "markdown",
   "id": "e204b422",
   "metadata": {},
   "source": [
    "### Shuffling & storing:"
   ]
  },
  {
   "cell_type": "code",
   "execution_count": 6,
   "id": "f8ca1086",
   "metadata": {},
   "outputs": [],
   "source": [
    "def shuffle_list(mylist):\n",
    "    shuffle(mylist)\n",
    "    return (mylist)"
   ]
  },
  {
   "cell_type": "code",
   "execution_count": 7,
   "id": "80f823ca",
   "metadata": {},
   "outputs": [],
   "source": [
    "result = shuffle_list(example)"
   ]
  },
  {
   "cell_type": "code",
   "execution_count": 8,
   "id": "2f9bb59d",
   "metadata": {},
   "outputs": [
    {
     "data": {
      "text/plain": [
       "[5, 7, 6, 3, 2, 4, 1]"
      ]
     },
     "execution_count": 8,
     "metadata": {},
     "output_type": "execute_result"
    }
   ],
   "source": [
    "result"
   ]
  },
  {
   "cell_type": "markdown",
   "id": "3b55a859",
   "metadata": {},
   "source": [
    "### Three Cup Monte game:"
   ]
  },
  {
   "cell_type": "markdown",
   "id": "62087c96",
   "metadata": {},
   "source": [
    "#### Function to shuffle & return:"
   ]
  },
  {
   "cell_type": "code",
   "execution_count": 13,
   "id": "e92dbacd",
   "metadata": {},
   "outputs": [],
   "source": [
    "def shuffle_list(mylist):\n",
    "    shuffle(mylist)\n",
    "    return (mylist)"
   ]
  },
  {
   "cell_type": "markdown",
   "id": "80d19ca8",
   "metadata": {},
   "source": [
    "#### Creating game list:"
   ]
  },
  {
   "cell_type": "code",
   "execution_count": 9,
   "id": "db8cab6d",
   "metadata": {},
   "outputs": [],
   "source": [
    "mylist = [' ','O',' ']"
   ]
  },
  {
   "cell_type": "code",
   "execution_count": 10,
   "id": "eefb8095",
   "metadata": {
    "scrolled": true
   },
   "outputs": [
    {
     "data": {
      "text/plain": [
       "[' ', 'O', ' ']"
      ]
     },
     "execution_count": 10,
     "metadata": {},
     "output_type": "execute_result"
    }
   ],
   "source": [
    "shuffle_list(mylist)"
   ]
  },
  {
   "cell_type": "markdown",
   "id": "6fc05c4b",
   "metadata": {},
   "source": [
    "#### Function to get user guess:"
   ]
  },
  {
   "cell_type": "code",
   "execution_count": 11,
   "id": "f7ed0e0b",
   "metadata": {},
   "outputs": [],
   "source": [
    "def player_guess():\n",
    "    guess = ''\n",
    "    \n",
    "    while guess not in ['0','1','2']:\n",
    "        guess = input (\"Enter a no.: 0, 1, or 2 = \")\n",
    "        \n",
    "    return int(guess)"
   ]
  },
  {
   "cell_type": "code",
   "execution_count": 12,
   "id": "9ece6863",
   "metadata": {},
   "outputs": [
    {
     "name": "stdout",
     "output_type": "stream",
     "text": [
      "Enter a no.: 0, 1, or 2 = 8\n",
      "Enter a no.: 0, 1, or 2 = 2\n"
     ]
    },
    {
     "data": {
      "text/plain": [
       "2"
      ]
     },
     "execution_count": 12,
     "metadata": {},
     "output_type": "execute_result"
    }
   ],
   "source": [
    "player_guess()"
   ]
  },
  {
   "cell_type": "markdown",
   "id": "678a6532",
   "metadata": {},
   "source": [
    "#### Function to combine other 2 func:"
   ]
  },
  {
   "cell_type": "code",
   "execution_count": 15,
   "id": "75344362",
   "metadata": {},
   "outputs": [],
   "source": [
    "def check_guess(mylist,guess):\n",
    "    if mylist[guess] == 'O':\n",
    "        print (\"Correct!\")\n",
    "    else:\n",
    "        print (\"Wrong!\")\n",
    "        print (mylist)"
   ]
  },
  {
   "cell_type": "markdown",
   "id": "5b024967",
   "metadata": {},
   "source": [
    "#### Logic to call functions in order:"
   ]
  },
  {
   "cell_type": "code",
   "execution_count": 16,
   "id": "48814685",
   "metadata": {},
   "outputs": [],
   "source": [
    "mylist = [' ','O',' ']"
   ]
  },
  {
   "cell_type": "code",
   "execution_count": 17,
   "id": "e685768c",
   "metadata": {},
   "outputs": [],
   "source": [
    "mixedup_list = shuffle_list(mylist)"
   ]
  },
  {
   "cell_type": "code",
   "execution_count": 18,
   "id": "052c9fca",
   "metadata": {},
   "outputs": [
    {
     "name": "stdout",
     "output_type": "stream",
     "text": [
      "Enter a no.: 0, 1, or 2 = 5\n",
      "Enter a no.: 0, 1, or 2 = 2\n"
     ]
    }
   ],
   "source": [
    "guess = player_guess()"
   ]
  },
  {
   "cell_type": "code",
   "execution_count": 19,
   "id": "b0280242",
   "metadata": {},
   "outputs": [
    {
     "name": "stdout",
     "output_type": "stream",
     "text": [
      "Wrong!\n",
      "['O', ' ', ' ']\n"
     ]
    }
   ],
   "source": [
    "check_guess(mixedup_list,guess)"
   ]
  },
  {
   "cell_type": "markdown",
   "id": "0178f897",
   "metadata": {},
   "source": [
    "***"
   ]
  },
  {
   "cell_type": "markdown",
   "id": "86dfe9e5",
   "metadata": {},
   "source": [
    "## Complete 3 cup monte game:"
   ]
  },
  {
   "cell_type": "code",
   "execution_count": 23,
   "id": "dc9c615a",
   "metadata": {},
   "outputs": [
    {
     "name": "stdout",
     "output_type": "stream",
     "text": [
      "Enter a no.: 0, 1, or 2 = 5\n",
      "Enter a no.: 0, 1, or 2 = 2\n",
      "Wrong!\n",
      "['O', ' ', ' ']\n"
     ]
    }
   ],
   "source": [
    "def shuffle_list(mylist):\n",
    "    shuffle(mylist)\n",
    "    return (mylist)\n",
    "\n",
    "mylist = [' ','O',' ']\n",
    "\n",
    "def player_guess():\n",
    "    guess = ''\n",
    "    \n",
    "    while guess not in ['0','1','2']:\n",
    "        guess = input (\"Enter a no.: 0, 1, or 2 = \")\n",
    "        \n",
    "    return int(guess)\n",
    "\n",
    "def check_guess(mylist,guess):\n",
    "    if mylist[guess] == 'O':\n",
    "        print (\"Correct!\")\n",
    "    else:\n",
    "        print (\"Wrong!\")\n",
    "        print (mylist)\n",
    "        \n",
    "mylist = [' ','O',' ']\n",
    "\n",
    "mixedup_list = shuffle_list(mylist)\n",
    "\n",
    "guess = player_guess()\n",
    "\n",
    "check_guess(mixedup_list,guess)"
   ]
  }
 ],
 "metadata": {
  "kernelspec": {
   "display_name": "Python 3",
   "language": "python",
   "name": "python3"
  },
  "language_info": {
   "codemirror_mode": {
    "name": "ipython",
    "version": 3
   },
   "file_extension": ".py",
   "mimetype": "text/x-python",
   "name": "python",
   "nbconvert_exporter": "python",
   "pygments_lexer": "ipython3",
   "version": "3.8.8"
  }
 },
 "nbformat": 4,
 "nbformat_minor": 5
}
