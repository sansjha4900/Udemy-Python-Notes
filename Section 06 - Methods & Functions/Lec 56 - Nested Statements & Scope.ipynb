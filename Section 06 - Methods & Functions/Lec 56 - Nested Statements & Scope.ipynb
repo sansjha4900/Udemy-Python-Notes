{
 "cells": [
  {
   "cell_type": "code",
   "execution_count": 1,
   "id": "eecaa35c",
   "metadata": {},
   "outputs": [],
   "source": [
    "x = 25\n",
    "\n",
    "def printer():\n",
    "    x = 50\n",
    "    return x"
   ]
  },
  {
   "cell_type": "code",
   "execution_count": 2,
   "id": "465ec9c8",
   "metadata": {},
   "outputs": [
    {
     "name": "stdout",
     "output_type": "stream",
     "text": [
      "25\n"
     ]
    }
   ],
   "source": [
    "print (x)"
   ]
  },
  {
   "cell_type": "code",
   "execution_count": 3,
   "id": "841228b3",
   "metadata": {},
   "outputs": [
    {
     "name": "stdout",
     "output_type": "stream",
     "text": [
      "50\n"
     ]
    }
   ],
   "source": [
    "print (printer())"
   ]
  },
  {
   "cell_type": "markdown",
   "id": "c8ad15fc",
   "metadata": {},
   "source": [
    "### Local variable:"
   ]
  },
  {
   "cell_type": "code",
   "execution_count": 1,
   "id": "d49fcb28",
   "metadata": {},
   "outputs": [
    {
     "data": {
      "text/plain": [
       "<function __main__.<lambda>(num)>"
      ]
     },
     "execution_count": 1,
     "metadata": {},
     "output_type": "execute_result"
    }
   ],
   "source": [
    "lambda num: num**2"
   ]
  },
  {
   "cell_type": "code",
   "execution_count": 17,
   "id": "7a9a01f8",
   "metadata": {},
   "outputs": [],
   "source": [
    "name = \"Global String\"\n",
    "\n",
    "def greet():\n",
    "    name = \"Enclosing\"\n",
    "    \n",
    "    def hello():\n",
    "        \n",
    "        name = \"I'm local\"\n",
    "        print (\"Hello \"+name)\n",
    "        \n",
    "    hello()"
   ]
  },
  {
   "cell_type": "code",
   "execution_count": 18,
   "id": "30cebe91",
   "metadata": {},
   "outputs": [
    {
     "name": "stdout",
     "output_type": "stream",
     "text": [
      "Hello I'm local\n"
     ]
    }
   ],
   "source": [
    "greet()"
   ]
  },
  {
   "cell_type": "markdown",
   "id": "f62ab46f",
   "metadata": {},
   "source": [
    "### Enclosing variable"
   ]
  },
  {
   "cell_type": "code",
   "execution_count": 19,
   "id": "70fd1823",
   "metadata": {},
   "outputs": [],
   "source": [
    "name = \"Global String\"\n",
    "\n",
    "def greet():\n",
    "    name = \"Enclosing\"\n",
    "    \n",
    "    def hello():\n",
    "        \n",
    "        # name = \"I'm local\"\n",
    "        print (\"Hello \"+name)\n",
    "        \n",
    "    hello()"
   ]
  },
  {
   "cell_type": "code",
   "execution_count": 20,
   "id": "5d53b61b",
   "metadata": {},
   "outputs": [
    {
     "name": "stdout",
     "output_type": "stream",
     "text": [
      "Hello Enclosing\n"
     ]
    }
   ],
   "source": [
    "greet()"
   ]
  },
  {
   "cell_type": "markdown",
   "id": "81ccb1a2",
   "metadata": {},
   "source": [
    "### Global variable:"
   ]
  },
  {
   "cell_type": "code",
   "execution_count": 21,
   "id": "c173f4b3",
   "metadata": {},
   "outputs": [],
   "source": [
    "name = \"Global String\"\n",
    "\n",
    "def greet():\n",
    "    # name = \"Enclosing\"\n",
    "    \n",
    "    def hello():\n",
    "        \n",
    "        # name = \"I'm local\"\n",
    "        print (\"Hello \"+name)\n",
    "        \n",
    "    hello()"
   ]
  },
  {
   "cell_type": "code",
   "execution_count": 22,
   "id": "f58d6def",
   "metadata": {},
   "outputs": [
    {
     "name": "stdout",
     "output_type": "stream",
     "text": [
      "Hello Global String\n"
     ]
    }
   ],
   "source": [
    "greet()"
   ]
  },
  {
   "cell_type": "markdown",
   "id": "b8e83f32",
   "metadata": {},
   "source": [
    "### Built-in variable:"
   ]
  },
  {
   "cell_type": "code",
   "execution_count": 23,
   "id": "e0b01407",
   "metadata": {},
   "outputs": [],
   "source": [
    "len = 5"
   ]
  },
  {
   "cell_type": "code",
   "execution_count": 24,
   "id": "0de4b908",
   "metadata": {},
   "outputs": [
    {
     "data": {
      "text/plain": [
       "5"
      ]
     },
     "execution_count": 24,
     "metadata": {},
     "output_type": "execute_result"
    }
   ],
   "source": [
    "len"
   ]
  },
  {
   "cell_type": "code",
   "execution_count": 28,
   "id": "55dbb7c0",
   "metadata": {},
   "outputs": [],
   "source": [
    "# here len is built-in function not variable name, use alt name"
   ]
  },
  {
   "cell_type": "code",
   "execution_count": 26,
   "id": "0b77b465",
   "metadata": {},
   "outputs": [],
   "source": [
    "length = 5"
   ]
  },
  {
   "cell_type": "code",
   "execution_count": 27,
   "id": "84c916d0",
   "metadata": {},
   "outputs": [
    {
     "data": {
      "text/plain": [
       "5"
      ]
     },
     "execution_count": 27,
     "metadata": {},
     "output_type": "execute_result"
    }
   ],
   "source": [
    "length"
   ]
  },
  {
   "cell_type": "markdown",
   "id": "3aafa032",
   "metadata": {},
   "source": [
    "### Scope Keywords:"
   ]
  },
  {
   "cell_type": "markdown",
   "id": "5b6ffa3b",
   "metadata": {},
   "source": [
    "<b>Before scope keywords:"
   ]
  },
  {
   "cell_type": "code",
   "execution_count": 45,
   "id": "7a530e9d",
   "metadata": {},
   "outputs": [],
   "source": [
    "x = 50\n",
    "\n",
    "def func(x):\n",
    "    print (f'X is {x}')\n",
    "    \n",
    "    #Local re-assignment\n",
    "    x = 200\n",
    "    print (f'Locally changed X to {x}')"
   ]
  },
  {
   "cell_type": "code",
   "execution_count": 46,
   "id": "8caf1601",
   "metadata": {},
   "outputs": [
    {
     "name": "stdout",
     "output_type": "stream",
     "text": [
      "50\n"
     ]
    }
   ],
   "source": [
    "print (x)"
   ]
  },
  {
   "cell_type": "code",
   "execution_count": 47,
   "id": "53febc61",
   "metadata": {},
   "outputs": [
    {
     "name": "stdout",
     "output_type": "stream",
     "text": [
      "X is 50\n",
      "Locally changed X to 200\n"
     ]
    }
   ],
   "source": [
    "func(x)"
   ]
  },
  {
   "cell_type": "markdown",
   "id": "270f32bb",
   "metadata": {},
   "source": [
    "<b>After scope keywords:"
   ]
  },
  {
   "cell_type": "code",
   "execution_count": 51,
   "id": "0e99b30a",
   "metadata": {},
   "outputs": [],
   "source": [
    "x = 50\n",
    "\n",
    "def func():\n",
    "    global x\n",
    "    print (f'X is {x}')\n",
    "    \n",
    "    #Local re-assignment on a GLOBAL variable\n",
    "    x = \"..New value..\"\n",
    "    print (f'Globally changed X to {x}')"
   ]
  },
  {
   "cell_type": "code",
   "execution_count": 52,
   "id": "ee76214b",
   "metadata": {},
   "outputs": [
    {
     "name": "stdout",
     "output_type": "stream",
     "text": [
      "50\n"
     ]
    }
   ],
   "source": [
    "print (x)"
   ]
  },
  {
   "cell_type": "code",
   "execution_count": 53,
   "id": "2207d688",
   "metadata": {},
   "outputs": [
    {
     "name": "stdout",
     "output_type": "stream",
     "text": [
      "X is 50\n",
      "Globally changed X to ..New value..\n"
     ]
    }
   ],
   "source": [
    "func()"
   ]
  },
  {
   "cell_type": "code",
   "execution_count": 54,
   "id": "f87307af",
   "metadata": {},
   "outputs": [
    {
     "name": "stdout",
     "output_type": "stream",
     "text": [
      "..New value..\n"
     ]
    }
   ],
   "source": [
    "print (x)"
   ]
  },
  {
   "cell_type": "code",
   "execution_count": 55,
   "id": "e997939b",
   "metadata": {},
   "outputs": [],
   "source": [
    "##### General use #####"
   ]
  },
  {
   "cell_type": "code",
   "execution_count": 56,
   "id": "1dd8c1da",
   "metadata": {},
   "outputs": [],
   "source": [
    "x = 50\n",
    "\n",
    "def func(x):\n",
    "\n",
    "    print (f'X is {x}')\n",
    "    \n",
    "    #Local re-assignment to general variable\n",
    "    x = \"..New value..\"\n",
    "    print (f'Generally changed X to {x}')\n",
    "    \n",
    "    return x"
   ]
  },
  {
   "cell_type": "code",
   "execution_count": 57,
   "id": "e0d90b7c",
   "metadata": {},
   "outputs": [
    {
     "name": "stdout",
     "output_type": "stream",
     "text": [
      "50\n"
     ]
    }
   ],
   "source": [
    "print (x)"
   ]
  },
  {
   "cell_type": "code",
   "execution_count": 59,
   "id": "2cf31230",
   "metadata": {},
   "outputs": [
    {
     "name": "stdout",
     "output_type": "stream",
     "text": [
      "X is 50\n",
      "Generally changed X to ..New value..\n"
     ]
    }
   ],
   "source": [
    "x = func(x)"
   ]
  },
  {
   "cell_type": "code",
   "execution_count": 60,
   "id": "aeefeee0",
   "metadata": {},
   "outputs": [
    {
     "data": {
      "text/plain": [
       "'..New value..'"
      ]
     },
     "execution_count": 60,
     "metadata": {},
     "output_type": "execute_result"
    }
   ],
   "source": [
    "x"
   ]
  },
  {
   "cell_type": "code",
   "execution_count": null,
   "id": "7228712e",
   "metadata": {},
   "outputs": [],
   "source": []
  }
 ],
 "metadata": {
  "kernelspec": {
   "display_name": "Python 3",
   "language": "python",
   "name": "python3"
  },
  "language_info": {
   "codemirror_mode": {
    "name": "ipython",
    "version": 3
   },
   "file_extension": ".py",
   "mimetype": "text/x-python",
   "name": "python",
   "nbconvert_exporter": "python",
   "pygments_lexer": "ipython3",
   "version": "3.8.8"
  }
 },
 "nbformat": 4,
 "nbformat_minor": 5
}
