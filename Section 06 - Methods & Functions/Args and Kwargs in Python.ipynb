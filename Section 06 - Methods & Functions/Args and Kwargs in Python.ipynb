{
 "cells": [
  {
   "cell_type": "code",
   "execution_count": 1,
   "id": "58664d9c",
   "metadata": {},
   "outputs": [],
   "source": [
    "def myfunc(a,b):\n",
    "    #Returns 5% of the sum of a and b\n",
    "    return sum ((a,b)) * 0.05"
   ]
  },
  {
   "cell_type": "code",
   "execution_count": 2,
   "id": "2b92d6f1",
   "metadata": {},
   "outputs": [
    {
     "data": {
      "text/plain": [
       "0.75"
      ]
     },
     "execution_count": 2,
     "metadata": {},
     "output_type": "execute_result"
    }
   ],
   "source": [
    "myfunc(5,10)               #Working with two arguments to find percentage of sum"
   ]
  },
  {
   "cell_type": "code",
   "execution_count": 3,
   "id": "b3f25ce7",
   "metadata": {},
   "outputs": [
    {
     "data": {
      "text/plain": [
       "5.0"
      ]
     },
     "execution_count": 3,
     "metadata": {},
     "output_type": "execute_result"
    }
   ],
   "source": [
    "myfunc(40,60)"
   ]
  },
  {
   "cell_type": "code",
   "execution_count": 4,
   "id": "261deab5",
   "metadata": {},
   "outputs": [],
   "source": [
    "def myfunc(a,b,c=0):\n",
    "    #Returns 5% of the sum of a and b\n",
    "    return sum ((a,b,c)) * 0.05"
   ]
  },
  {
   "cell_type": "code",
   "execution_count": 7,
   "id": "014f6522",
   "metadata": {},
   "outputs": [
    {
     "data": {
      "text/plain": [
       "5.0"
      ]
     },
     "execution_count": 7,
     "metadata": {},
     "output_type": "execute_result"
    }
   ],
   "source": [
    "myfunc(40,60)              #Working with more than 2 & setting one's value to default = 0"
   ]
  },
  {
   "cell_type": "code",
   "execution_count": 6,
   "id": "b26171e3",
   "metadata": {},
   "outputs": [
    {
     "data": {
      "text/plain": [
       "7.5"
      ]
     },
     "execution_count": 6,
     "metadata": {},
     "output_type": "execute_result"
    }
   ],
   "source": [
    "myfunc(40,60,50)"
   ]
  },
  {
   "cell_type": "markdown",
   "id": "f985fa96",
   "metadata": {},
   "source": [
    "## *args:"
   ]
  },
  {
   "cell_type": "code",
   "execution_count": 8,
   "id": "4527ee4a",
   "metadata": {},
   "outputs": [],
   "source": [
    "def myfunc(*args):\n",
    "    return sum(args) * 0.05"
   ]
  },
  {
   "cell_type": "code",
   "execution_count": 10,
   "id": "0ba6fbed",
   "metadata": {},
   "outputs": [
    {
     "data": {
      "text/plain": [
       "10.0"
      ]
     },
     "execution_count": 10,
     "metadata": {},
     "output_type": "execute_result"
    }
   ],
   "source": [
    "myfunc(40,60,100)          #Working with \"n\" numbers of arguments without knowing how many"
   ]
  },
  {
   "cell_type": "code",
   "execution_count": 11,
   "id": "b9577ae4",
   "metadata": {},
   "outputs": [
    {
     "data": {
      "text/plain": [
       "2.5"
      ]
     },
     "execution_count": 11,
     "metadata": {},
     "output_type": "execute_result"
    }
   ],
   "source": [
    "myfunc(5,10,15,20)"
   ]
  },
  {
   "cell_type": "code",
   "execution_count": 12,
   "id": "c4dbf243",
   "metadata": {},
   "outputs": [],
   "source": [
    "def myfunc(*args):\n",
    "    for item in args:\n",
    "        print (item)"
   ]
  },
  {
   "cell_type": "code",
   "execution_count": 13,
   "id": "2e3e49a9",
   "metadata": {},
   "outputs": [
    {
     "name": "stdout",
     "output_type": "stream",
     "text": [
      "5\n",
      "10\n",
      "15\n",
      "20\n"
     ]
    }
   ],
   "source": [
    "myfunc(5,10,15,20)"
   ]
  },
  {
   "cell_type": "markdown",
   "id": "eda6f164",
   "metadata": {},
   "source": [
    "## **kwargs:"
   ]
  },
  {
   "cell_type": "code",
   "execution_count": 19,
   "id": "ff6477cf",
   "metadata": {},
   "outputs": [],
   "source": [
    "def myfunc(**kwargs):\n",
    "    if 'fruit' in kwargs:\n",
    "        print (\"My fruit is {}\".format(kwargs['fruit']))\n",
    "    else:\n",
    "        print (\"Nothing is here.\")"
   ]
  },
  {
   "cell_type": "code",
   "execution_count": 20,
   "id": "107ab51d",
   "metadata": {},
   "outputs": [
    {
     "name": "stdout",
     "output_type": "stream",
     "text": [
      "My fruit is apple\n"
     ]
    }
   ],
   "source": [
    "myfunc(fruit = \"apple\")"
   ]
  },
  {
   "cell_type": "code",
   "execution_count": 21,
   "id": "6e73da56",
   "metadata": {},
   "outputs": [
    {
     "name": "stdout",
     "output_type": "stream",
     "text": [
      "My fruit is apple\n"
     ]
    }
   ],
   "source": [
    "myfunc(fruit = \"apple\", veggie = \"lettuce\")"
   ]
  },
  {
   "cell_type": "markdown",
   "id": "2541e1c7",
   "metadata": {},
   "source": [
    "## Combination:"
   ]
  },
  {
   "cell_type": "code",
   "execution_count": 31,
   "id": "1b8f6ced",
   "metadata": {},
   "outputs": [],
   "source": [
    "def myfunc(*args,**kwargs):\n",
    "    print (\"I would like {} {}\".format(args[0],kwargs['food']))\n",
    "    print ('\\n')\n",
    "    print (args)\n",
    "    print (kwargs)"
   ]
  },
  {
   "cell_type": "code",
   "execution_count": 32,
   "id": "c49ef2da",
   "metadata": {},
   "outputs": [
    {
     "name": "stdout",
     "output_type": "stream",
     "text": [
      "I would like 10 eggs\n",
      "\n",
      "\n",
      "(10, 20, 30)\n",
      "{'fruit': 'apple', 'food': 'eggs', 'veggie': 'lettuce'}\n"
     ]
    }
   ],
   "source": [
    "myfunc(10,20,30,fruit='apple',food='eggs',veggie='lettuce')"
   ]
  },
  {
   "cell_type": "code",
   "execution_count": null,
   "id": "e5824fb0",
   "metadata": {},
   "outputs": [],
   "source": []
  }
 ],
 "metadata": {
  "kernelspec": {
   "display_name": "Python 3",
   "language": "python",
   "name": "python3"
  },
  "language_info": {
   "codemirror_mode": {
    "name": "ipython",
    "version": 3
   },
   "file_extension": ".py",
   "mimetype": "text/x-python",
   "name": "python",
   "nbconvert_exporter": "python",
   "pygments_lexer": "ipython3",
   "version": "3.8.8"
  }
 },
 "nbformat": 4,
 "nbformat_minor": 5
}
