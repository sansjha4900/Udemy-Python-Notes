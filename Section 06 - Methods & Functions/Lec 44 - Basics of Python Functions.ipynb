{
 "cells": [
  {
   "cell_type": "code",
   "execution_count": 1,
   "id": "49d241de",
   "metadata": {},
   "outputs": [],
   "source": [
    "def say_hello():\n",
    "    print (\"hello\")"
   ]
  },
  {
   "cell_type": "code",
   "execution_count": 3,
   "id": "3f94165a",
   "metadata": {},
   "outputs": [
    {
     "name": "stdout",
     "output_type": "stream",
     "text": [
      "hello\n"
     ]
    }
   ],
   "source": [
    "say_hello()                      #Simple function call"
   ]
  },
  {
   "cell_type": "code",
   "execution_count": 4,
   "id": "0a019b22",
   "metadata": {},
   "outputs": [],
   "source": [
    "def your_name(name):\n",
    "    print (f'Hello {name}')"
   ]
  },
  {
   "cell_type": "code",
   "execution_count": 7,
   "id": "c4fb4921",
   "metadata": {},
   "outputs": [
    {
     "name": "stdout",
     "output_type": "stream",
     "text": [
      "Hello Sans\n"
     ]
    }
   ],
   "source": [
    "your_name('Sans')                #Passing input while calling"
   ]
  },
  {
   "cell_type": "code",
   "execution_count": 10,
   "id": "d69ee1d9",
   "metadata": {},
   "outputs": [],
   "source": [
    "def my_name(name = 'Sandy'):\n",
    "    print (f'Hello {name}')"
   ]
  },
  {
   "cell_type": "code",
   "execution_count": 11,
   "id": "2f9d9f32",
   "metadata": {},
   "outputs": [
    {
     "name": "stdout",
     "output_type": "stream",
     "text": [
      "Hello Sandy\n"
     ]
    }
   ],
   "source": [
    "my_name()                        #Setting value to default before"
   ]
  },
  {
   "cell_type": "code",
   "execution_count": 12,
   "id": "7cf90219",
   "metadata": {},
   "outputs": [],
   "source": [
    "def add_num (num1,num2):\n",
    "    return (num1 + num2)"
   ]
  },
  {
   "cell_type": "code",
   "execution_count": 13,
   "id": "0446e52f",
   "metadata": {},
   "outputs": [
    {
     "data": {
      "text/plain": [
       "30"
      ]
     },
     "execution_count": 13,
     "metadata": {},
     "output_type": "execute_result"
    }
   ],
   "source": [
    "add_num (10,20)                  #Using return without saving output"
   ]
  },
  {
   "cell_type": "code",
   "execution_count": 14,
   "id": "91a83aac",
   "metadata": {},
   "outputs": [],
   "source": [
    "result = add_num (10,20)"
   ]
  },
  {
   "cell_type": "code",
   "execution_count": 15,
   "id": "a4c3ea54",
   "metadata": {},
   "outputs": [
    {
     "data": {
      "text/plain": [
       "30"
      ]
     },
     "execution_count": 15,
     "metadata": {},
     "output_type": "execute_result"
    }
   ],
   "source": [
    "result                           #Using return by saving O/P to variable"
   ]
  },
  {
   "cell_type": "code",
   "execution_count": 36,
   "id": "08494689",
   "metadata": {},
   "outputs": [],
   "source": [
    "def add_number():\n",
    "    x = int (input(\"Enter vlaue of x: \"))\n",
    "    y = int (input(\"Enter value of y: \"))\n",
    "    return (x+y)"
   ]
  },
  {
   "cell_type": "code",
   "execution_count": 37,
   "id": "e4bc27d3",
   "metadata": {},
   "outputs": [
    {
     "name": "stdout",
     "output_type": "stream",
     "text": [
      "Enter vlaue of x: 5\n",
      "Enter value of y: 10\n"
     ]
    },
    {
     "data": {
      "text/plain": [
       "15"
      ]
     },
     "execution_count": 37,
     "metadata": {},
     "output_type": "execute_result"
    }
   ],
   "source": [
    "add_number()                     #Use of input to save & return output value"
   ]
  },
  {
   "cell_type": "code",
   "execution_count": null,
   "id": "4d84456d",
   "metadata": {},
   "outputs": [],
   "source": []
  }
 ],
 "metadata": {
  "kernelspec": {
   "display_name": "Python 3",
   "language": "python",
   "name": "python3"
  },
  "language_info": {
   "codemirror_mode": {
    "name": "ipython",
    "version": 3
   },
   "file_extension": ".py",
   "mimetype": "text/x-python",
   "name": "python",
   "nbconvert_exporter": "python",
   "pygments_lexer": "ipython3",
   "version": "3.8.8"
  }
 },
 "nbformat": 4,
 "nbformat_minor": 5
}
