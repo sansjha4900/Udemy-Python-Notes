{
 "cells": [
  {
   "cell_type": "code",
   "execution_count": 8,
   "id": "ce4384c6",
   "metadata": {},
   "outputs": [],
   "source": [
    "#Defining a function\n",
    "\n",
    "def first_function():\n",
    "    print (\"Hello\")"
   ]
  },
  {
   "cell_type": "code",
   "execution_count": 9,
   "id": "98ab914d",
   "metadata": {},
   "outputs": [
    {
     "name": "stdout",
     "output_type": "stream",
     "text": [
      "Hello\n"
     ]
    }
   ],
   "source": [
    "#Calling the function\n",
    "\n",
    "first_function()"
   ]
  },
  {
   "cell_type": "code",
   "execution_count": 16,
   "id": "f4d09c42",
   "metadata": {},
   "outputs": [],
   "source": [
    "#Defining a function\n",
    "\n",
    "def second_function(name):\n",
    "    print (\"Hello \" + name)"
   ]
  },
  {
   "cell_type": "code",
   "execution_count": 17,
   "id": "05f38cc6",
   "metadata": {},
   "outputs": [
    {
     "name": "stdout",
     "output_type": "stream",
     "text": [
      "Hello Sam\n"
     ]
    }
   ],
   "source": [
    "#Calling the function\n",
    "\n",
    "second_function(\"Sam\")"
   ]
  },
  {
   "cell_type": "code",
   "execution_count": 18,
   "id": "44ed1419",
   "metadata": {},
   "outputs": [],
   "source": [
    "#Return allows to save output to a varibale.\n",
    "\n",
    "def add_function(num1,num2):\n",
    "    return num1 + num2"
   ]
  },
  {
   "cell_type": "code",
   "execution_count": 19,
   "id": "b38b80a2",
   "metadata": {},
   "outputs": [],
   "source": [
    "result = add_function(1,2)"
   ]
  },
  {
   "cell_type": "code",
   "execution_count": 20,
   "id": "09cca804",
   "metadata": {},
   "outputs": [
    {
     "data": {
      "text/plain": [
       "3"
      ]
     },
     "execution_count": 20,
     "metadata": {},
     "output_type": "execute_result"
    }
   ],
   "source": [
    "result"
   ]
  },
  {
   "cell_type": "code",
   "execution_count": 21,
   "id": "92dab38c",
   "metadata": {},
   "outputs": [],
   "source": [
    "#Print directly gives output without saving.\n",
    "\n",
    "def add_func(num1,num2):\n",
    "    print (num1 + num2)"
   ]
  },
  {
   "cell_type": "code",
   "execution_count": 22,
   "id": "dd744bdc",
   "metadata": {},
   "outputs": [
    {
     "name": "stdout",
     "output_type": "stream",
     "text": [
      "3\n"
     ]
    }
   ],
   "source": [
    "add_func (1,2)"
   ]
  },
  {
   "cell_type": "code",
   "execution_count": null,
   "id": "ed5e460b",
   "metadata": {},
   "outputs": [],
   "source": []
  }
 ],
 "metadata": {
  "kernelspec": {
   "display_name": "Python 3",
   "language": "python",
   "name": "python3"
  },
  "language_info": {
   "codemirror_mode": {
    "name": "ipython",
    "version": 3
   },
   "file_extension": ".py",
   "mimetype": "text/x-python",
   "name": "python",
   "nbconvert_exporter": "python",
   "pygments_lexer": "ipython3",
   "version": "3.8.8"
  }
 },
 "nbformat": 4,
 "nbformat_minor": 5
}
