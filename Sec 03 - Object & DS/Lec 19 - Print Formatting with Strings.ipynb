{
 "cells": [
  {
   "cell_type": "markdown",
   "id": "c7598772",
   "metadata": {},
   "source": [
    "## String Interpolation:"
   ]
  },
  {
   "cell_type": "code",
   "execution_count": 6,
   "id": "a8d57f50",
   "metadata": {},
   "outputs": [],
   "source": [
    "my_name = \"Jose\""
   ]
  },
  {
   "cell_type": "code",
   "execution_count": 7,
   "id": "7c77ddab",
   "metadata": {},
   "outputs": [
    {
     "name": "stdout",
     "output_type": "stream",
     "text": [
      "Hello Jose\n"
     ]
    }
   ],
   "source": [
    "print (\"Hello \" + my_name)"
   ]
  },
  {
   "cell_type": "markdown",
   "id": "5b509b89",
   "metadata": {},
   "source": [
    "## Two Methods:"
   ]
  },
  {
   "cell_type": "markdown",
   "id": "9c40f7d1",
   "metadata": {},
   "source": [
    "## .format() ~"
   ]
  },
  {
   "cell_type": "code",
   "execution_count": 10,
   "id": "9a9e80f3",
   "metadata": {},
   "outputs": [
    {
     "name": "stdout",
     "output_type": "stream",
     "text": [
      "This is a string INSERTED\n"
     ]
    }
   ],
   "source": [
    "print (\"This is a string {}\".format(\"INSERTED\"))    #Insertion by placing {}"
   ]
  },
  {
   "cell_type": "code",
   "execution_count": 11,
   "id": "45e3cbc7",
   "metadata": {},
   "outputs": [
    {
     "name": "stdout",
     "output_type": "stream",
     "text": [
      "This is INSERTED a string\n"
     ]
    }
   ],
   "source": [
    "print (\"This is {} a string\".format(\"INSERTED\"))"
   ]
  },
  {
   "cell_type": "code",
   "execution_count": 12,
   "id": "c13a2f40",
   "metadata": {},
   "outputs": [
    {
     "name": "stdout",
     "output_type": "stream",
     "text": [
      "The a b c\n"
     ]
    }
   ],
   "source": [
    "print (\"The {} {} {}\".format ('a', 'b', 'c'))       #Insertion by index value"
   ]
  },
  {
   "cell_type": "code",
   "execution_count": 13,
   "id": "e1f269f0",
   "metadata": {},
   "outputs": [
    {
     "name": "stdout",
     "output_type": "stream",
     "text": [
      "The big brown fox\n"
     ]
    }
   ],
   "source": [
    "print (\"The {2} {1} {0}\".format ('fox', 'brown', 'big'))"
   ]
  },
  {
   "cell_type": "code",
   "execution_count": 14,
   "id": "0b4495b7",
   "metadata": {},
   "outputs": [
    {
     "name": "stdout",
     "output_type": "stream",
     "text": [
      "The big brown fox\n"
     ]
    }
   ],
   "source": [
    "print (\"The {q} {b} {f}\".format (f='fox', b='brown', q='big'))   #Keyword Insertion"
   ]
  },
  {
   "cell_type": "markdown",
   "id": "34c6b4ac",
   "metadata": {},
   "source": [
    "## Float formatting -"
   ]
  },
  {
   "cell_type": "code",
   "execution_count": 15,
   "id": "9d69397a",
   "metadata": {},
   "outputs": [],
   "source": [
    "result = 100/777"
   ]
  },
  {
   "cell_type": "code",
   "execution_count": 16,
   "id": "359c6983",
   "metadata": {},
   "outputs": [
    {
     "data": {
      "text/plain": [
       "0.1287001287001287"
      ]
     },
     "execution_count": 16,
     "metadata": {},
     "output_type": "execute_result"
    }
   ],
   "source": [
    "result"
   ]
  },
  {
   "cell_type": "code",
   "execution_count": 19,
   "id": "476f1c2b",
   "metadata": {},
   "outputs": [
    {
     "name": "stdout",
     "output_type": "stream",
     "text": [
      "The result was 0.1287001287001287\n"
     ]
    }
   ],
   "source": [
    "print (\"The result was {}\".format (result)) "
   ]
  },
  {
   "cell_type": "code",
   "execution_count": 20,
   "id": "95683e54",
   "metadata": {},
   "outputs": [
    {
     "name": "stdout",
     "output_type": "stream",
     "text": [
      "The result was 0.1287001287001287\n"
     ]
    }
   ],
   "source": [
    "print (\"The result was {r}\".format (r=result))"
   ]
  },
  {
   "cell_type": "code",
   "execution_count": 21,
   "id": "217f6e33",
   "metadata": {},
   "outputs": [
    {
     "name": "stdout",
     "output_type": "stream",
     "text": [
      "The result is 0.129\n"
     ]
    }
   ],
   "source": [
    "print (\"The result is {r:1.3f}\".format (r=result))"
   ]
  },
  {
   "cell_type": "code",
   "execution_count": 23,
   "id": "759a86e3",
   "metadata": {},
   "outputs": [
    {
     "name": "stdout",
     "output_type": "stream",
     "text": [
      "The result is    0.12870\n"
     ]
    }
   ],
   "source": [
    "print (\"The result is {r:10.5f}\".format (r=result))"
   ]
  },
  {
   "cell_type": "markdown",
   "id": "f4a0090f",
   "metadata": {},
   "source": [
    "## f-strings methods -"
   ]
  },
  {
   "cell_type": "code",
   "execution_count": 1,
   "id": "57bcd5f2",
   "metadata": {},
   "outputs": [],
   "source": [
    "name = \"Jose\""
   ]
  },
  {
   "cell_type": "code",
   "execution_count": 2,
   "id": "e9dd1a4c",
   "metadata": {},
   "outputs": [
    {
     "name": "stdout",
     "output_type": "stream",
     "text": [
      "Hello, Jose\n"
     ]
    }
   ],
   "source": [
    "print (\"Hello, {}\".format (name))  #.format method"
   ]
  },
  {
   "cell_type": "code",
   "execution_count": 4,
   "id": "e2745ce0",
   "metadata": {},
   "outputs": [
    {
     "name": "stdout",
     "output_type": "stream",
     "text": [
      "Hello, Jose\n"
     ]
    }
   ],
   "source": [
    "print (f\"Hello, {name}\")           #f-string method"
   ]
  },
  {
   "cell_type": "code",
   "execution_count": 5,
   "id": "284e0404",
   "metadata": {},
   "outputs": [],
   "source": [
    "name = \"Sam\"\n",
    "age = 3"
   ]
  },
  {
   "cell_type": "code",
   "execution_count": 6,
   "id": "7d4d48af",
   "metadata": {},
   "outputs": [
    {
     "name": "stdout",
     "output_type": "stream",
     "text": [
      "Sam is 3 years old.\n"
     ]
    }
   ],
   "source": [
    "print (f\"{name} is {age} years old.\")"
   ]
  },
  {
   "cell_type": "code",
   "execution_count": null,
   "id": "2093b8ae",
   "metadata": {},
   "outputs": [],
   "source": []
  }
 ],
 "metadata": {
  "kernelspec": {
   "display_name": "Python 3",
   "language": "python",
   "name": "python3"
  },
  "language_info": {
   "codemirror_mode": {
    "name": "ipython",
    "version": 3
   },
   "file_extension": ".py",
   "mimetype": "text/x-python",
   "name": "python",
   "nbconvert_exporter": "python",
   "pygments_lexer": "ipython3",
   "version": "3.8.8"
  }
 },
 "nbformat": 4,
 "nbformat_minor": 5
}
