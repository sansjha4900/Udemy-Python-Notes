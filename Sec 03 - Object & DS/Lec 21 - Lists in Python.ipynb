{
 "cells": [
  {
   "cell_type": "code",
   "execution_count": 34,
   "id": "fb8bb539",
   "metadata": {},
   "outputs": [],
   "source": [
    "my_list = [1,2,3]"
   ]
  },
  {
   "cell_type": "code",
   "execution_count": 35,
   "id": "f19e5674",
   "metadata": {},
   "outputs": [],
   "source": [
    "my_list = [\"String\", 100, 2.01]"
   ]
  },
  {
   "cell_type": "code",
   "execution_count": 36,
   "id": "a4496d4a",
   "metadata": {},
   "outputs": [
    {
     "data": {
      "text/plain": [
       "3"
      ]
     },
     "execution_count": 36,
     "metadata": {},
     "output_type": "execute_result"
    }
   ],
   "source": [
    "len (my_list)        #Lenght of list"
   ]
  },
  {
   "cell_type": "code",
   "execution_count": 37,
   "id": "021f4b82",
   "metadata": {},
   "outputs": [
    {
     "data": {
      "text/plain": [
       "list"
      ]
     },
     "execution_count": 37,
     "metadata": {},
     "output_type": "execute_result"
    }
   ],
   "source": [
    "type (my_list)       #Type of variable"
   ]
  },
  {
   "cell_type": "code",
   "execution_count": 38,
   "id": "cc87e803",
   "metadata": {},
   "outputs": [
    {
     "data": {
      "text/plain": [
       "'String'"
      ]
     },
     "execution_count": 38,
     "metadata": {},
     "output_type": "execute_result"
    }
   ],
   "source": [
    "my_list [0]          #Indexing of list"
   ]
  },
  {
   "cell_type": "code",
   "execution_count": 39,
   "id": "fb1556b9",
   "metadata": {},
   "outputs": [
    {
     "data": {
      "text/plain": [
       "[100, 2.01]"
      ]
     },
     "execution_count": 39,
     "metadata": {},
     "output_type": "execute_result"
    }
   ],
   "source": [
    "my_list [1:]         #Slicing of list"
   ]
  },
  {
   "cell_type": "code",
   "execution_count": 40,
   "id": "8cdf23e7",
   "metadata": {},
   "outputs": [],
   "source": [
    "list_1 = ['one', 'two', 'three']"
   ]
  },
  {
   "cell_type": "code",
   "execution_count": 41,
   "id": "e72ef2db",
   "metadata": {},
   "outputs": [],
   "source": [
    "list_2 = ['four', 'five']"
   ]
  },
  {
   "cell_type": "code",
   "execution_count": 42,
   "id": "88e8be11",
   "metadata": {},
   "outputs": [
    {
     "data": {
      "text/plain": [
       "['one', 'two', 'three', 'four', 'five']"
      ]
     },
     "execution_count": 42,
     "metadata": {},
     "output_type": "execute_result"
    }
   ],
   "source": [
    "list_1 + list_2      #Concatenation of list"
   ]
  },
  {
   "cell_type": "code",
   "execution_count": 43,
   "id": "337e9af7",
   "metadata": {},
   "outputs": [],
   "source": [
    "list_3 = list_1 + list_2   #Saving the list"
   ]
  },
  {
   "cell_type": "code",
   "execution_count": 44,
   "id": "b5d6101f",
   "metadata": {},
   "outputs": [
    {
     "data": {
      "text/plain": [
       "['one', 'two', 'three', 'four', 'five']"
      ]
     },
     "execution_count": 44,
     "metadata": {},
     "output_type": "execute_result"
    }
   ],
   "source": [
    "list_3"
   ]
  },
  {
   "cell_type": "code",
   "execution_count": 45,
   "id": "2b63765e",
   "metadata": {},
   "outputs": [
    {
     "data": {
      "text/plain": [
       "['one', 'two', 'three']"
      ]
     },
     "execution_count": 45,
     "metadata": {},
     "output_type": "execute_result"
    }
   ],
   "source": [
    "list_1"
   ]
  },
  {
   "cell_type": "code",
   "execution_count": 46,
   "id": "729f3c41",
   "metadata": {},
   "outputs": [
    {
     "data": {
      "text/plain": [
       "['four', 'five']"
      ]
     },
     "execution_count": 46,
     "metadata": {},
     "output_type": "execute_result"
    }
   ],
   "source": [
    "list_2"
   ]
  },
  {
   "cell_type": "code",
   "execution_count": 47,
   "id": "0b0addf3",
   "metadata": {},
   "outputs": [],
   "source": [
    "list_3 [0] = \"ONE\"    #Lists are Mutable,"
   ]
  },
  {
   "cell_type": "code",
   "execution_count": 48,
   "id": "093ac594",
   "metadata": {},
   "outputs": [
    {
     "data": {
      "text/plain": [
       "['ONE', 'two', 'three', 'four', 'five']"
      ]
     },
     "execution_count": 48,
     "metadata": {},
     "output_type": "execute_result"
    }
   ],
   "source": [
    "list_3                #does changes to list"
   ]
  },
  {
   "cell_type": "code",
   "execution_count": 49,
   "id": "be2093ad",
   "metadata": {},
   "outputs": [],
   "source": [
    "list_2.append('six')  #\".append\" adds element"
   ]
  },
  {
   "cell_type": "code",
   "execution_count": 50,
   "id": "62a03b19",
   "metadata": {},
   "outputs": [
    {
     "data": {
      "text/plain": [
       "['four', 'five', 'six']"
      ]
     },
     "execution_count": 50,
     "metadata": {},
     "output_type": "execute_result"
    }
   ],
   "source": [
    "list_2                #to the end of the list"
   ]
  },
  {
   "cell_type": "code",
   "execution_count": 51,
   "id": "30def732",
   "metadata": {},
   "outputs": [
    {
     "data": {
      "text/plain": [
       "'five'"
      ]
     },
     "execution_count": 51,
     "metadata": {},
     "output_type": "execute_result"
    }
   ],
   "source": [
    "list_3.pop()          #\".pop()\" removes element"
   ]
  },
  {
   "cell_type": "code",
   "execution_count": 52,
   "id": "bb06e7e9",
   "metadata": {},
   "outputs": [
    {
     "data": {
      "text/plain": [
       "['ONE', 'two', 'three', 'four']"
      ]
     },
     "execution_count": 52,
     "metadata": {},
     "output_type": "execute_result"
    }
   ],
   "source": [
    "list_3                #from the end of the list"
   ]
  },
  {
   "cell_type": "code",
   "execution_count": 55,
   "id": "af0f1f0b",
   "metadata": {},
   "outputs": [],
   "source": [
    "popped_item = list_3.pop()"
   ]
  },
  {
   "cell_type": "code",
   "execution_count": 56,
   "id": "2a90363c",
   "metadata": {},
   "outputs": [
    {
     "data": {
      "text/plain": [
       "'three'"
      ]
     },
     "execution_count": 56,
     "metadata": {},
     "output_type": "execute_result"
    }
   ],
   "source": [
    "popped_item     #did 2 times pop method"
   ]
  },
  {
   "cell_type": "code",
   "execution_count": 57,
   "id": "0c71e979",
   "metadata": {},
   "outputs": [
    {
     "data": {
      "text/plain": [
       "['ONE', 'two']"
      ]
     },
     "execution_count": 57,
     "metadata": {},
     "output_type": "execute_result"
    }
   ],
   "source": [
    "list_3"
   ]
  },
  {
   "cell_type": "code",
   "execution_count": 61,
   "id": "9500df3d",
   "metadata": {},
   "outputs": [],
   "source": [
    "new_list = [\"ONE\", 'two', 'three', 'four', 'five']"
   ]
  },
  {
   "cell_type": "code",
   "execution_count": 62,
   "id": "7bec6fd4",
   "metadata": {},
   "outputs": [
    {
     "data": {
      "text/plain": [
       "'ONE'"
      ]
     },
     "execution_count": 62,
     "metadata": {},
     "output_type": "execute_result"
    }
   ],
   "source": [
    "new_list.pop(0)       #Element remove from specific index"
   ]
  },
  {
   "cell_type": "code",
   "execution_count": 63,
   "id": "a7f96883",
   "metadata": {},
   "outputs": [
    {
     "data": {
      "text/plain": [
       "['two', 'three', 'four', 'five']"
      ]
     },
     "execution_count": 63,
     "metadata": {},
     "output_type": "execute_result"
    }
   ],
   "source": [
    "new_list"
   ]
  },
  {
   "cell_type": "code",
   "execution_count": 75,
   "id": "b0c9d66f",
   "metadata": {},
   "outputs": [],
   "source": [
    "new_list = ['a', 'e', 'x', 'b', 'c']\n",
    "num_list = [4, 1, 8, 3]"
   ]
  },
  {
   "cell_type": "code",
   "execution_count": 76,
   "id": "772a9107",
   "metadata": {},
   "outputs": [],
   "source": [
    "new_list.sort()               #Sorting of lists\n",
    "num_list.sort()"
   ]
  },
  {
   "cell_type": "code",
   "execution_count": 77,
   "id": "ecdd49fb",
   "metadata": {},
   "outputs": [
    {
     "name": "stdout",
     "output_type": "stream",
     "text": [
      "['a', 'b', 'c', 'e', 'x']\n",
      "[1, 3, 4, 8]\n"
     ]
    }
   ],
   "source": [
    "print (new_list)\n",
    "print (num_list)"
   ]
  },
  {
   "cell_type": "code",
   "execution_count": 71,
   "id": "e6ae0fcf",
   "metadata": {},
   "outputs": [],
   "source": [
    "sorted_list = new_list.sort() #Can't directly assign sorted list"
   ]
  },
  {
   "cell_type": "code",
   "execution_count": 72,
   "id": "642ee89c",
   "metadata": {},
   "outputs": [],
   "source": [
    "sorted_list"
   ]
  },
  {
   "cell_type": "code",
   "execution_count": 73,
   "id": "b0d0d814",
   "metadata": {},
   "outputs": [],
   "source": [
    "new_list.sort()               #Assign sorted list separately to\n",
    "sorted_list = new_list        #another list to access sorted list"
   ]
  },
  {
   "cell_type": "code",
   "execution_count": 74,
   "id": "bc893252",
   "metadata": {},
   "outputs": [
    {
     "data": {
      "text/plain": [
       "['a', 'b', 'c', 'e', 'x']"
      ]
     },
     "execution_count": 74,
     "metadata": {},
     "output_type": "execute_result"
    }
   ],
   "source": [
    "sorted_list"
   ]
  },
  {
   "cell_type": "code",
   "execution_count": 85,
   "id": "912a849c",
   "metadata": {},
   "outputs": [],
   "source": [
    "new_list.reverse()            #Reversing of lists\n",
    "num_list.reverse()"
   ]
  },
  {
   "cell_type": "code",
   "execution_count": 86,
   "id": "939f8e39",
   "metadata": {},
   "outputs": [
    {
     "name": "stdout",
     "output_type": "stream",
     "text": [
      "['x', 'e', 'c', 'b', 'a']\n",
      "[8, 4, 3, 1]\n"
     ]
    }
   ],
   "source": [
    "print (new_list)\n",
    "print (num_list)"
   ]
  },
  {
   "cell_type": "code",
   "execution_count": 87,
   "id": "36b1551f",
   "metadata": {},
   "outputs": [],
   "source": [
    "my_list = [1, 1, [1, 2]]"
   ]
  },
  {
   "cell_type": "code",
   "execution_count": 88,
   "id": "78dd356f",
   "metadata": {},
   "outputs": [
    {
     "data": {
      "text/plain": [
       "2"
      ]
     },
     "execution_count": 88,
     "metadata": {},
     "output_type": "execute_result"
    }
   ],
   "source": [
    "my_list[2][1]"
   ]
  },
  {
   "cell_type": "code",
   "execution_count": null,
   "id": "449d4330",
   "metadata": {},
   "outputs": [],
   "source": []
  }
 ],
 "metadata": {
  "kernelspec": {
   "display_name": "Python 3",
   "language": "python",
   "name": "python3"
  },
  "language_info": {
   "codemirror_mode": {
    "name": "ipython",
    "version": 3
   },
   "file_extension": ".py",
   "mimetype": "text/x-python",
   "name": "python",
   "nbconvert_exporter": "python",
   "pygments_lexer": "ipython3",
   "version": "3.8.8"
  }
 },
 "nbformat": 4,
 "nbformat_minor": 5
}
