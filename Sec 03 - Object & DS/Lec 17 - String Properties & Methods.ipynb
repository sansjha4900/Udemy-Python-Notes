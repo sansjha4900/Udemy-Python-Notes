{
 "cells": [
  {
   "cell_type": "markdown",
   "id": "81346c96",
   "metadata": {},
   "source": [
    "## Immutability:"
   ]
  },
  {
   "cell_type": "code",
   "execution_count": 5,
   "id": "bcc39868",
   "metadata": {},
   "outputs": [],
   "source": [
    "name = \"Sam\"   #assigning a variable"
   ]
  },
  {
   "cell_type": "code",
   "execution_count": 6,
   "id": "0404fc26",
   "metadata": {},
   "outputs": [],
   "source": [
    "# name[0] = 'P'  #cannot do index change"
   ]
  },
  {
   "cell_type": "code",
   "execution_count": 11,
   "id": "5da9bc34",
   "metadata": {},
   "outputs": [],
   "source": [
    "# For commenting use \"#\" before the code line"
   ]
  },
  {
   "cell_type": "markdown",
   "id": "3c196e3c",
   "metadata": {},
   "source": [
    "## Concatenation:"
   ]
  },
  {
   "cell_type": "code",
   "execution_count": 8,
   "id": "cd793702",
   "metadata": {},
   "outputs": [],
   "source": [
    "last_letters = name[1:]  #Slicing & assigning"
   ]
  },
  {
   "cell_type": "code",
   "execution_count": 9,
   "id": "9131cc09",
   "metadata": {},
   "outputs": [
    {
     "data": {
      "text/plain": [
       "'am'"
      ]
     },
     "execution_count": 9,
     "metadata": {},
     "output_type": "execute_result"
    }
   ],
   "source": [
    "last_letters             #Getting only sliced part"
   ]
  },
  {
   "cell_type": "code",
   "execution_count": 10,
   "id": "6f9f37fa",
   "metadata": {},
   "outputs": [
    {
     "data": {
      "text/plain": [
       "'Pam'"
      ]
     },
     "execution_count": 10,
     "metadata": {},
     "output_type": "execute_result"
    }
   ],
   "source": [
    "\"P\" + last_letters       #Concatenation by using \"+\""
   ]
  },
  {
   "cell_type": "code",
   "execution_count": 23,
   "id": "d7fe6b61",
   "metadata": {},
   "outputs": [],
   "source": [
    "x = \"Hi \"           #Assigning a value as string"
   ]
  },
  {
   "cell_type": "code",
   "execution_count": 24,
   "id": "3b03e637",
   "metadata": {},
   "outputs": [
    {
     "data": {
      "text/plain": [
       "\"Hi it's me\""
      ]
     },
     "execution_count": 24,
     "metadata": {},
     "output_type": "execute_result"
    }
   ],
   "source": [
    "x + \"it's me\"       #Concatenation of string using \"+\""
   ]
  },
  {
   "cell_type": "code",
   "execution_count": 27,
   "id": "ebe88392",
   "metadata": {},
   "outputs": [],
   "source": [
    "x = x + \"it's me\"   #Re-assigning to same variable after"
   ]
  },
  {
   "cell_type": "code",
   "execution_count": 28,
   "id": "0459b98c",
   "metadata": {},
   "outputs": [
    {
     "data": {
      "text/plain": [
       "\"Hi it's meit's me\""
      ]
     },
     "execution_count": 28,
     "metadata": {},
     "output_type": "execute_result"
    }
   ],
   "source": [
    "x                   #Running double times the same output"
   ]
  },
  {
   "cell_type": "markdown",
   "id": "3fe5a825",
   "metadata": {},
   "source": [
    "## Multiplication of string: "
   ]
  },
  {
   "cell_type": "code",
   "execution_count": 6,
   "id": "79641b0b",
   "metadata": {},
   "outputs": [],
   "source": [
    "letter = \"z\""
   ]
  },
  {
   "cell_type": "code",
   "execution_count": 7,
   "id": "02c17795",
   "metadata": {},
   "outputs": [
    {
     "data": {
      "text/plain": [
       "'zzzzzzzzzz'"
      ]
     },
     "execution_count": 7,
     "metadata": {},
     "output_type": "execute_result"
    }
   ],
   "source": [
    "letter * 10"
   ]
  },
  {
   "cell_type": "markdown",
   "id": "2988f942",
   "metadata": {},
   "source": [
    "## Important point:"
   ]
  },
  {
   "cell_type": "code",
   "execution_count": 1,
   "id": "6ea4886a",
   "metadata": {},
   "outputs": [
    {
     "data": {
      "text/plain": [
       "5"
      ]
     },
     "execution_count": 1,
     "metadata": {},
     "output_type": "execute_result"
    }
   ],
   "source": [
    "2 + 3       #Adding Numbers"
   ]
  },
  {
   "cell_type": "code",
   "execution_count": 2,
   "id": "7d73f5a3",
   "metadata": {},
   "outputs": [
    {
     "data": {
      "text/plain": [
       "'23'"
      ]
     },
     "execution_count": 2,
     "metadata": {},
     "output_type": "execute_result"
    }
   ],
   "source": [
    "'2' + '3'   #Adding Strings ''"
   ]
  },
  {
   "cell_type": "code",
   "execution_count": 3,
   "id": "a7c07704",
   "metadata": {},
   "outputs": [
    {
     "data": {
      "text/plain": [
       "'23'"
      ]
     },
     "execution_count": 3,
     "metadata": {},
     "output_type": "execute_result"
    }
   ],
   "source": [
    "\"2\" + \"3\"   #Adding Strings \"\""
   ]
  },
  {
   "cell_type": "code",
   "execution_count": 8,
   "id": "a216bcb9",
   "metadata": {},
   "outputs": [
    {
     "ename": "TypeError",
     "evalue": "unsupported operand type(s) for +: 'int' and 'str'",
     "output_type": "error",
     "traceback": [
      "\u001b[1;31m---------------------------------------------------------------------------\u001b[0m",
      "\u001b[1;31mTypeError\u001b[0m                                 Traceback (most recent call last)",
      "\u001b[1;32m<ipython-input-8-8fd9dcfa4f42>\u001b[0m in \u001b[0;36m<module>\u001b[1;34m\u001b[0m\n\u001b[1;32m----> 1\u001b[1;33m \u001b[1;36m2\u001b[0m \u001b[1;33m+\u001b[0m \u001b[1;34m'3'\u001b[0m\u001b[1;33m\u001b[0m\u001b[1;33m\u001b[0m\u001b[0m\n\u001b[0m",
      "\u001b[1;31mTypeError\u001b[0m: unsupported operand type(s) for +: 'int' and 'str'"
     ]
    }
   ],
   "source": [
    "2 + '3'     #Can't add no. & strings"
   ]
  },
  {
   "cell_type": "markdown",
   "id": "8d13ddb9",
   "metadata": {},
   "source": [
    "## Other Imp Methods:"
   ]
  },
  {
   "cell_type": "code",
   "execution_count": 9,
   "id": "fa421f76",
   "metadata": {},
   "outputs": [],
   "source": [
    "x = \"Hello World\""
   ]
  },
  {
   "cell_type": "code",
   "execution_count": 12,
   "id": "5a508b7e",
   "metadata": {},
   "outputs": [
    {
     "data": {
      "text/plain": [
       "'HELLO WORLD'"
      ]
     },
     "execution_count": 12,
     "metadata": {},
     "output_type": "execute_result"
    }
   ],
   "source": [
    "x.upper()"
   ]
  },
  {
   "cell_type": "code",
   "execution_count": 13,
   "id": "507fbc9e",
   "metadata": {},
   "outputs": [
    {
     "data": {
      "text/plain": [
       "'hello world'"
      ]
     },
     "execution_count": 13,
     "metadata": {},
     "output_type": "execute_result"
    }
   ],
   "source": [
    "x.lower()"
   ]
  },
  {
   "cell_type": "code",
   "execution_count": 14,
   "id": "1fc7f062",
   "metadata": {},
   "outputs": [
    {
     "data": {
      "text/plain": [
       "['Hello', 'World']"
      ]
     },
     "execution_count": 14,
     "metadata": {},
     "output_type": "execute_result"
    }
   ],
   "source": [
    "x.split()"
   ]
  },
  {
   "cell_type": "code",
   "execution_count": 17,
   "id": "c86a37cc",
   "metadata": {},
   "outputs": [],
   "source": [
    "x = \"Hi this is a string\""
   ]
  },
  {
   "cell_type": "code",
   "execution_count": 18,
   "id": "08a84803",
   "metadata": {},
   "outputs": [
    {
     "data": {
      "text/plain": [
       "['H', ' th', 's ', 's a str', 'ng']"
      ]
     },
     "execution_count": 18,
     "metadata": {},
     "output_type": "execute_result"
    }
   ],
   "source": [
    "x.split('i')"
   ]
  },
  {
   "cell_type": "code",
   "execution_count": null,
   "id": "3b2b68ed",
   "metadata": {},
   "outputs": [],
   "source": []
  }
 ],
 "metadata": {
  "kernelspec": {
   "display_name": "Python 3",
   "language": "python",
   "name": "python3"
  },
  "language_info": {
   "codemirror_mode": {
    "name": "ipython",
    "version": 3
   },
   "file_extension": ".py",
   "mimetype": "text/x-python",
   "name": "python",
   "nbconvert_exporter": "python",
   "pygments_lexer": "ipython3",
   "version": "3.8.8"
  }
 },
 "nbformat": 4,
 "nbformat_minor": 5
}
