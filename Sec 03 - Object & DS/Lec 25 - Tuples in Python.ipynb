{
 "cells": [
  {
   "cell_type": "code",
   "execution_count": 1,
   "id": "0c22e648",
   "metadata": {},
   "outputs": [],
   "source": [
    "t = (1,2,3)            #Tuple in Python"
   ]
  },
  {
   "cell_type": "code",
   "execution_count": 7,
   "id": "3b236f36",
   "metadata": {},
   "outputs": [],
   "source": [
    "mylist = [1,2,3]       #Lists in Python"
   ]
  },
  {
   "cell_type": "code",
   "execution_count": 8,
   "id": "ff920573",
   "metadata": {},
   "outputs": [
    {
     "data": {
      "text/plain": [
       "tuple"
      ]
     },
     "execution_count": 8,
     "metadata": {},
     "output_type": "execute_result"
    }
   ],
   "source": [
    "(type(t))              #To check type\n"
   ]
  },
  {
   "cell_type": "code",
   "execution_count": 9,
   "id": "c0e47d31",
   "metadata": {},
   "outputs": [
    {
     "data": {
      "text/plain": [
       "list"
      ]
     },
     "execution_count": 9,
     "metadata": {},
     "output_type": "execute_result"
    }
   ],
   "source": [
    "(type(mylist))"
   ]
  },
  {
   "cell_type": "code",
   "execution_count": 10,
   "id": "17ea6ee8",
   "metadata": {},
   "outputs": [
    {
     "data": {
      "text/plain": [
       "3"
      ]
     },
     "execution_count": 10,
     "metadata": {},
     "output_type": "execute_result"
    }
   ],
   "source": [
    "len (t)                #To chcek length"
   ]
  },
  {
   "cell_type": "code",
   "execution_count": 11,
   "id": "d601560b",
   "metadata": {},
   "outputs": [],
   "source": [
    "t = ('one', 2)         #Can have dif datatype"
   ]
  },
  {
   "cell_type": "code",
   "execution_count": 12,
   "id": "d30e9fb1",
   "metadata": {},
   "outputs": [
    {
     "data": {
      "text/plain": [
       "('one', 2)"
      ]
     },
     "execution_count": 12,
     "metadata": {},
     "output_type": "execute_result"
    }
   ],
   "source": [
    "t"
   ]
  },
  {
   "cell_type": "code",
   "execution_count": 13,
   "id": "1a326a53",
   "metadata": {},
   "outputs": [
    {
     "name": "stdout",
     "output_type": "stream",
     "text": [
      "one\n",
      "2\n"
     ]
    }
   ],
   "source": [
    "print (t[0])           #Indexing of tuple\n",
    "print (t[-1])"
   ]
  },
  {
   "cell_type": "code",
   "execution_count": 18,
   "id": "a83bc154",
   "metadata": {},
   "outputs": [],
   "source": [
    "t = ('a', 'a', 'b', 'c', 'd')"
   ]
  },
  {
   "cell_type": "code",
   "execution_count": 19,
   "id": "83ce7717",
   "metadata": {},
   "outputs": [
    {
     "data": {
      "text/plain": [
       "2"
      ]
     },
     "execution_count": 19,
     "metadata": {},
     "output_type": "execute_result"
    }
   ],
   "source": [
    "t.count('a')           #Number of times an element occured"
   ]
  },
  {
   "cell_type": "code",
   "execution_count": 22,
   "id": "418ea502",
   "metadata": {},
   "outputs": [
    {
     "name": "stdout",
     "output_type": "stream",
     "text": [
      "4\n",
      "0\n"
     ]
    }
   ],
   "source": [
    "print (t.index('d'))   #First index value at which value occured\n",
    "print (t.index('a'))"
   ]
  },
  {
   "cell_type": "code",
   "execution_count": 24,
   "id": "8249728f",
   "metadata": {},
   "outputs": [],
   "source": [
    "t = (1,2,3)"
   ]
  },
  {
   "cell_type": "code",
   "execution_count": 25,
   "id": "6c735601",
   "metadata": {},
   "outputs": [
    {
     "data": {
      "text/plain": [
       "[1, 2, 3]"
      ]
     },
     "execution_count": 25,
     "metadata": {},
     "output_type": "execute_result"
    }
   ],
   "source": [
    "mylist"
   ]
  },
  {
   "cell_type": "code",
   "execution_count": 26,
   "id": "5ea0daa8",
   "metadata": {},
   "outputs": [],
   "source": [
    "mylist [0] = 'New'     #Lists are mutable"
   ]
  },
  {
   "cell_type": "code",
   "execution_count": 27,
   "id": "1342c656",
   "metadata": {},
   "outputs": [
    {
     "data": {
      "text/plain": [
       "['New', 2, 3]"
      ]
     },
     "execution_count": 27,
     "metadata": {},
     "output_type": "execute_result"
    }
   ],
   "source": [
    "mylist"
   ]
  },
  {
   "cell_type": "code",
   "execution_count": 28,
   "id": "3695176e",
   "metadata": {},
   "outputs": [
    {
     "ename": "TypeError",
     "evalue": "'tuple' object does not support item assignment",
     "output_type": "error",
     "traceback": [
      "\u001b[1;31m---------------------------------------------------------------------------\u001b[0m",
      "\u001b[1;31mTypeError\u001b[0m                                 Traceback (most recent call last)",
      "\u001b[1;32m<ipython-input-28-2a51b8809f32>\u001b[0m in \u001b[0;36m<module>\u001b[1;34m\u001b[0m\n\u001b[1;32m----> 1\u001b[1;33m \u001b[0mt\u001b[0m \u001b[1;33m[\u001b[0m\u001b[1;36m0\u001b[0m\u001b[1;33m]\u001b[0m \u001b[1;33m=\u001b[0m \u001b[1;34m'New'\u001b[0m\u001b[1;33m\u001b[0m\u001b[1;33m\u001b[0m\u001b[0m\n\u001b[0m",
      "\u001b[1;31mTypeError\u001b[0m: 'tuple' object does not support item assignment"
     ]
    }
   ],
   "source": [
    "t [0] = 'New'          #Tuples are immutable"
   ]
  },
  {
   "cell_type": "code",
   "execution_count": null,
   "id": "a266a440",
   "metadata": {},
   "outputs": [],
   "source": []
  }
 ],
 "metadata": {
  "kernelspec": {
   "display_name": "Python 3",
   "language": "python",
   "name": "python3"
  },
  "language_info": {
   "codemirror_mode": {
    "name": "ipython",
    "version": 3
   },
   "file_extension": ".py",
   "mimetype": "text/x-python",
   "name": "python",
   "nbconvert_exporter": "python",
   "pygments_lexer": "ipython3",
   "version": "3.8.8"
  }
 },
 "nbformat": 4,
 "nbformat_minor": 5
}
