{
 "cells": [
  {
   "cell_type": "code",
   "execution_count": 1,
   "id": "a5fa93b3",
   "metadata": {},
   "outputs": [],
   "source": [
    "mystring = \"Hello World\"   #String assigned"
   ]
  },
  {
   "cell_type": "code",
   "execution_count": 2,
   "id": "5ab89194",
   "metadata": {},
   "outputs": [
    {
     "data": {
      "text/plain": [
       "'Hello World'"
      ]
     },
     "execution_count": 2,
     "metadata": {},
     "output_type": "execute_result"
    }
   ],
   "source": [
    "mystring              #Returning out output"
   ]
  },
  {
   "cell_type": "code",
   "execution_count": 3,
   "id": "b826d801",
   "metadata": {},
   "outputs": [
    {
     "name": "stdout",
     "output_type": "stream",
     "text": [
      "Hello World\n"
     ]
    }
   ],
   "source": [
    "print (mystring)       #Printing out output"
   ]
  },
  {
   "cell_type": "markdown",
   "id": "ce3af568",
   "metadata": {},
   "source": [
    "## Indexing of string :"
   ]
  },
  {
   "cell_type": "code",
   "execution_count": 4,
   "id": "c79f1610",
   "metadata": {},
   "outputs": [
    {
     "data": {
      "text/plain": [
       "'H'"
      ]
     },
     "execution_count": 4,
     "metadata": {},
     "output_type": "execute_result"
    }
   ],
   "source": [
    "mystring [0]        #Returning index output"
   ]
  },
  {
   "cell_type": "code",
   "execution_count": 13,
   "id": "6d803c2f",
   "metadata": {},
   "outputs": [
    {
     "data": {
      "text/plain": [
       "'r'"
      ]
     },
     "execution_count": 13,
     "metadata": {},
     "output_type": "execute_result"
    }
   ],
   "source": [
    "mystring [-3]       #Returning index output"
   ]
  },
  {
   "cell_type": "code",
   "execution_count": 16,
   "id": "3502cbe3",
   "metadata": {},
   "outputs": [
    {
     "name": "stdout",
     "output_type": "stream",
     "text": [
      "W\n",
      "d\n"
     ]
    }
   ],
   "source": [
    "print (mystring [6])    #Printing index o/p\n",
    "print (mystring [-1])   #Printing index o/p"
   ]
  },
  {
   "cell_type": "markdown",
   "id": "73501c2b",
   "metadata": {},
   "source": [
    "## Slicing of string :"
   ]
  },
  {
   "cell_type": "code",
   "execution_count": 22,
   "id": "b3b1ac50",
   "metadata": {},
   "outputs": [],
   "source": [
    "mystring = \"abcdefghijk\""
   ]
  },
  {
   "cell_type": "code",
   "execution_count": 23,
   "id": "b8f69c86",
   "metadata": {},
   "outputs": [
    {
     "data": {
      "text/plain": [
       "'cdefghijk'"
      ]
     },
     "execution_count": 23,
     "metadata": {},
     "output_type": "execute_result"
    }
   ],
   "source": [
    "mystring [2:]    #Particular to end"
   ]
  },
  {
   "cell_type": "code",
   "execution_count": 24,
   "id": "be674f93",
   "metadata": {},
   "outputs": [
    {
     "data": {
      "text/plain": [
       "'abc'"
      ]
     },
     "execution_count": 24,
     "metadata": {},
     "output_type": "execute_result"
    }
   ],
   "source": [
    "mystring [:3]    #Start to particular"
   ]
  },
  {
   "cell_type": "code",
   "execution_count": 26,
   "id": "e2a99e78",
   "metadata": {},
   "outputs": [
    {
     "data": {
      "text/plain": [
       "'def'"
      ]
     },
     "execution_count": 26,
     "metadata": {},
     "output_type": "execute_result"
    }
   ],
   "source": [
    "mystring [3:6]   #Particular sub part"
   ]
  },
  {
   "cell_type": "code",
   "execution_count": 27,
   "id": "9d8d828b",
   "metadata": {},
   "outputs": [
    {
     "name": "stdout",
     "output_type": "stream",
     "text": [
      "cdefghijk\n",
      "abc\n",
      "def\n"
     ]
    }
   ],
   "source": [
    "print (mystring [2:])    #Particular to end\n",
    "print (mystring [:3])    #Start to particular\n",
    "print (mystring [3:6])   #Particular sub part"
   ]
  },
  {
   "cell_type": "markdown",
   "id": "94a6221b",
   "metadata": {},
   "source": [
    "## Step Size : Jumping"
   ]
  },
  {
   "cell_type": "code",
   "execution_count": 2,
   "id": "c48d7635",
   "metadata": {},
   "outputs": [],
   "source": [
    "mystring = \"abcdefghijk\""
   ]
  },
  {
   "cell_type": "code",
   "execution_count": 3,
   "id": "cb84a8ee",
   "metadata": {},
   "outputs": [
    {
     "data": {
      "text/plain": [
       "'abcdefghijk'"
      ]
     },
     "execution_count": 3,
     "metadata": {},
     "output_type": "execute_result"
    }
   ],
   "source": [
    "mystring [::]      #Complete string call"
   ]
  },
  {
   "cell_type": "code",
   "execution_count": 4,
   "id": "9c9c5649",
   "metadata": {},
   "outputs": [
    {
     "data": {
      "text/plain": [
       "'acegik'"
      ]
     },
     "execution_count": 4,
     "metadata": {},
     "output_type": "execute_result"
    }
   ],
   "source": [
    "mystring [::2]     #Start to end but in jumps"
   ]
  },
  {
   "cell_type": "code",
   "execution_count": 5,
   "id": "09ffb538",
   "metadata": {},
   "outputs": [
    {
     "data": {
      "text/plain": [
       "'cfi'"
      ]
     },
     "execution_count": 5,
     "metadata": {},
     "output_type": "execute_result"
    }
   ],
   "source": [
    "mystring [2:9:3]   #Particular sub part & in jumps"
   ]
  },
  {
   "cell_type": "code",
   "execution_count": 6,
   "id": "82e51aa3",
   "metadata": {},
   "outputs": [
    {
     "data": {
      "text/plain": [
       "'kjihgfedcba'"
      ]
     },
     "execution_count": 6,
     "metadata": {},
     "output_type": "execute_result"
    }
   ],
   "source": [
    "mystring [::-1]    #Complete string but reversed part"
   ]
  },
  {
   "cell_type": "code",
   "execution_count": null,
   "id": "4e7dd6a1",
   "metadata": {},
   "outputs": [],
   "source": []
  }
 ],
 "metadata": {
  "kernelspec": {
   "display_name": "Python 3",
   "language": "python",
   "name": "python3"
  },
  "language_info": {
   "codemirror_mode": {
    "name": "ipython",
    "version": 3
   },
   "file_extension": ".py",
   "mimetype": "text/x-python",
   "name": "python",
   "nbconvert_exporter": "python",
   "pygments_lexer": "ipython3",
   "version": "3.8.8"
  }
 },
 "nbformat": 4,
 "nbformat_minor": 5
}
