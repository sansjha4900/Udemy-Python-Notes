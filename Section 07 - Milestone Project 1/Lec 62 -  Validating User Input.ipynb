{
 "cells": [
  {
   "cell_type": "code",
   "execution_count": 1,
   "id": "809f8b01",
   "metadata": {},
   "outputs": [
    {
     "name": "stdout",
     "output_type": "stream",
     "text": [
      "Enter value: 5\n"
     ]
    }
   ],
   "source": [
    "position = int(input(\"Enter value: \"))"
   ]
  },
  {
   "cell_type": "code",
   "execution_count": 2,
   "id": "c4348fce",
   "metadata": {},
   "outputs": [
    {
     "data": {
      "text/plain": [
       "5"
      ]
     },
     "execution_count": 2,
     "metadata": {},
     "output_type": "execute_result"
    }
   ],
   "source": [
    "position"
   ]
  },
  {
   "cell_type": "code",
   "execution_count": 3,
   "id": "4d91f58d",
   "metadata": {},
   "outputs": [
    {
     "name": "stdout",
     "output_type": "stream",
     "text": [
      "Enter value: two\n"
     ]
    },
    {
     "ename": "ValueError",
     "evalue": "invalid literal for int() with base 10: 'two'",
     "output_type": "error",
     "traceback": [
      "\u001b[1;31m---------------------------------------------------------------------------\u001b[0m",
      "\u001b[1;31mValueError\u001b[0m                                Traceback (most recent call last)",
      "\u001b[1;32m<ipython-input-3-2f333b835183>\u001b[0m in \u001b[0;36m<module>\u001b[1;34m\u001b[0m\n\u001b[1;32m----> 1\u001b[1;33m \u001b[0mposition\u001b[0m \u001b[1;33m=\u001b[0m \u001b[0mint\u001b[0m\u001b[1;33m(\u001b[0m\u001b[0minput\u001b[0m\u001b[1;33m(\u001b[0m\u001b[1;34m\"Enter value: \"\u001b[0m\u001b[1;33m)\u001b[0m\u001b[1;33m)\u001b[0m\u001b[1;33m\u001b[0m\u001b[1;33m\u001b[0m\u001b[0m\n\u001b[0m",
      "\u001b[1;31mValueError\u001b[0m: invalid literal for int() with base 10: 'two'"
     ]
    }
   ],
   "source": [
    "position = int(input(\"Enter value: \"))"
   ]
  },
  {
   "cell_type": "markdown",
   "id": "a3ca9fa0",
   "metadata": {},
   "source": [
    "### To enter valid input:"
   ]
  },
  {
   "cell_type": "code",
   "execution_count": 4,
   "id": "f67004b2",
   "metadata": {},
   "outputs": [],
   "source": [
    "def user_choice():\n",
    "    \n",
    "    choice = \"WRONG\"\n",
    "    acceptable = range(0,10)\n",
    "    within_range = False\n",
    "        \n",
    "    while choice.isdigit() == False or within_range == False:\n",
    "        \n",
    "        choice = input (\"Enter value (0-10): \")\n",
    "        \n",
    "        if choice.isdigit() == False:\n",
    "            print (\"Sorry that's not a digit.\\n\")\n",
    "            \n",
    "        if choice.isdigit() == True:\n",
    "            \n",
    "            if int(choice) in acceptable:\n",
    "                within_range = True\n",
    "                print (\"Your input is correct.\\n\")\n",
    "            else:\n",
    "                within_range = False\n",
    "                print (\"Sorry it's not in range.\\n\")\n",
    "    \n",
    "    return int(choice)\n",
    "    "
   ]
  },
  {
   "cell_type": "code",
   "execution_count": 5,
   "id": "a9c1cf72",
   "metadata": {},
   "outputs": [
    {
     "name": "stdout",
     "output_type": "stream",
     "text": [
      "Enter value (0-10): two\n",
      "Sorry that's not a digit.\n",
      "\n",
      "Enter value (0-10): 15\n",
      "Sorry it's not in range.\n",
      "\n",
      "Enter value (0-10): 7\n",
      "Your input is correct.\n",
      "\n"
     ]
    },
    {
     "data": {
      "text/plain": [
       "7"
      ]
     },
     "execution_count": 5,
     "metadata": {},
     "output_type": "execute_result"
    }
   ],
   "source": [
    "user_choice()"
   ]
  },
  {
   "cell_type": "code",
   "execution_count": null,
   "id": "591d2275",
   "metadata": {},
   "outputs": [],
   "source": []
  }
 ],
 "metadata": {
  "kernelspec": {
   "display_name": "Python 3",
   "language": "python",
   "name": "python3"
  },
  "language_info": {
   "codemirror_mode": {
    "name": "ipython",
    "version": 3
   },
   "file_extension": ".py",
   "mimetype": "text/x-python",
   "name": "python",
   "nbconvert_exporter": "python",
   "pygments_lexer": "ipython3",
   "version": "3.8.8"
  }
 },
 "nbformat": 4,
 "nbformat_minor": 5
}
