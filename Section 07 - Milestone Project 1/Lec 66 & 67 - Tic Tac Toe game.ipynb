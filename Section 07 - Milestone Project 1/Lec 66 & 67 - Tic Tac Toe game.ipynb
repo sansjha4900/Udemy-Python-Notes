{
 "cells": [
  {
   "cell_type": "markdown",
   "id": "eab64819",
   "metadata": {},
   "source": [
    "### Step 1: Function to print out a board."
   ]
  },
  {
   "cell_type": "code",
   "execution_count": 19,
   "id": "bd0fda55",
   "metadata": {},
   "outputs": [],
   "source": [
    "from IPython.display import clear_output\n",
    "\n",
    "def display_board(board):\n",
    "    \n",
    "    clear_output()\n",
    "    \n",
    "    print(board[7]+'|'+board[8]+'|'+board[9])\n",
    "    print('─────')\n",
    "    print(board[4]+'|'+board[5]+'|'+board[6])\n",
    "    print('─────')\n",
    "    print(board[1]+'|'+board[2]+'|'+board[3])"
   ]
  },
  {
   "cell_type": "code",
   "execution_count": 20,
   "id": "788a82a1",
   "metadata": {},
   "outputs": [
    {
     "name": "stdout",
     "output_type": "stream",
     "text": [
      "X|O|X\n",
      "─────\n",
      "O|X|O\n",
      "─────\n",
      "X|O|X\n"
     ]
    }
   ],
   "source": [
    "#Test 1:\n",
    "\n",
    "test_board = ['#','X','O','X','O','X','O','X','O','X']\n",
    "display_board(test_board)"
   ]
  },
  {
   "cell_type": "markdown",
   "id": "5b0318e8",
   "metadata": {},
   "source": [
    "### Step 2: Function to take input & assign X or O."
   ]
  },
  {
   "cell_type": "code",
   "execution_count": 3,
   "id": "ee26f627",
   "metadata": {},
   "outputs": [],
   "source": [
    "def player_input():\n",
    "    \n",
    "    \"\"\" OUTPUT = (Player 1 marker, PLayer 2 marker) \"\"\"\n",
    "    \n",
    "    marker = ''\n",
    "    \n",
    "    #can use ~ while not (marker == 'X' or marker == 'O')\n",
    "    \n",
    "    while marker != 'X' and marker != 'O':\n",
    "        marker = input(\"Player 1, choose X or O: \").upper()\n",
    "    \n",
    "    if marker == 'X':\n",
    "        return ('X','O')\n",
    "    else:\n",
    "        return ('O','X')"
   ]
  },
  {
   "cell_type": "code",
   "execution_count": 4,
   "id": "7bf93f38",
   "metadata": {},
   "outputs": [
    {
     "name": "stdout",
     "output_type": "stream",
     "text": [
      "Player 1, choose X or O: X\n"
     ]
    },
    {
     "data": {
      "text/plain": [
       "('X', 'O')"
      ]
     },
     "execution_count": 4,
     "metadata": {},
     "output_type": "execute_result"
    }
   ],
   "source": [
    "#Test 2:\n",
    "\n",
    "player_input()"
   ]
  },
  {
   "cell_type": "code",
   "execution_count": 5,
   "id": "ebe86058",
   "metadata": {},
   "outputs": [
    {
     "name": "stdout",
     "output_type": "stream",
     "text": [
      "Player 1, choose X or O: X\n"
     ]
    }
   ],
   "source": [
    "player1_marker, player2_marker = player_input()"
   ]
  },
  {
   "cell_type": "code",
   "execution_count": 6,
   "id": "a3a7273c",
   "metadata": {},
   "outputs": [
    {
     "data": {
      "text/plain": [
       "'X'"
      ]
     },
     "execution_count": 6,
     "metadata": {},
     "output_type": "execute_result"
    }
   ],
   "source": [
    "player1_marker"
   ]
  },
  {
   "cell_type": "code",
   "execution_count": 7,
   "id": "7ea787b5",
   "metadata": {},
   "outputs": [
    {
     "data": {
      "text/plain": [
       "'O'"
      ]
     },
     "execution_count": 7,
     "metadata": {},
     "output_type": "execute_result"
    }
   ],
   "source": [
    "player2_marker"
   ]
  },
  {
   "cell_type": "markdown",
   "id": "1d169ffc",
   "metadata": {},
   "source": [
    "### Step 3: Function takes X or O, desired position & assign it."
   ]
  },
  {
   "cell_type": "code",
   "execution_count": 8,
   "id": "17be3237",
   "metadata": {},
   "outputs": [],
   "source": [
    "def place_marker(board, marker, position):\n",
    "    \n",
    "    board[position] = marker"
   ]
  },
  {
   "cell_type": "code",
   "execution_count": 9,
   "id": "11d75fd7",
   "metadata": {
    "scrolled": true
   },
   "outputs": [
    {
     "name": "stdout",
     "output_type": "stream",
     "text": [
      "X|$|X\n",
      "─────\n",
      "O|X|O\n",
      "─────\n",
      "X|O|X\n"
     ]
    }
   ],
   "source": [
    "#Test 3:\n",
    "\n",
    "place_marker(test_board,'$',8)\n",
    "display_board(test_board)"
   ]
  },
  {
   "cell_type": "code",
   "execution_count": 10,
   "id": "aa2c25e9",
   "metadata": {},
   "outputs": [
    {
     "data": {
      "text/plain": [
       "['#', 'X', 'O', 'X', 'O', 'X', 'O', 'X', '$', 'X']"
      ]
     },
     "execution_count": 10,
     "metadata": {},
     "output_type": "execute_result"
    }
   ],
   "source": [
    "test_board"
   ]
  },
  {
   "cell_type": "markdown",
   "id": "de1d275d",
   "metadata": {},
   "source": [
    "### Step 4: Function to take board list in, mark X or O, and to check if mark has won:"
   ]
  },
  {
   "cell_type": "code",
   "execution_count": 11,
   "id": "8d74e6f2",
   "metadata": {},
   "outputs": [],
   "source": [
    "def win_check(board, mark):\n",
    "    \n",
    "    # can do ~ (board[1] == board[2] == board[3] == mark) ... \n",
    "    # similarly for other 2 rows, 3 columns and 2 diagonals.\n",
    "    \n",
    "    return ((board[7] == mark and board[8] == mark and board[9] == mark) or # across the top\n",
    "    (board[4] == mark and board[5] == mark and board[6] == mark) or         # across the middle\n",
    "    (board[1] == mark and board[2] == mark and board[3] == mark) or         # across the bottom\n",
    "    (board[7] == mark and board[4] == mark and board[1] == mark) or         # down the left\n",
    "    (board[8] == mark and board[5] == mark and board[2] == mark) or         # down the middle\n",
    "    (board[9] == mark and board[6] == mark and board[3] == mark) or         # down the right\n",
    "    (board[7] == mark and board[5] == mark and board[3] == mark) or         # diagonal 1\n",
    "    (board[9] == mark and board[5] == mark and board[1] == mark))           # diagonal 2"
   ]
  },
  {
   "cell_type": "code",
   "execution_count": 12,
   "id": "df2edd44",
   "metadata": {},
   "outputs": [
    {
     "name": "stdout",
     "output_type": "stream",
     "text": [
      "X|$|X\n",
      "─────\n",
      "O|X|O\n",
      "─────\n",
      "X|O|X\n"
     ]
    },
    {
     "data": {
      "text/plain": [
       "True"
      ]
     },
     "execution_count": 12,
     "metadata": {},
     "output_type": "execute_result"
    }
   ],
   "source": [
    "#Test 4:\n",
    "\n",
    "display_board(test_board)\n",
    "win_check(test_board,'X')"
   ]
  },
  {
   "cell_type": "markdown",
   "id": "ab8379b9",
   "metadata": {},
   "source": [
    "### Step 5: Function to randomly choose which player goes 1st."
   ]
  },
  {
   "cell_type": "code",
   "execution_count": 13,
   "id": "53b157d7",
   "metadata": {},
   "outputs": [],
   "source": [
    "import random\n",
    "\n",
    "def choose_first():\n",
    "    \n",
    "    flip = random.randint(0,1)\n",
    "    \n",
    "    if flip == 0:\n",
    "        return \"Player 1\"\n",
    "    else:\n",
    "        return \"Player 2\""
   ]
  },
  {
   "cell_type": "markdown",
   "id": "2b7d0241",
   "metadata": {},
   "source": [
    "### Step 6: Function to tell if free space is available."
   ]
  },
  {
   "cell_type": "code",
   "execution_count": 14,
   "id": "dab3b3bf",
   "metadata": {},
   "outputs": [],
   "source": [
    "def space_check(board,position):\n",
    "    \n",
    "    return board[position] == ' '"
   ]
  },
  {
   "cell_type": "markdown",
   "id": "760a5dc5",
   "metadata": {},
   "source": [
    "### Step 7: Function to tell if board is full. If full true, else false."
   ]
  },
  {
   "cell_type": "code",
   "execution_count": 15,
   "id": "34949a10",
   "metadata": {},
   "outputs": [],
   "source": [
    "def full_board_check(board):\n",
    "    \n",
    "    for i in range(1,10):\n",
    "        if space_check(board,i):\n",
    "            return False\n",
    "        \n",
    "    return True"
   ]
  },
  {
   "cell_type": "markdown",
   "id": "ca29d3ae",
   "metadata": {},
   "source": [
    "### Step 8: Ask for next position, check step 6, & use position later."
   ]
  },
  {
   "cell_type": "code",
   "execution_count": 16,
   "id": "8076d3e7",
   "metadata": {},
   "outputs": [],
   "source": [
    "def player_choice(board):\n",
    "    \n",
    "    position = 0\n",
    "    \n",
    "    while position not in range(1,10) or not space_check(board,position):\n",
    "        position = int(input(\"Choose a position (1-9): \"))\n",
    "            \n",
    "    return position"
   ]
  },
  {
   "cell_type": "markdown",
   "id": "c5929f28",
   "metadata": {},
   "source": [
    "### Step 9: Ask if wanna play again & return boolean vlaue."
   ]
  },
  {
   "cell_type": "code",
   "execution_count": 17,
   "id": "b4823859",
   "metadata": {},
   "outputs": [],
   "source": [
    "def replay():\n",
    "    \n",
    "    choice = input (\"Play again? Yes or No: \")\n",
    "    \n",
    "    return choice == \"Y\""
   ]
  },
  {
   "cell_type": "markdown",
   "id": "34243bf2",
   "metadata": {},
   "source": [
    "### Step 10: Use logic to sequentially set functions to run full game:"
   ]
  },
  {
   "cell_type": "code",
   "execution_count": 21,
   "id": "73404e9b",
   "metadata": {},
   "outputs": [
    {
     "name": "stdout",
     "output_type": "stream",
     "text": [
      "O|X|O\n",
      "─────\n",
      "X|O|O\n",
      "─────\n",
      "X|O|X\n",
      "The game is tie!\n",
      "Play again? Yes or No: N\n"
     ]
    }
   ],
   "source": [
    "# While loop to keep running the game\n",
    "\n",
    "print (\"Welcome to Tic Tac Toe game.\")\n",
    "\n",
    "while True:\n",
    "    \n",
    "# Play the game\n",
    "    \n",
    "## Set up - Board, Who's first, markers X,O\n",
    "\n",
    "    the_board = [' ']*10\n",
    "    player1_marker, player2_marker = player_input()\n",
    "    \n",
    "    turn = choose_first()\n",
    "    print (turn + \" will go first.\")\n",
    "    \n",
    "    play_game = input(\"Ready to play? Y or N?\")\n",
    "    if play_game == \"Y\":\n",
    "        game_on = True\n",
    "    else:\n",
    "        game_on = False\n",
    "    \n",
    "## Game play\n",
    "    \n",
    "    ### PLayer one turn\n",
    "    \n",
    "    while game_on:\n",
    "        if turn == \"Player 1\":\n",
    "            \n",
    "            # Show the board\n",
    "            display_board(the_board)\n",
    "            \n",
    "            # Choose the position\n",
    "            position = player_choice(the_board)\n",
    "            \n",
    "            # Place the marker on position\n",
    "            place_marker(the_board, player1_marker, position)\n",
    "            \n",
    "            # Check if they won\n",
    "            if win_check(the_board,player1_marker):\n",
    "                display_board(the_board)\n",
    "                print (\"Player 1 has won!\")\n",
    "                game_on = False\n",
    "                \n",
    "            # Check if there's tie\n",
    "            else:\n",
    "                if full_board_check(the_board):\n",
    "                    display_board(the_board)\n",
    "                    print (\"The game is tie!\")\n",
    "                    game_on = False\n",
    "            # No tie and no win? Player 2 turn\n",
    "                else:\n",
    "                    turn = \"Player 2\"\n",
    "                    \n",
    "        ### Player two turn\n",
    "        \n",
    "        else:\n",
    "            # Show the board\n",
    "            display_board(the_board)\n",
    "            \n",
    "            # Choose the position\n",
    "            position = player_choice(the_board)\n",
    "            \n",
    "            # Place the marker on position\n",
    "            place_marker(the_board, player2_marker, position)\n",
    "            \n",
    "            # Check if they won\n",
    "            if win_check(the_board,player2_marker):\n",
    "                display_board(the_board)\n",
    "                print (\"Player 2 has won!\")\n",
    "                game_on = False\n",
    "                \n",
    "            # Check if there's tie\n",
    "            else:\n",
    "                if full_board_check(the_board):\n",
    "                    display_board(the_board)\n",
    "                    print (\"The game is tie!\")\n",
    "                    game_on = False\n",
    "            # No tie and no win? Player 1 turn\n",
    "                else:\n",
    "                    turn = \"Player 1\"\n",
    "            \n",
    "    if not replay():\n",
    "        break\n",
    "\n",
    "# Break out of while loop by replay()"
   ]
  },
  {
   "cell_type": "code",
   "execution_count": null,
   "id": "ff3f8b14",
   "metadata": {},
   "outputs": [],
   "source": []
  }
 ],
 "metadata": {
  "kernelspec": {
   "display_name": "Python 3",
   "language": "python",
   "name": "python3"
  },
  "language_info": {
   "codemirror_mode": {
    "name": "ipython",
    "version": 3
   },
   "file_extension": ".py",
   "mimetype": "text/x-python",
   "name": "python",
   "nbconvert_exporter": "python",
   "pygments_lexer": "ipython3",
   "version": "3.8.8"
  }
 },
 "nbformat": 4,
 "nbformat_minor": 5
}
