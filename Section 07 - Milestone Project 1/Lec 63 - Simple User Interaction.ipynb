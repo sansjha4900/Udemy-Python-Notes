{
 "cells": [
  {
   "cell_type": "markdown",
   "id": "56ae2707",
   "metadata": {},
   "source": [
    "## Display the game:"
   ]
  },
  {
   "cell_type": "code",
   "execution_count": 1,
   "id": "6b3f4b1c",
   "metadata": {},
   "outputs": [],
   "source": [
    "game_list = [0,1,2]"
   ]
  },
  {
   "cell_type": "code",
   "execution_count": 2,
   "id": "750fb465",
   "metadata": {},
   "outputs": [],
   "source": [
    "def display_game(game_list):\n",
    "    print (\"Here is your current list: \", game_list, \"\\n\")"
   ]
  },
  {
   "cell_type": "code",
   "execution_count": 3,
   "id": "abe1c2ba",
   "metadata": {},
   "outputs": [
    {
     "name": "stdout",
     "output_type": "stream",
     "text": [
      "Here is your current list:  [0, 1, 2] \n",
      "\n"
     ]
    }
   ],
   "source": [
    "display_game(game_list)"
   ]
  },
  {
   "cell_type": "markdown",
   "id": "80441b4a",
   "metadata": {},
   "source": [
    "## Choose a position:"
   ]
  },
  {
   "cell_type": "code",
   "execution_count": 4,
   "id": "7107107f",
   "metadata": {},
   "outputs": [],
   "source": [
    "def position_choice():\n",
    "    \n",
    "    choice = 'wrong'\n",
    "    \n",
    "    while choice not in ['0','1','2']:\n",
    "        \n",
    "        choice = input(\"Pick a position (0,1,2): \")\n",
    "        \n",
    "        if choice not in ['0','1','2']:\n",
    "            print (\"Sorry, invalid choice!\\n\")\n",
    "            \n",
    "        if choice in ['0','1','2']:\n",
    "            print (\"Your I/P is correct!\\n\")\n",
    "            \n",
    "    return int(choice)"
   ]
  },
  {
   "cell_type": "code",
   "execution_count": 5,
   "id": "43d106e1",
   "metadata": {},
   "outputs": [
    {
     "name": "stdout",
     "output_type": "stream",
     "text": [
      "Pick a position (0,1,2): two\n",
      "Sorry, invalid choice!\n",
      "\n",
      "Pick a position (0,1,2): 15\n",
      "Sorry, invalid choice!\n",
      "\n",
      "Pick a position (0,1,2): 2\n",
      "Your I/P is correct!\n",
      "\n"
     ]
    },
    {
     "data": {
      "text/plain": [
       "2"
      ]
     },
     "execution_count": 5,
     "metadata": {},
     "output_type": "execute_result"
    }
   ],
   "source": [
    "position_choice()"
   ]
  },
  {
   "cell_type": "markdown",
   "id": "f8e4e71e",
   "metadata": {},
   "source": [
    "## Replacement Choice:"
   ]
  },
  {
   "cell_type": "code",
   "execution_count": 6,
   "id": "a8c9addc",
   "metadata": {},
   "outputs": [],
   "source": [
    "def replacement_choice(game_list,position):\n",
    "    \n",
    "    user_choice = input(\"Type a string for position: \")\n",
    "    \n",
    "    game_list[position] = user_choice\n",
    "    \n",
    "    return game_list"
   ]
  },
  {
   "cell_type": "code",
   "execution_count": 7,
   "id": "b6266369",
   "metadata": {},
   "outputs": [
    {
     "name": "stdout",
     "output_type": "stream",
     "text": [
      "Type a string for position: test\n"
     ]
    },
    {
     "data": {
      "text/plain": [
       "[0, 1, 'test']"
      ]
     },
     "execution_count": 7,
     "metadata": {},
     "output_type": "execute_result"
    }
   ],
   "source": [
    "replacement_choice(game_list,2)"
   ]
  },
  {
   "cell_type": "markdown",
   "id": "cab9a4ca",
   "metadata": {},
   "source": [
    "## Continue Playing:"
   ]
  },
  {
   "cell_type": "code",
   "execution_count": 8,
   "id": "035cd123",
   "metadata": {},
   "outputs": [],
   "source": [
    "def gameon_choice():\n",
    "    \n",
    "    choice = 'wrong'\n",
    "    \n",
    "    while choice not in ['Yes','No']:\n",
    "        \n",
    "        choice = input(\"Keep playing? (Yes or No): \")\n",
    "        \n",
    "        if choice not in ['Yes','No']:\n",
    "            print (\"Sorry, invalid choice!\\n\")\n",
    "            \n",
    "    if choice == \"Yes\":\n",
    "        return True\n",
    "    else:\n",
    "        return False"
   ]
  },
  {
   "cell_type": "code",
   "execution_count": 9,
   "id": "eee2a482",
   "metadata": {},
   "outputs": [
    {
     "name": "stdout",
     "output_type": "stream",
     "text": [
      "Keep playing? (Yes or No): nope\n",
      "Sorry, invalid choice!\n",
      "\n",
      "Keep playing? (Yes or No): Yes\n"
     ]
    },
    {
     "data": {
      "text/plain": [
       "True"
      ]
     },
     "execution_count": 9,
     "metadata": {},
     "output_type": "execute_result"
    }
   ],
   "source": [
    "gameon_choice()"
   ]
  },
  {
   "cell_type": "markdown",
   "id": "9234a84d",
   "metadata": {},
   "source": [
    "## Logic to run game:"
   ]
  },
  {
   "cell_type": "code",
   "execution_count": 10,
   "id": "4c02bd1e",
   "metadata": {
    "scrolled": true
   },
   "outputs": [
    {
     "name": "stdout",
     "output_type": "stream",
     "text": [
      "Here is your current list:  [0, 1, 2] \n",
      "\n",
      "Pick a position (0,1,2): two\n",
      "Sorry, invalid choice!\n",
      "\n",
      "Pick a position (0,1,2): 1\n",
      "Your I/P is correct!\n",
      "\n",
      "Type a string for position: new\n",
      "Here is your current list:  [0, 'new', 2] \n",
      "\n",
      "Keep playing? (Yes or No): No\n"
     ]
    }
   ],
   "source": [
    "game_on = True\n",
    "game_list = [0,1,2]\n",
    "\n",
    "while game_on:\n",
    "    \n",
    "    display_game(game_list)\n",
    "    \n",
    "    position = position_choice()\n",
    "    \n",
    "    game_list = replacement_choice(game_list,position)\n",
    "    \n",
    "    display_game(game_list)\n",
    "    \n",
    "    game_on = gameon_choice()"
   ]
  }
 ],
 "metadata": {
  "kernelspec": {
   "display_name": "Python 3",
   "language": "python",
   "name": "python3"
  },
  "language_info": {
   "codemirror_mode": {
    "name": "ipython",
    "version": 3
   },
   "file_extension": ".py",
   "mimetype": "text/x-python",
   "name": "python",
   "nbconvert_exporter": "python",
   "pygments_lexer": "ipython3",
   "version": "3.8.8"
  }
 },
 "nbformat": 4,
 "nbformat_minor": 5
}
